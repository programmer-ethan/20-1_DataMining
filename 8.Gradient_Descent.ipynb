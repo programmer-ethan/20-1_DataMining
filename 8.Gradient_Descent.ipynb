{
 "cells": [
  {
   "cell_type": "code",
   "execution_count": 1,
   "metadata": {},
   "outputs": [],
   "source": [
    "from collections import Counter\n",
    "from scratch.linear_algebra import distance, subtract, scalar_multiply\n",
    "from functools import reduce\n",
    "import math, random"
   ]
  },
  {
   "cell_type": "code",
   "execution_count": 2,
   "metadata": {},
   "outputs": [],
   "source": [
    "def sum_of_squares(v):\n",
    "    \"\"\"computes the sum of squared elements in v\"\"\"\n",
    "    return sum(v_i ** 2 for v_i in v)"
   ]
  },
  {
   "cell_type": "code",
   "execution_count": 3,
   "metadata": {},
   "outputs": [],
   "source": [
    "def difference_quotient(f, x, h):\n",
    "    return (f(x + h) - f(x)) / h"
   ]
  },
  {
   "cell_type": "code",
   "execution_count": 4,
   "metadata": {},
   "outputs": [],
   "source": [
    "def plot_estimated_derivative():\n",
    "    def square(x):\n",
    "        return x * x\n",
    "    def derivative(x):\n",
    "        return 2 * x\n",
    "    derivative_estimate = lambda x: difference_quotient(square, x, h=0.00001)\n",
    "# plot to show they're basically the same\n",
    "    import matplotlib.pyplot as plt\n",
    "    x = range(-10,10)\n",
    "    plt.plot(x, list(map(derivative, x)), 'rx', label='Actual') # red x\n",
    "    plt.plot(x, list(map(derivative_estimate, x)), 'b+', label='Estimate') # blue +\n",
    "    plt.legend(loc=9)\n",
    "    plt.title('Actual vs Estimate')\n",
    "    plt.show() "
   ]
  },
  {
   "cell_type": "code",
   "execution_count": 5,
   "metadata": {},
   "outputs": [
    {
     "data": {
      "image/png": "[encoded data removed]",
      "text/plain": [
       "<Figure size 432x288 with 1 Axes>"
      ]
     },
     "metadata": {
      "needs_background": "light"
     },
     "output_type": "display_data"
    }
   ],
   "source": [
    "%matplotlib inline\n",
    "plot_estimated_derivative()"
   ]
  },
  {
   "cell_type": "markdown",
   "metadata": {},
   "source": [
    "Numerical gradient"
   ]
  },
  {
   "cell_type": "markdown",
   "metadata": {},
   "source": [
    "When f is a function of many variables, it has multiple partial derivatives, each indicating how f changes\n",
    "when we make small changes in just one of the input variables.\n",
    "We calculate its ith partial derivative by treating it as a function of just its ith variable, holding the other\n",
    "variables fixed:"
   ]
  },
  {
   "cell_type": "code",
   "execution_count": 6,
   "metadata": {},
   "outputs": [],
   "source": [
    "def partial_difference_quotient(f, v, i, h):\n",
    " # add h to just the i-th element of v\n",
    "    w = [v_j + (h if j == i else 0)\n",
    "    for j, v_j in enumerate(v)]\n",
    "    return (f(w) - f(v)) / h"
   ]
  },
  {
   "cell_type": "code",
   "execution_count": 7,
   "metadata": {},
   "outputs": [],
   "source": [
    "def estimate_gradient(f, v, h=0.00001):\n",
    "    return [partial_difference_quotient(f, v, i, h)\n",
    "            for i, _ in enumerate(v)]"
   ]
  },
  {
   "cell_type": "code",
   "execution_count": 8,
   "metadata": {},
   "outputs": [
    {
     "data": {
      "text/plain": [
       "[2.00001000001393, 2.00001000001393, 2.00001000001393]"
      ]
     },
     "execution_count": 8,
     "metadata": {},
     "output_type": "execute_result"
    }
   ],
   "source": [
    "estimate_gradient(sum_of_squares, [1.,1.,1])"
   ]
  },
  {
   "cell_type": "code",
   "execution_count": 9,
   "metadata": {},
   "outputs": [],
   "source": [
    "import numpy as np\n",
    "def estimate_gradient_np(f, v, h=0.00001):\n",
    "    return (np.apply_along_axis(f, 1, v + h * np.eye(v.shape[0])) - f(v)) / h"
   ]
  },
  {
   "cell_type": "code",
   "execution_count": 10,
   "metadata": {},
   "outputs": [
    {
     "data": {
      "text/plain": [
       "array([2.00001, 2.00001, 2.00001])"
      ]
     },
     "execution_count": 10,
     "metadata": {},
     "output_type": "execute_result"
    }
   ],
   "source": [
    "estimate_gradient_np(lambda v: np.sum(v * v), np.array([1.,1.,1]))"
   ]
  },
  {
   "cell_type": "markdown",
   "metadata": {},
   "source": [
    "Using the Gradient"
   ]
  },
  {
   "cell_type": "markdown",
   "metadata": {},
   "source": [
    "The sum_of_squares function is smallest when its input v is a vector of zeros.\n",
    "We want to verify the fact using gradient descent.\n",
    "(Gradient descent) Let’s use gradients to find the minimum among all three-dimensional vectors. We’ll\n",
    "just pick a random starting point and then take tiny steps in the opposite direction of the gradient until we\n",
    "reach a point where the gradient is very small"
   ]
  },
  {
   "cell_type": "code",
   "execution_count": 11,
   "metadata": {},
   "outputs": [],
   "source": [
    "def step(v, direction, step_size):\n",
    "    \"\"\"move step_size in the direction from v\"\"\"\n",
    "    return [v_i + step_size * direction_i\n",
    "    for v_i, direction_i in zip(v, direction)]\n",
    "def sum_of_squares_gradient(v):\n",
    "    return [2 * v_i for v_i in v]\n"
   ]
  },
  {
   "cell_type": "code",
   "execution_count": 12,
   "metadata": {},
   "outputs": [],
   "source": [
    "def step_np(v, direction, step_size):\n",
    "    \"\"\"move step_size in the direction from v\"\"\"\n",
    "    return v + step_size * direction\n",
    "def sum_of_squares_gradient_np(v):\n",
    "    return 2 * v"
   ]
  },
  {
   "cell_type": "code",
   "execution_count": 13,
   "metadata": {},
   "outputs": [
    {
     "name": "stdout",
     "output_type": "stream",
     "text": [
      "using the gradient\n",
      "minimum v [-4.816976178530657e-07, 4.335278560677595e-06, -2.4084880892653316e-06]\n",
      "minimum value 2.4827487669849083e-11\n",
      "\n"
     ]
    }
   ],
   "source": [
    "print(\"using the gradient\")\n",
    "v = [random.randint(-10,10) for i in range(3)]\n",
    "tolerance = 0.0000001\n",
    "while True:\n",
    " #print(v, sum_of_squares(v))\n",
    "    gradient = sum_of_squares_gradient(v) # compute the gradient at v\n",
    "    next_v = step(v, gradient, -0.01) # take a negative gradient step\n",
    "    if distance(next_v, v) < tolerance: # stop if we're converging\n",
    "        break\n",
    "    v = next_v # continue if we're not\n",
    "print(\"minimum v\", v)\n",
    "print(\"minimum value\", sum_of_squares(v))\n",
    "print()"
   ]
  },
  {
   "cell_type": "markdown",
   "metadata": {},
   "source": [
    "Choosing the Right Step Size (or Learning rate)"
   ]
  },
  {
   "cell_type": "markdown",
   "metadata": {},
   "source": [
    "Although the rationale for moving against the gradient is clear, how far to move is not. Indeed, choosing the\n",
    "right step size is more of an art than a science. Popular options include:\n",
    "Using a fixed step size\n",
    "Gradually shrinking the step size over time\n",
    "At each step, choosing the step size that minimizes the value of the objective function\n",
    "The last sounds optimal but is, in practice, a costly computation. We can approximate it by trying a variety of\n",
    "step sizes and choosing the one that results in the smallest value of the objective function:"
   ]
  },
  {
   "cell_type": "code",
   "execution_count": 14,
   "metadata": {},
   "outputs": [],
   "source": [
    "step_sizes = [100, 10, 1, 0.1, 0.01, 0.001, 0.0001, 0.00001]"
   ]
  },
  {
   "cell_type": "code",
   "execution_count": 15,
   "metadata": {},
   "outputs": [
    {
     "data": {
      "image/png": "[encoded data removed]",
      "text/plain": [
       "<Figure size 432x288 with 1 Axes>"
      ]
     },
     "metadata": {
      "needs_background": "light"
     },
     "output_type": "display_data"
    }
   ],
   "source": [
    "import numpy as np\n",
    "import matplotlib.pyplot as plt\n",
    "def sum_of_squares_gradient_np(v):\n",
    "    return 2 * v\n",
    "def gradient_descent(gradient_f, init_x, lr=0.01, step_num=10000, tolerance=0.0000001):\n",
    "    x = init_x\n",
    "    x_history = []\n",
    "    for i in range(step_num):\n",
    "        x_history.append(x.copy())\n",
    "        x_prev = x.copy()\n",
    "        x -= lr * gradient_f(x)\n",
    "        if np.linalg.norm(x - x_prev) < tolerance: # stop if we're converging\n",
    "            break\n",
    "    return x, x_history#!! indenting 잘못해서!!!\n",
    "    \n",
    "init_x = np.array([-1.0, 1.0])\n",
    "\n",
    "lr = 0.1# try with 10, 1.1, 1, 0.1, 0.01\n",
    "step_num = 100 \n",
    "x, x_history = gradient_descent(sum_of_squares_gradient_np, init_x, lr=lr, step_num=step_num)\n",
    "plt.plot( [-5, 5], [0,0], '--b')\n",
    "plt.plot( [0,0], [-5, 5], '--b')\n",
    "x_history = np.array(x_history)\n",
    "plt.plot(x_history[:,0], x_history[:,1], 'o')\n",
    "plt.xlim(-3.5, 3.5)\n",
    "plt.ylim(-4.5, 4.5)\n",
    "plt.xlabel(\"X0\")\n",
    "plt.ylabel(\"X1\")\n",
    "plt.show()"
   ]
  },
  {
   "cell_type": "code",
   "execution_count": 16,
   "metadata": {},
   "outputs": [],
   "source": [
    "def safe(f):\n",
    "    \"\"\"define a new function that wraps f and return it\"\"\"\n",
    "    def safe_f(*args, **kwargs):\n",
    "        try:\n",
    "            return f(*args, **kwargs)\n",
    "        except:\n",
    "            return float('inf') # this means \"infinity\" in Python\n",
    "    return safe_f\n"
   ]
  },
  {
   "cell_type": "markdown",
   "metadata": {},
   "source": [
    "Putting It All Together"
   ]
  },
  {
   "cell_type": "markdown",
   "metadata": {},
   "source": [
    "In the general case, we have some target_fn that we want to minimize, and we also have its gradient_fn . For\n",
    "example, the target_fn could represent the errors in a model as a function of its parameters, and we\n",
    "might want to find the parameters that make the errors as small as possible."
   ]
  },
  {
   "cell_type": "code",
   "execution_count": 17,
   "metadata": {},
   "outputs": [],
   "source": [
    "def minimize_batch(target_fn, gradient_fn, theta_0, tolerance=0.000001):\n",
    "    \"\"\"use gradient descent to find theta that minimizes target function\"\"\"\n",
    "    step_sizes = [100, 10, 1, 0.1, 0.01, 0.001, 0.0001, 0.00001]\n",
    "    theta = theta_0 # set theta to initial value\n",
    "    target_fn = safe(target_fn) # safe version of target_fn\n",
    "    value = target_fn(theta) # value we're minimizing\n",
    "    while True:\n",
    "        gradient = gradient_fn(theta)\n",
    "        next_thetas = [step(theta, gradient, -step_size)\n",
    "                    for step_size in step_sizes]\n",
    "        # choose the one that minimizes the error function\n",
    "        next_theta = min(next_thetas, key=target_fn)\n",
    "        next_value = target_fn(next_theta)\n",
    "        # stop if we're \"converging\"\n",
    "        if abs(value - next_value) < tolerance:\n",
    "            return theta\n",
    "        else:\n",
    "            theta, value = next_theta, next_value"
   ]
  },
  {
   "cell_type": "markdown",
   "metadata": {},
   "source": [
    "Example : Minimizing sum_of_squares"
   ]
  },
  {
   "cell_type": "code",
   "execution_count": 18,
   "metadata": {},
   "outputs": [
    {
     "data": {
      "text/plain": [
       "[0.0006805647338418772,\n",
       " 0.0013611294676837543,\n",
       " 0.00027222589353675085,\n",
       " 0.0003402823669209386]"
      ]
     },
     "execution_count": 18,
     "metadata": {},
     "output_type": "execute_result"
    }
   ],
   "source": [
    "minimize_batch(sum_of_squares, sum_of_squares_gradient, [10,20,4,5])"
   ]
  },
  {
   "cell_type": "code",
   "execution_count": 19,
   "metadata": {},
   "outputs": [
    {
     "data": {
      "text/plain": [
       "[0.0006805647338418772,\n",
       " 0.0013611294676837543,\n",
       " 0.00027222589353675085,\n",
       " 0.0003402823669209386,\n",
       " 0.0,\n",
       " 6.805647338418771e-05]"
      ]
     },
     "execution_count": 19,
     "metadata": {},
     "output_type": "execute_result"
    }
   ],
   "source": [
    "minimize_batch(sum_of_squares, sum_of_squares_gradient, [10,20,4,5,0,1])"
   ]
  },
  {
   "cell_type": "markdown",
   "metadata": {},
   "source": [
    "Example : Centering a certain point"
   ]
  },
  {
   "cell_type": "code",
   "execution_count": 20,
   "metadata": {},
   "outputs": [
    {
     "data": {
      "text/plain": [
       "[3.0016059738814325, 2.000015426605225]"
      ]
     },
     "execution_count": 20,
     "metadata": {},
     "output_type": "execute_result"
    }
   ],
   "source": [
    "def myf(v):\n",
    "    return (v[0]-3)**2 + (v[1]-2)**2\n",
    "def myf_gradient(v):\n",
    "    return [2.0*v[0]-6, 2.0*v[1]-4]\n",
    "minimize_batch(myf, myf_gradient, [5000.,50.])"
   ]
  },
  {
   "cell_type": "code",
   "execution_count": 21,
   "metadata": {},
   "outputs": [
    {
     "data": {
      "text/plain": [
       "[6.999843894783611, 69.99843894783609, 6.999843894783611, 3.9999107970192056]"
      ]
     },
     "execution_count": 21,
     "metadata": {},
     "output_type": "execute_result"
    }
   ],
   "source": [
    "from functools import partial\n",
    "def f1(x, c):\n",
    "    x = np.array(x)\n",
    "    c = np.array(c)\n",
    "    return np.sum((x - c)**2)\n",
    "def f1_gradient(x, c):\n",
    "    x = np.array(x)\n",
    "    c = np.array(c)\n",
    "    return 2*x - 2*c\n",
    "def numerical_gradient(v, f, h=0.00001):\n",
    "    return (f(v) - np.apply_along_axis(f, 1, v - h * np.eye(len(v)))) / h\n",
    "c = np.array([7,70,7,4])\n",
    "f = partial(f1, c=c)\n",
    "#gradient_f = partial(numerical_gradient, f=f)\n",
    "gradient_f = partial(f1_gradient, c=c)\n",
    "minimize_batch(f, gradient_f, [0,0,0,0])"
   ]
  },
  {
   "cell_type": "code",
   "execution_count": 22,
   "metadata": {},
   "outputs": [],
   "source": [
    "def negate(f):\n",
    "    \"\"\"return a function that for any input x returns -f(x)\"\"\"\n",
    "    return lambda *args, **kwargs: -f(*args, **kwargs)\n",
    "def negate_all(f):\n",
    "    \"\"\"the same when f returns a list of numbers\"\"\"\n",
    "    return lambda *args, **kwargs: [-y for y in f(*args, **kwargs)]\n",
    "def maximize_batch(target_fn, gradient_fn, theta_0, tolerance=0.000001):\n",
    "    return minimize_batch(negate(target_fn),\n",
    "                            negate_all(gradient_fn),\n",
    "                            theta_0,\n",
    "                            tolerance)"
   ]
  },
  {
   "cell_type": "code",
   "execution_count": 23,
   "metadata": {},
   "outputs": [
    {
     "data": {
      "text/plain": [
       "[-0.0023954427570109793]"
      ]
     },
     "execution_count": 23,
     "metadata": {},
     "output_type": "execute_result"
    }
   ],
   "source": [
    "from functools import partial\n",
    "def normal_pdf(npx, mu, sigma):\n",
    "    x = npx[0]\n",
    "    return ((1/(np.sqrt(2*np.pi)*sigma)*np.exp(-(x-mu)**2/(2*sigma**2))))\n",
    "def numerical_gradient(v, f, h=0.00001):\n",
    "    return (np.apply_along_axis(f, 1, v + h * np.eye(len(v))) - f(v)) / h\n",
    "f = partial(normal_pdf, mu=0, sigma=1)\n",
    "gradient_f = partial(numerical_gradient, f=f)\n",
    "init_x = np.array([-4.])\n",
    "maximize_batch(f, gradient_f, init_x)"
   ]
  },
  {
   "cell_type": "code",
   "execution_count": 24,
   "metadata": {},
   "outputs": [],
   "source": [
    "#\n",
    "# minimize / maximize stochastic\n",
    "#\n",
    "def in_random_order(data):\n",
    "    \"\"\"generator that returns the elements of data in random order\"\"\"\n",
    "    indexes = [i for i, _ in enumerate(data)] # create a list of indexes\n",
    "    random.shuffle(indexes) # shuffle them\n",
    "    for i in indexes: # return the data in that order\n",
    "        yield data[i]"
   ]
  },
  {
   "cell_type": "markdown",
   "metadata": {},
   "source": [
    "Understanding SGD Code\n",
    "\n",
    "x is a training data set\n",
    "y is a label (or class) set\n"
   ]
  },
  {
   "cell_type": "code",
   "execution_count": 25,
   "metadata": {},
   "outputs": [],
   "source": [
    "def minimize_stochastic(target_fn, gradient_fn, x, y, theta_0, alpha_0=0.01):\n",
    "    data = list(zip(x, y))\n",
    "    theta = theta_0 # initial guess\n",
    "    alpha = alpha_0 # initial step size\n",
    "    min_theta, min_value = None, float(\"inf\") # the minimum so far\n",
    "    iterations_with_no_improvement = 0\n",
    "# if we ever go 100 iterations with no improvement, stop\n",
    "    while iterations_with_no_improvement < 100:\n",
    "        value = sum( target_fn(x_i, y_i, theta) for x_i, y_i in data )\n",
    "        if value < min_value:\n",
    "        # if we've found a new minimum, remember it\n",
    "        # and go back to the original step size\n",
    "            min_theta, min_value = theta, value\n",
    "            iterations_with_no_improvement = 0\n",
    "            alpha = alpha_0\n",
    "        else:\n",
    "# otherwise we're not improving, so try shrinking the step size\n",
    "            iterations_with_no_improvement += 1\n",
    "            alpha *= 0.9\n",
    "# and take a gradient step for each of the data points\n",
    "        for x_i, y_i in in_random_order(data):\n",
    "            gradient_i = gradient_fn(x_i, y_i, theta)\n",
    "            theta = vector_subtract(theta, scalar_multiply(alpha, gradient_i))\n",
    "    return min_theta"
   ]
  },
  {
   "cell_type": "code",
   "execution_count": 26,
   "metadata": {},
   "outputs": [],
   "source": [
    "def maximize_stochastic(target_fn, gradient_fn, x, y, theta_0, alpha_0=0.01):\n",
    "    return minimize_stochastic(negate(target_fn),\n",
    " negate_all(gradient_fn),\n",
    "x, y, theta_0, alpha_0)"
   ]
  },
  {
   "cell_type": "code",
   "execution_count": null,
   "metadata": {},
   "outputs": [],
   "source": []
  }
 ],
 "metadata": {
  "kernelspec": {
   "display_name": "Python 3",
   "language": "python",
   "name": "python3"
  },
  "language_info": {
   "codemirror_mode": {
    "name": "ipython",
    "version": 3
   },
   "file_extension": ".py",
   "mimetype": "text/x-python",
   "name": "python",
   "nbconvert_exporter": "python",
   "pygments_lexer": "ipython3",
   "version": "3.7.6"
  }
 },
 "nbformat": 4,
 "nbformat_minor": 4
}
