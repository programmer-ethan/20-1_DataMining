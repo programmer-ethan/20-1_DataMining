{
 "cells": [
  {
   "cell_type": "markdown",
   "metadata": {},
   "source": [
    "# Homework 2. Frequent itemset"
   ]
  },
  {
   "cell_type": "markdown",
   "metadata": {},
   "source": [
    "*Remark. Do not import numpy, pandas, sklearn, or any module implementing the solution directly*"
   ]
  },
  {
   "cell_type": "markdown",
   "metadata": {},
   "source": [
    "## Frequent itemset\n",
    "- ***Support*** is an indication of how frequently the itemset $X$ appears in the dataset $T$.\n",
    "- The support of X with respect to T is defined as the proportion of transactions t in the dataset which contains the itemset X.\n",
    "\n",
    "$$\n",
    "{\\displaystyle \\mathrm {supp} (X)={\\frac {|\\{t\\in T;X\\subseteq t\\}|}{|T|}}} \n",
    "$$\n",
    "\n",
    "- Frequent itemset is an itemset whose support $\\ge$ ***min_sup***."
   ]
  },
  {
   "cell_type": "markdown",
   "metadata": {},
   "source": [
    "## Data set\n",
    "\n",
    "- Each line in the following can be imagined as a market basket, which contains items you want to buy."
   ]
  },
  {
   "cell_type": "code",
   "execution_count": 1,
   "metadata": {},
   "outputs": [],
   "source": [
    "#support({apple})=4/8\n",
    "#Association Rule"
   ]
  },
  {
   "cell_type": "code",
   "execution_count": 2,
   "metadata": {},
   "outputs": [],
   "source": [
    "# DO NOT EDIT THIS CELL\n",
    "data_str = 'apple,beer,rice,chicken\\n'\n",
    "data_str += 'apple,beer,rice\\n'\n",
    "data_str += 'apple,beer\\n'\n",
    "data_str += 'apple,mango\\n'\n",
    "data_str += 'milk,beer,rice,chicken\\n'\n",
    "data_str += 'milk,beer,rice\\n'\n",
    "data_str += 'milk,beer\\n'\n",
    "data_str += 'milk,mango'"
   ]
  },
  {
   "cell_type": "code",
   "execution_count": 3,
   "metadata": {},
   "outputs": [
    {
     "name": "stdout",
     "output_type": "stream",
     "text": [
      "apple,beer,rice,chicken\n",
      "apple,beer,rice\n",
      "apple,beer\n",
      "apple,mango\n",
      "milk,beer,rice,chicken\n",
      "milk,beer,rice\n",
      "milk,beer\n",
      "milk,mango\n"
     ]
    }
   ],
   "source": [
    "print(data_str)"
   ]
  },
  {
   "cell_type": "markdown",
   "metadata": {},
   "source": [
    "## Problem 1 (2 pts)\n",
    "\n",
    "- Define a function ***record_gen*** generating a list of items each ***next***.\n",
    "- It must be a generator.\n",
    "- Use ***yield*** instead of ***return***"
   ]
  },
  {
   "cell_type": "code",
   "execution_count": 4,
   "metadata": {},
   "outputs": [
    {
     "name": "stdout",
     "output_type": "stream",
     "text": [
      "Help on built-in function next in module builtins:\n",
      "\n",
      "next(...)\n",
      "    next(iterator[, default])\n",
      "    \n",
      "    Return the next item from the iterator. If default is given and the iterator\n",
      "    is exhausted, it is returned instead of raising StopIteration.\n",
      "\n"
     ]
    }
   ],
   "source": [
    "help(next)"
   ]
  },
  {
   "cell_type": "code",
   "execution_count": 5,
   "metadata": {},
   "outputs": [],
   "source": [
    "#next(data_str)"
   ]
  },
  {
   "cell_type": "code",
   "execution_count": 6,
   "metadata": {},
   "outputs": [
    {
     "name": "stdout",
     "output_type": "stream",
     "text": [
      "s\n",
      "t\n",
      "r\n",
      "i\n",
      "n\n",
      "g\n",
      "\n",
      "\n",
      "s\n"
     ]
    }
   ],
   "source": [
    "s='string\\ns'\n",
    "for n in s:\n",
    "    print(n)"
   ]
  },
  {
   "cell_type": "code",
   "execution_count": 7,
   "metadata": {},
   "outputs": [],
   "source": [
    "#for item in data_str:\n",
    " #   print(item)\n",
    "    #data_str is not a list, just string"
   ]
  },
  {
   "cell_type": "code",
   "execution_count": 8,
   "metadata": {
    "hide_input": false
   },
   "outputs": [],
   "source": [
    "# YOUR CODE MUST BE HERE\n",
    "# 결국 이부분을 해야한다.\n",
    "def gen_record(s):\n",
    "    #test는 원하는 list로 주면될듯.\n",
    "    #data_str 을 어떻게 가공해서, yield해서 \n",
    "    #결국 \\n 을 기준으로 리스트를 스플릿해서 새로운 리스트로 만들어 yield하면될듯.\n",
    "    basket=[]\n",
    "    item=''\n",
    "    for item_c in s:\n",
    "        #item_c is character\n",
    "        if item_c==',':\n",
    "            basket.append(item)\n",
    "            item=''\n",
    "        elif item_c=='\\n':\n",
    "            basket.append(item)\n",
    "            yield basket\n",
    "            basket=[]\n",
    "            item=''\n",
    "        else:\n",
    "            item+=item_c\n",
    "#how to yield last basket?\n",
    "    basket.append(item)\n",
    "    yield basket\n",
    "        \n",
    "        \n"
   ]
  },
  {
   "cell_type": "code",
   "execution_count": 9,
   "metadata": {},
   "outputs": [
    {
     "data": {
      "text/plain": [
       "['apple', 'beer', 'rice', 'chicken']"
      ]
     },
     "execution_count": 9,
     "metadata": {},
     "output_type": "execute_result"
    }
   ],
   "source": [
    "# DO NOT EDIT THIS CELL\n",
    "test = gen_record(data_str)\n",
    "next(test)"
   ]
  },
  {
   "cell_type": "markdown",
   "metadata": {},
   "source": [
    "**Your output must be:**\n",
    "```\n",
    "['apple', 'beer', 'rice', 'chicken']\n",
    "```"
   ]
  },
  {
   "cell_type": "code",
   "execution_count": 10,
   "metadata": {},
   "outputs": [
    {
     "data": {
      "text/plain": [
       "['apple', 'beer', 'rice']"
      ]
     },
     "execution_count": 10,
     "metadata": {},
     "output_type": "execute_result"
    }
   ],
   "source": [
    "# DO NOT EDIT THIS CELL\n",
    "next(test)"
   ]
  },
  {
   "cell_type": "markdown",
   "metadata": {},
   "source": [
    "**Your output must be:**\n",
    "```\n",
    "['apple', 'beer', 'rice']\n",
    "```"
   ]
  },
  {
   "cell_type": "code",
   "execution_count": 11,
   "metadata": {},
   "outputs": [
    {
     "data": {
      "text/plain": [
       "['apple', 'beer']"
      ]
     },
     "execution_count": 11,
     "metadata": {},
     "output_type": "execute_result"
    }
   ],
   "source": [
    "next(test)"
   ]
  },
  {
   "cell_type": "code",
   "execution_count": 12,
   "metadata": {},
   "outputs": [
    {
     "data": {
      "text/plain": [
       "['milk', 'mango']"
      ]
     },
     "execution_count": 12,
     "metadata": {},
     "output_type": "execute_result"
    }
   ],
   "source": [
    "next(test)\n",
    "next(test)\n",
    "next(test)\n",
    "next(test)\n",
    "next(test)"
   ]
  },
  {
   "cell_type": "markdown",
   "metadata": {},
   "source": [
    "## Problem 2 (10 pts)\n",
    "\n",
    "- Define a function ***gen_frequent_1_itemset*** generating 1-itemset.\n",
    "- It must be a generator.\n",
    "- We want to find frequent 1-itemset (itemset containing only 1 item)"
   ]
  },
  {
   "cell_type": "code",
   "execution_count": 13,
   "metadata": {},
   "outputs": [],
   "source": [
    "# YOUR CODE MUST BE HERE\n",
    "from collections import defaultdict\n",
    "def gen_frequent_1_itemset(dataset, min_sup=0.5):\n",
    "    #list를 yield\n",
    "    #string's list\n",
    "    word_counts=defaultdict(int)\n",
    "    for basket in dataset:\n",
    "        for word in basket:\n",
    "            word_counts[word]+=1\n",
    "    for word in word_counts:\n",
    "        #word는 key \n",
    "        #print(word)\n",
    "        #value=word_counts[word]\n",
    "        #print(value)\n",
    "        if (word_counts[word]/8) >=min_sup:\n",
    "            yield word\n",
    "    #print(word_counts.values())\n",
    "    #yield word_counts\n",
    "            \n",
    "            \n"
   ]
  },
  {
   "cell_type": "code",
   "execution_count": 14,
   "metadata": {},
   "outputs": [],
   "source": [
    "#dataset = list(gen_record(data_str))\n",
    "#print(dataset)\n",
    "#for item in gen_frequent_1_itemset(dataset, 0.5):\n",
    "    #print(item)\n"
   ]
  },
  {
   "cell_type": "code",
   "execution_count": 15,
   "metadata": {},
   "outputs": [
    {
     "name": "stdout",
     "output_type": "stream",
     "text": [
      "apple\n",
      "beer\n",
      "rice\n",
      "milk\n",
      "No more items\n"
     ]
    }
   ],
   "source": [
    "# DO NOT EDIT THIS CELL\n",
    "dataset = list(gen_record(data_str))#double list\n",
    "for item in gen_frequent_1_itemset(dataset, 0.5):\n",
    "    print(item)\n",
    "print('No more items')"
   ]
  },
  {
   "cell_type": "markdown",
   "metadata": {},
   "source": [
    "**Your output must be:**\n",
    "```\n",
    "rice\n",
    "beer\n",
    "milk\n",
    "apple\n",
    "No more items\n",
    "```"
   ]
  },
  {
   "cell_type": "code",
   "execution_count": 16,
   "metadata": {},
   "outputs": [
    {
     "name": "stdout",
     "output_type": "stream",
     "text": [
      "beer\n",
      "No more items\n"
     ]
    }
   ],
   "source": [
    "# DO NOT EDIT THIS CELL\n",
    "dataset = list(gen_record(data_str))\n",
    "for item in gen_frequent_1_itemset(dataset, 0.7):\n",
    "    print(item)\n",
    "print('No more items')"
   ]
  },
  {
   "cell_type": "markdown",
   "metadata": {},
   "source": [
    "**Your output must be:**\n",
    "```\n",
    "beer\n",
    "No more items\n",
    "```"
   ]
  },
  {
   "cell_type": "code",
   "execution_count": 17,
   "metadata": {
    "hide_input": false
   },
   "outputs": [
    {
     "name": "stdout",
     "output_type": "stream",
     "text": [
      "apple\n",
      "beer\n",
      "rice\n",
      "chicken\n",
      "mango\n",
      "milk\n",
      "No more items\n"
     ]
    }
   ],
   "source": [
    "# DO NOT EDIT THIS CELL\n",
    "dataset = list(gen_record(data_str))\n",
    "for item in gen_frequent_1_itemset(dataset, 0.2):\n",
    "    print(item)\n",
    "print('No more items')"
   ]
  },
  {
   "cell_type": "markdown",
   "metadata": {},
   "source": [
    "**Your output must be:**\n",
    "```\n",
    "rice\n",
    "chicken\n",
    "beer\n",
    "mango\n",
    "milk\n",
    "apple\n",
    "No more items\n",
    "```"
   ]
  },
  {
   "cell_type": "markdown",
   "metadata": {},
   "source": [
    "## Problem 3 (10 pts)\n",
    "\n",
    "- Define a function ***gen_frequent_2_itemset*** generating 2-itemset.\n",
    "- It must be a generator.\n",
    "- We want to find frequent 2-itemset (itemset containing only 2 items)"
   ]
  },
  {
   "cell_type": "code",
   "execution_count": 18,
   "metadata": {},
   "outputs": [
    {
     "name": "stdout",
     "output_type": "stream",
     "text": [
      "{1, 2, 3}\n"
     ]
    }
   ],
   "source": [
    "set1={1,2,3}\n",
    "set1.add(3)\n",
    "print(set1)"
   ]
  },
  {
   "cell_type": "code",
   "execution_count": 20,
   "metadata": {},
   "outputs": [
    {
     "data": {
      "text/plain": [
       "True"
      ]
     },
     "execution_count": 20,
     "metadata": {},
     "output_type": "execute_result"
    }
   ],
   "source": [
    "list1=[1,2,3]\n",
    "1 in list1"
   ]
  },
  {
   "cell_type": "code",
   "execution_count": 21,
   "metadata": {},
   "outputs": [
    {
     "data": {
      "text/plain": [
       "2"
      ]
     },
     "execution_count": 21,
     "metadata": {},
     "output_type": "execute_result"
    }
   ],
   "source": [
    "tup=(1,2,3)\n",
    "tup[1]"
   ]
  },
  {
   "cell_type": "code",
   "execution_count": 22,
   "metadata": {},
   "outputs": [],
   "source": [
    "# 일단... 한개씩해서 원소를 뽑고, set를 가지고 조합을 하면될듯!!\n",
    "#그럼일단 위의 3중for문은 없어지고...\n",
    "from collections import defaultdict\n",
    "from itertools import combinations\n",
    "def gen_frequent_2_itemset(dataset, min_sup=0.5):\n",
    "    set_1_item=set()\n",
    "    word_counts=defaultdict(int)\n",
    "    for basket in dataset:\n",
    "        for word in basket:\n",
    "            set_1_item.add(word)\n",
    "    list_item=list(set_1_item)\n",
    "    two_item=list(combinations(list_item,2))\n",
    "    for basket in dataset:\n",
    "        for items in two_item:\n",
    "            if items[0] in basket and items[1] in basket:\n",
    "                word_counts[items]+=1\n",
    "    #list를 만들고. \n",
    "    #basket은 문자열의 리스트.\n",
    "    #만약 list 도 in 이 된다면. item에서 2개를 basket에 있는지 확인하고. 있으면. 튜플이니 딕셔너리로.\n",
    "    \n",
    "    for word in word_counts:#word is tuple\n",
    "        if (word_counts[word]/8) >=min_sup:\n",
    "            yield word\n",
    "    \n",
    "    \n"
   ]
  },
  {
   "cell_type": "code",
   "execution_count": null,
   "metadata": {},
   "outputs": [],
   "source": [
    "# YOUR CODE MUST BE HERE\n",
    "from collections import defaultdict\n",
    "def gen_frequent_2_itemset(dataset, min_sup=0.5):\n",
    "    #우선 key는 string이니, x,y를 key로 dict를 만들어보자!\n",
    "    #key를 tuple로? 순서는?\n",
    "    #일단 word count?\n",
    "    #problem is... \n",
    "    #designate each tuple my self. or not. \n",
    "    #make a tuple, and then make a dictionary.\n",
    "    #triple iterate\n",
    "    set_item=set()\n",
    "    word_counts=defaultdict(int)\n",
    "    for basket in dataset:\n",
    "        #make a tuple\n",
    "        for word in basket:\n",
    "            for word2 in basket:\n",
    "                if word!=word2 and (word2,word) not in set_item:\n",
    "                    set_item.add((word,word2))\n",
    "                    #3중 for문 써서 죄송합니다!!! 데이터가 작으니, 기본만으로 구현해보고 싶었습니다!!\n",
    "    # tuple에 value-> dict!\n",
    "    for basket in dataset:\n",
    "        for word in basket:\n",
    "            for word2 in basket:\n",
    "                if (word,word2) in set_item:\n",
    "                    word_counts[(word,word2)]+=1\n",
    "                    #각각의 경우를 딕셔너리로!\n",
    "    for word in word_counts:#word is tuple\n",
    "        if (word_counts[word]/8) >=min_sup:\n",
    "            yield word"
   ]
  },
  {
   "cell_type": "code",
   "execution_count": null,
   "metadata": {},
   "outputs": [],
   "source": [
    "#너무 복잡하므로... 시간복잡도가 높으르모, 반복문을 줄이고자, 다른 방법을 찾아보자.\n",
    "# YOUR CODE MUST BE HERE\n",
    "#일단 이 코드의 목표는.. 함수를 정의하는 것인데. 이 함수는 generate. min_sup이상의 확률로 나오는 item_set를 generate!\n",
    "#for this... first of all.. make a set of... item.\n",
    "from collections import defaultdict\n",
    "def gen_frequent_2_itemset(dataset, min_sup=0.5):\n",
    "    #먼저 2개씩을 골라 세트로 만든다. 세트의 리스트? 가능한가?\n",
    "    #집합은 순서가 의미 없다. 그런 집합의 리스트? 가능.\n",
    "    #그러면 집합을 만들면서, set를 리스트로 만들어준다.\n",
    "    # 그 뒤 집합의 리스트를 돌면서 카운팅해준다.\n",
    "    #우선 집합 만드는 것의 반복문을 줄여보겠다.\n",
    "    set_item=set()\n",
    "    word_counts=defaultdict(int)\n",
    "    for basket in dataset:\n",
    "        #기존에는 튜플의 세트를 저장\n",
    "        #이번에는 세트의 리스트를 만들어보자. 세트의 세트는? 괜찮을지도.하지만 세트는 딕테이션에 안들어가는데?\n",
    "        #enumerate를 하면? 리스트는 근데 주소참조가 되나? 당연하지!"
   ]
  },
  {
   "cell_type": "code",
   "execution_count": null,
   "metadata": {},
   "outputs": [],
   "source": [
    "list1=[[\"ab\",'cd'],['ef','gh']]\n",
    "print(list1[1])"
   ]
  },
  {
   "cell_type": "code",
   "execution_count": null,
   "metadata": {},
   "outputs": [],
   "source": [
    "# list=[{1,2},{3,4}]\n",
    "# print({2,1} in list)\n",
    "# 집합의 리스트 가능하다."
   ]
  },
  {
   "cell_type": "code",
   "execution_count": null,
   "metadata": {},
   "outputs": [],
   "source": [
    "# DO NOT EDIT THIS CELL\n",
    "data = list(gen_record(data_str))\n",
    "for item in gen_frequent_2_itemset(data, 0.5):\n",
    "    print(item)\n",
    "print('No more items')"
   ]
  },
  {
   "cell_type": "markdown",
   "metadata": {},
   "source": [
    "**Your output must be:**\n",
    "```\n",
    "('beer', 'rice')\n",
    "No more items\n",
    "```"
   ]
  },
  {
   "cell_type": "code",
   "execution_count": null,
   "metadata": {},
   "outputs": [],
   "source": [
    "# DO NOT EDIT THIS CELL\n",
    "data = list(gen_record(data_str))\n",
    "for item in gen_frequent_2_itemset(data, 0.3):\n",
    "    print(item)\n",
    "print('No more items')"
   ]
  },
  {
   "cell_type": "markdown",
   "metadata": {},
   "source": [
    "**Your output must be:**\n",
    "```\n",
    "('beer', 'rice')\n",
    "('beer', 'milk')\n",
    "('apple', 'beer')\n",
    "No more items\n",
    "```"
   ]
  },
  {
   "cell_type": "code",
   "execution_count": null,
   "metadata": {},
   "outputs": [],
   "source": [
    "# DO NOT EDIT THIS CELL\n",
    "dataset = list(gen_record(data_str))\n",
    "for item in gen_frequent_2_itemset(dataset, 0.2):\n",
    "    print(item)\n",
    "print('No more items')"
   ]
  },
  {
   "cell_type": "markdown",
   "metadata": {},
   "source": [
    "**Your output must be:**\n",
    "```\n",
    "('chicken', 'rice')\n",
    "('beer', 'rice')\n",
    "('beer', 'chicken')\n",
    "('beer', 'milk')\n",
    "('milk', 'rice')\n",
    "('apple', 'rice')\n",
    "('apple', 'beer')\n",
    "No more items\n",
    "```"
   ]
  }
 ],
 "metadata": {
  "hide_input": false,
  "kernelspec": {
   "display_name": "Python 3",
   "language": "python",
   "name": "python3"
  },
  "language_info": {
   "codemirror_mode": {
    "name": "ipython",
    "version": 3
   },
   "file_extension": ".py",
   "mimetype": "text/x-python",
   "name": "python",
   "nbconvert_exporter": "python",
   "pygments_lexer": "ipython3",
   "version": "3.8.3"
  }
 },
 "nbformat": 4,
 "nbformat_minor": 2
}
