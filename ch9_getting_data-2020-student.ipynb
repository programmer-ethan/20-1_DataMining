{
 "cells": [
  {
   "cell_type": "markdown",
   "metadata": {
    "slideshow": {
     "slide_type": "slide"
    }
   },
   "source": [
    "# Getting Data"
   ]
  },
  {
   "cell_type": "code",
   "execution_count": 1,
   "metadata": {
    "slideshow": {
     "slide_type": "slide"
    }
   },
   "outputs": [],
   "source": [
    "from collections import Counter\n",
    "import math, random, csv, json, re\n",
    "\n",
    "from bs4 import BeautifulSoup\n",
    "import requests"
   ]
  },
  {
   "cell_type": "markdown",
   "metadata": {
    "slideshow": {
     "slide_type": "fragment"
    }
   },
   "source": [
    "If some module is not installed, for example, beautifulsoup,\n",
    "- googling: anaconda how to install beautifulsoup\n",
    "- Find anaconda cloud in google answer, where the modules are tested and safe."
   ]
  },
  {
   "cell_type": "markdown",
   "metadata": {
    "slideshow": {
     "slide_type": "slide"
    }
   },
   "source": [
    "As a data scientist you will spend an **embarrassingly large fraction of your time** \n",
    "- acquiring, \n",
    "- cleaning, \n",
    "- and transforming data. "
   ]
  },
  {
   "cell_type": "markdown",
   "metadata": {
    "slideshow": {
     "slide_type": "slide"
    }
   },
   "source": [
    "## stdin and stdout\n",
    "\n",
    "### Number of lines containing numbers\n",
    "- You could then use these to count how many lines of a file contain numbers.\n",
    "- you can pipe data through them using sys.stdin and sys.stdout ."
   ]
  },
  {
   "cell_type": "code",
   "execution_count": 2,
   "metadata": {
    "slideshow": {
     "slide_type": "slide"
    }
   },
   "outputs": [],
   "source": [
    "# egrep.py\n",
    "import sys, re\n",
    "\n",
    "# sys.argv is the list of command-line arguments\n",
    "# sys.argv[0] is the name of the program itself\n",
    "# sys.argv[1] will be the regex specified at the command line\n",
    "regex = sys.argv[1]\n",
    "\n",
    "# for every line passed into the script\n",
    "for line in sys.stdin:\n",
    "    # if it matches the regex, write it to stdout\n",
    "    if re.search(regex, line):\n",
    "        sys.stdout.write(line)"
   ]
  },
  {
   "cell_type": "code",
   "execution_count": 3,
   "metadata": {
    "slideshow": {
     "slide_type": "slide"
    }
   },
   "outputs": [
    {
     "name": "stdout",
     "output_type": "stream",
     "text": [
      "0\n"
     ]
    }
   ],
   "source": [
    "# line_count.py\n",
    "import sys\n",
    "\n",
    "count = 0\n",
    "for line in sys.stdin:\n",
    "    count += 1\n",
    "    \n",
    "# print goes to sys.stdout\n",
    "print(count)"
   ]
  },
  {
   "cell_type": "code",
   "execution_count": 4,
   "metadata": {
    "slideshow": {
     "slide_type": "skip"
    }
   },
   "outputs": [],
   "source": [
    "# # windows \n",
    "\n",
    "# !type the_bible.txt | python egrep.py \"[0-9]\" | python line_count.py"
   ]
  },
  {
   "cell_type": "raw",
   "metadata": {
    "slideshow": {
     "slide_type": "skip"
    }
   },
   "source": [
    "# Linux\n",
    "\n",
    "!cat the_bible.txt | python egrep.py \"[0-9]\" | python line_count.py"
   ]
  },
  {
   "cell_type": "markdown",
   "metadata": {
    "slideshow": {
     "slide_type": "slide"
    }
   },
   "source": [
    "### Most Common Words\n",
    "\n",
    "- a script that counts the words in its input and writes out the most common ones"
   ]
  },
  {
   "cell_type": "raw",
   "metadata": {},
   "source": [
    "most_common_words.py"
   ]
  },
  {
   "cell_type": "code",
   "execution_count": 5,
   "metadata": {
    "scrolled": false,
    "slideshow": {
     "slide_type": "slide"
    }
   },
   "outputs": [],
   "source": [
    "# import sys\n",
    "# from collections import Counter\n",
    "\n",
    "# # pass in number of words as first argument\n",
    "# try:\n",
    "#     num_words = int(sys.argv[1])\n",
    "# except:\n",
    "#     print(\"usage: most_common_words.py num_words\")\n",
    "#     sys.exit(1)\n",
    "\n",
    "# counter = Counter(word.lower()                        # non-zero exit code indicates error\n",
    "#                   for line in sys.stdin               # lowercase words\n",
    "#                   for word in line.strip().split()    # split on spaces\n",
    "#                   if word)                            # skip empty 'words'\n",
    "\n",
    "# for word, count in counter.most_common(num_words):\n",
    "#     sys.stdout.write(str(count))\n",
    "#     sys.stdout.write(\"\\t\")\n",
    "#     sys.stdout.write(word)\n",
    "#     sys.stdout.write(\"\\n\")"
   ]
  },
  {
   "cell_type": "code",
   "execution_count": 6,
   "metadata": {
    "slideshow": {
     "slide_type": "skip"
    }
   },
   "outputs": [],
   "source": [
    "# # windows\n",
    "\n",
    "# !type the_bible.txt | python most_common_words.py 10"
   ]
  },
  {
   "cell_type": "markdown",
   "metadata": {
    "slideshow": {
     "slide_type": "slide"
    }
   },
   "source": [
    "## Reading Files"
   ]
  },
  {
   "cell_type": "markdown",
   "metadata": {
    "slideshow": {
     "slide_type": "slide"
    }
   },
   "source": [
    "### The Basics of Text Files"
   ]
  },
  {
   "cell_type": "code",
   "execution_count": 7,
   "metadata": {
    "slideshow": {
     "slide_type": "slide"
    }
   },
   "outputs": [],
   "source": [
    "# # 'r' means read-only\n",
    "# file_for_reading = open('reading_file.txt', 'r')\n",
    "\n",
    "# # 'w' is write—will destroy the file if it already exists!\n",
    "# file_for_writing = open('writing_file.txt', 'w')\n",
    "\n",
    "# # 'a' is append—for adding to the end of the file\n",
    "# file_for_appending = open('appending_file.txt', 'a')\n",
    "\n",
    "# # don't forget to close your files when you're done\n",
    "# file_for_writing.close()"
   ]
  },
  {
   "cell_type": "markdown",
   "metadata": {
    "slideshow": {
     "slide_type": "slide"
    }
   },
   "source": [
    "Because it is easy to forget to close your files, you should always use them in a **with**\n",
    "block, at the end of which they will be **closed automatically**"
   ]
  },
  {
   "cell_type": "code",
   "execution_count": 8,
   "metadata": {
    "slideshow": {
     "slide_type": "slide"
    }
   },
   "outputs": [],
   "source": [
    "# with open(filename,'r') as f:\n",
    "#     data = function_that_gets_data_from(f)\n",
    "\n",
    "# # at this point f has already been closed, so don't try to use it\n",
    "# process(data)"
   ]
  },
  {
   "cell_type": "code",
   "execution_count": 9,
   "metadata": {
    "slideshow": {
     "slide_type": "slide"
    }
   },
   "outputs": [],
   "source": [
    "# starts_with_numbers = 0\n",
    "\n",
    "# with open('the_bible.txt','r') as file:\n",
    "#     for line in file:                 # look at each line in the file\n",
    "#         if re.match(\"^[0-9]\", line):       # use a regex to see if it starts with '#'\n",
    "#             starts_with_numbers += 1     # if it does, add 1 to the count\n",
    "            \n",
    "# starts_with_numbers"
   ]
  },
  {
   "cell_type": "code",
   "execution_count": 10,
   "metadata": {
    "slideshow": {
     "slide_type": "slide"
    }
   },
   "outputs": [],
   "source": [
    "# def get_domain(email_address):\n",
    "#     \"\"\"split on '@' and return the last piece\"\"\"\n",
    "#     return email_address.lower().split(\"@\")[-1]\n",
    "\n",
    "# with open('email_addresses.txt', 'r') as f:\n",
    "#     domain_counts = Counter(get_domain(line.strip())\n",
    "#                             for line in f\n",
    "#                             if \"@\" in line)"
   ]
  },
  {
   "cell_type": "markdown",
   "metadata": {
    "slideshow": {
     "slide_type": "slide"
    }
   },
   "source": [
    "### Delimited Files\n",
    "\n",
    "- csv file : These files are very often either comma-separated or tab-separated."
   ]
  },
  {
   "cell_type": "code",
   "execution_count": 11,
   "metadata": {
    "slideshow": {
     "slide_type": "slide"
    }
   },
   "outputs": [],
   "source": [
    "# !type tab_delimited_stock_prices.txt"
   ]
  },
  {
   "cell_type": "code",
   "execution_count": 12,
   "metadata": {
    "slideshow": {
     "slide_type": "slide"
    }
   },
   "outputs": [],
   "source": [
    "# import csv\n",
    "# with open('tab_delimited_stock_prices.txt', 'r') as f:\n",
    "#     reader = csv.reader(f, delimiter='\\t')\n",
    "#     for row in reader:\n",
    "#         date = row[0]\n",
    "#         symbol = row[1]\n",
    "#         closing_price = float(row[2])\n",
    "#         print(date, symbol, closing_price)"
   ]
  },
  {
   "cell_type": "code",
   "execution_count": 13,
   "metadata": {
    "slideshow": {
     "slide_type": "skip"
    }
   },
   "outputs": [],
   "source": [
    "# !type colon_delimited_stock_prices.txt"
   ]
  },
  {
   "cell_type": "code",
   "execution_count": 14,
   "metadata": {
    "slideshow": {
     "slide_type": "slide"
    }
   },
   "outputs": [],
   "source": [
    "# with open('colon_delimited_stock_prices.txt', 'r') as f:\n",
    "#     reader = csv.DictReader(f, delimiter=':')\n",
    "#     for row in reader:\n",
    "#         date = row[\"date\"]\n",
    "#         symbol = row[\"symbol\"]\n",
    "#         closing_price = float(row[\"closing_price\"])\n",
    "#         print(date, symbol, closing_price)"
   ]
  },
  {
   "cell_type": "code",
   "execution_count": 15,
   "metadata": {
    "slideshow": {
     "slide_type": "skip"
    }
   },
   "outputs": [
    {
     "name": "stdout",
     "output_type": "stream",
     "text": [
      "AAPL,90.91\n",
      "\n",
      "MSFT,41.68\n",
      "\n",
      "FB,64.5\n",
      "\n"
     ]
    }
   ],
   "source": [
    "!type comma_delimited_stock_prices_1.txt"
   ]
  },
  {
   "cell_type": "code",
   "execution_count": 16,
   "metadata": {
    "slideshow": {
     "slide_type": "slide"
    }
   },
   "outputs": [],
   "source": [
    "today_prices = { 'AAPL' : 90.91, 'MSFT' : 41.68, 'FB' : 64.5 }\n",
    "\n",
    "with open('comma_delimited_stock_prices_1.txt','w') as f:\n",
    "    writer = csv.writer(f, delimiter=',')\n",
    "    for stock, price in today_prices.items():\n",
    "        writer.writerow([stock, price])"
   ]
  },
  {
   "cell_type": "code",
   "execution_count": 17,
   "metadata": {
    "slideshow": {
     "slide_type": "skip"
    }
   },
   "outputs": [],
   "source": [
    "# !type bad_csv.txt"
   ]
  },
  {
   "cell_type": "code",
   "execution_count": 18,
   "metadata": {
    "slideshow": {
     "slide_type": "skip"
    }
   },
   "outputs": [],
   "source": [
    "# results = [[\"test1\", \"success\", \"Monday\"],\n",
    "#            [\"test2\", \"success, kind of\", \"Tuesday\"],\n",
    "#            [\"test3\", \"failure, kind of\", \"Wednesday\"],\n",
    "#            [\"test4\", \"failure, utter\", \"Thursday\"]]\n",
    "\n",
    "# # don't do this!\n",
    "# with open('bad_csv.txt', 'w') as f:\n",
    "#     for row in results:\n",
    "#         f.write(\",\".join(map(str, row))) # might have too many commas in it!\n",
    "#         f.write(\"\\n\")                    # row might have newlines as well!"
   ]
  },
  {
   "cell_type": "code",
   "execution_count": null,
   "metadata": {},
   "outputs": [],
   "source": []
  },
  {
   "cell_type": "markdown",
   "metadata": {
    "slideshow": {
     "slide_type": "slide"
    }
   },
   "source": [
    "## Scraping the Web\n",
    "\n",
    "- Another way to get data is by scraping it from web pages"
   ]
  },
  {
   "cell_type": "markdown",
   "metadata": {
    "slideshow": {
     "slide_type": "slide"
    }
   },
   "source": [
    "### HTML and Parsing"
   ]
  },
  {
   "cell_type": "raw",
   "metadata": {
    "slideshow": {
     "slide_type": "fragment"
    }
   },
   "source": [
    "<html>\n",
    "  <head>\n",
    "    <title>A web page</title>\n",
    "  </head>\n",
    "  <body>\n",
    "    <p id=\"author\">Joel Grus</p>\n",
    "    <p id=\"subject\">Data Science</p>\n",
    "  </body>\n",
    "</html>"
   ]
  },
  {
   "cell_type": "markdown",
   "metadata": {},
   "source": [
    "- for python3:\n",
    "    - pip install html5lib\n",
    "    - pip install beautifulsoup4\n",
    "\n",
    "- for anaconda\n",
    "    - conda install -c anaconda html5lib\n",
    "         - https://anaconda.org/anaconda/html5lib\n",
    "    - conda install -c anaconda beautifulsoup4\n",
    "        - https://anaconda.org/anaconda/beautifulsoup4"
   ]
  },
  {
   "cell_type": "markdown",
   "metadata": {
    "slideshow": {
     "slide_type": "slide"
    }
   },
   "source": [
    "<img src=\"https://www.researchgate.net/profile/Olfa_Nasraoui/publication/221417012/figure/download/fig2/AS:669043992322053@1536523926785/Dom-Tree-of-An-Example-Web-Page.png\">"
   ]
  },
  {
   "cell_type": "markdown",
   "metadata": {},
   "source": [
    "<body>\n",
    "    <h1>DOM Lesson one</h1>\n",
    "    <p>Hello World!</p>\n",
    "    <table>\n",
    "        <tr class=\"people\">\n",
    "            <td>John</td>\n",
    "            <td>Doe</td>\n",
    "            <td>Alaska</td>\n",
    "        </tr>\n",
    "    </table>\n",
    "</body>"
   ]
  },
  {
   "cell_type": "code",
   "execution_count": 19,
   "metadata": {
    "slideshow": {
     "slide_type": "slide"
    }
   },
   "outputs": [],
   "source": [
    "from bs4 import BeautifulSoup\n",
    "\n",
    "html = \"\"\"\n",
    "<html>\n",
    "  <head>\n",
    "    <title>A web page</title>\n",
    "  </head>\n",
    "  <body>\n",
    "    <p id=\"author\">Joel Grus</p>\n",
    "    <p id=\"subject\">Data Science</p>\n",
    "    <p class=\"price\">30</p>\n",
    "  </body>\n",
    "</html>\"\"\"\n",
    "soup = BeautifulSoup(html, 'html5lib')"
   ]
  },
  {
   "cell_type": "markdown",
   "metadata": {},
   "source": [
    "Query 1: Find **title**"
   ]
  },
  {
   "cell_type": "code",
   "execution_count": 20,
   "metadata": {},
   "outputs": [
    {
     "data": {
      "text/plain": [
       "<title>A web page</title>"
      ]
     },
     "execution_count": 20,
     "metadata": {},
     "output_type": "execute_result"
    }
   ],
   "source": [
    "soup.title"
   ]
  },
  {
   "cell_type": "markdown",
   "metadata": {},
   "source": [
    "Query 2: Find **title**'s **text**"
   ]
  },
  {
   "cell_type": "code",
   "execution_count": 21,
   "metadata": {},
   "outputs": [
    {
     "data": {
      "text/plain": [
       "'A web page'"
      ]
     },
     "execution_count": 21,
     "metadata": {},
     "output_type": "execute_result"
    }
   ],
   "source": [
    "soup.title.text"
   ]
  },
  {
   "cell_type": "markdown",
   "metadata": {},
   "source": [
    "Query 3: Find **p** of **body**"
   ]
  },
  {
   "cell_type": "code",
   "execution_count": 22,
   "metadata": {},
   "outputs": [
    {
     "data": {
      "text/plain": [
       "<p id=\"author\">Joel Grus</p>"
      ]
     },
     "execution_count": 22,
     "metadata": {},
     "output_type": "execute_result"
    }
   ],
   "source": [
    "soup.body.p"
   ]
  },
  {
   "cell_type": "markdown",
   "metadata": {},
   "source": [
    "Query 4: Find all **p** under **body**"
   ]
  },
  {
   "cell_type": "code",
   "execution_count": 23,
   "metadata": {},
   "outputs": [
    {
     "data": {
      "text/plain": [
       "[<p id=\"author\">Joel Grus</p>,\n",
       " <p id=\"subject\">Data Science</p>,\n",
       " <p class=\"price\">30</p>]"
      ]
     },
     "execution_count": 23,
     "metadata": {},
     "output_type": "execute_result"
    }
   ],
   "source": [
    "soup.body('p')"
   ]
  },
  {
   "cell_type": "markdown",
   "metadata": {},
   "source": [
    "Query 5: Find second **p**'s **text** of **body**"
   ]
  },
  {
   "cell_type": "code",
   "execution_count": 24,
   "metadata": {},
   "outputs": [
    {
     "data": {
      "text/plain": [
       "'Data Science'"
      ]
     },
     "execution_count": 24,
     "metadata": {},
     "output_type": "execute_result"
    }
   ],
   "source": [
    "soup.body('p')[1].text"
   ]
  },
  {
   "cell_type": "markdown",
   "metadata": {},
   "source": [
    "Query 6: Find last **p** of **body**"
   ]
  },
  {
   "cell_type": "code",
   "execution_count": 25,
   "metadata": {},
   "outputs": [
    {
     "data": {
      "text/plain": [
       "<p class=\"price\">30</p>"
      ]
     },
     "execution_count": 25,
     "metadata": {},
     "output_type": "execute_result"
    }
   ],
   "source": [
    "soup.body('p')[-1]"
   ]
  },
  {
   "cell_type": "markdown",
   "metadata": {},
   "source": [
    "Query 7: Loop over all **p** of **body**"
   ]
  },
  {
   "cell_type": "code",
   "execution_count": 26,
   "metadata": {
    "slideshow": {
     "slide_type": "fragment"
    }
   },
   "outputs": [
    {
     "name": "stdout",
     "output_type": "stream",
     "text": [
      "paragraph 0: Joel Grus\n",
      "paragraph 1: Data Science\n",
      "paragraph 2: 30\n"
     ]
    }
   ],
   "source": [
    "for i, p in enumerate(soup.body('p')):\n",
    "    print('paragraph {}: {}'.format(i, p.text))"
   ]
  },
  {
   "cell_type": "markdown",
   "metadata": {},
   "source": [
    "Query 8: Find first **p**'s **id** attribute's value"
   ]
  },
  {
   "cell_type": "code",
   "execution_count": 27,
   "metadata": {
    "slideshow": {
     "slide_type": "fragment"
    }
   },
   "outputs": [
    {
     "data": {
      "text/plain": [
       "'author'"
      ]
     },
     "execution_count": 27,
     "metadata": {},
     "output_type": "execute_result"
    }
   ],
   "source": [
    "soup.p['id']"
   ]
  },
  {
   "cell_type": "markdown",
   "metadata": {},
   "source": [
    "Query 9: Find all **p** whose attribute **id** is 'author'"
   ]
  },
  {
   "cell_type": "code",
   "execution_count": 28,
   "metadata": {
    "slideshow": {
     "slide_type": "fragment"
    }
   },
   "outputs": [
    {
     "data": {
      "text/plain": [
       "[<p id=\"author\">Joel Grus</p>]"
      ]
     },
     "execution_count": 28,
     "metadata": {},
     "output_type": "execute_result"
    }
   ],
   "source": [
    "soup('p', {'id':'author'})"
   ]
  },
  {
   "cell_type": "markdown",
   "metadata": {},
   "source": [
    "Query 10: Find all **p** whose attribute **class** is 'price'"
   ]
  },
  {
   "cell_type": "code",
   "execution_count": 29,
   "metadata": {
    "slideshow": {
     "slide_type": "fragment"
    }
   },
   "outputs": [
    {
     "data": {
      "text/plain": [
       "[<p class=\"price\">30</p>]"
      ]
     },
     "execution_count": 29,
     "metadata": {},
     "output_type": "execute_result"
    }
   ],
   "source": [
    "soup('p', 'price')\n",
    "#soup('p', {'class':'price'})"
   ]
  },
  {
   "cell_type": "markdown",
   "metadata": {},
   "source": [
    "Query 11: Find all **text**s"
   ]
  },
  {
   "cell_type": "code",
   "execution_count": 30,
   "metadata": {
    "slideshow": {
     "slide_type": "fragment"
    }
   },
   "outputs": [
    {
     "data": {
      "text/plain": [
       "'\\n    A web page\\n  \\n  \\n    Joel Grus\\n    Data Science\\n    30\\n  \\n'"
      ]
     },
     "execution_count": 30,
     "metadata": {},
     "output_type": "execute_result"
    }
   ],
   "source": [
    "soup.text"
   ]
  },
  {
   "cell_type": "code",
   "execution_count": 31,
   "metadata": {
    "slideshow": {
     "slide_type": "slide"
    }
   },
   "outputs": [
    {
     "name": "stdout",
     "output_type": "stream",
     "text": [
      "<p id=\"author\">Joel Grus</p>\n",
      "<class 'bs4.element.Tag'>\n"
     ]
    }
   ],
   "source": [
    "first_paragraph = soup.find('p')     # or just soup.p\n",
    "print(first_paragraph)\n",
    "print(type(first_paragraph))"
   ]
  },
  {
   "cell_type": "code",
   "execution_count": 32,
   "metadata": {
    "slideshow": {
     "slide_type": "fragment"
    }
   },
   "outputs": [
    {
     "data": {
      "text/plain": [
       "'Joel Grus'"
      ]
     },
     "execution_count": 32,
     "metadata": {},
     "output_type": "execute_result"
    }
   ],
   "source": [
    "first_paragraph_text = soup.p.text\n",
    "first_paragraph_text"
   ]
  },
  {
   "cell_type": "code",
   "execution_count": 33,
   "metadata": {
    "slideshow": {
     "slide_type": "fragment"
    }
   },
   "outputs": [
    {
     "data": {
      "text/plain": [
       "['Joel', 'Grus']"
      ]
     },
     "execution_count": 33,
     "metadata": {},
     "output_type": "execute_result"
    }
   ],
   "source": [
    "first_paragraph_words = soup.p.text.split()\n",
    "first_paragraph_words"
   ]
  },
  {
   "cell_type": "code",
   "execution_count": 34,
   "metadata": {
    "slideshow": {
     "slide_type": "fragment"
    }
   },
   "outputs": [
    {
     "data": {
      "text/plain": [
       "'author'"
      ]
     },
     "execution_count": 34,
     "metadata": {},
     "output_type": "execute_result"
    }
   ],
   "source": [
    "first_paragraph_id = soup.p['id']        # raises KeyError if no 'id'\n",
    "first_paragraph_id\n",
    "#type(soup.p)"
   ]
  },
  {
   "cell_type": "code",
   "execution_count": 35,
   "metadata": {
    "slideshow": {
     "slide_type": "fragment"
    }
   },
   "outputs": [
    {
     "data": {
      "text/plain": [
       "'author'"
      ]
     },
     "execution_count": 35,
     "metadata": {},
     "output_type": "execute_result"
    }
   ],
   "source": [
    "first_paragraph_id2 = soup.p.get('id')   # returns None if no 'id'\n",
    "first_paragraph_id2"
   ]
  },
  {
   "cell_type": "code",
   "execution_count": 36,
   "metadata": {
    "slideshow": {
     "slide_type": "fragment"
    }
   },
   "outputs": [
    {
     "data": {
      "text/plain": [
       "[<p id=\"author\">Joel Grus</p>,\n",
       " <p id=\"subject\">Data Science</p>,\n",
       " <p class=\"price\">30</p>]"
      ]
     },
     "execution_count": 36,
     "metadata": {},
     "output_type": "execute_result"
    }
   ],
   "source": [
    "all_paragraphs = soup.find_all('p')      # or just soup('p')\n",
    "all_paragraphs"
   ]
  },
  {
   "cell_type": "code",
   "execution_count": 37,
   "metadata": {
    "slideshow": {
     "slide_type": "fragment"
    }
   },
   "outputs": [
    {
     "data": {
      "text/plain": [
       "[<p id=\"author\">Joel Grus</p>,\n",
       " <p id=\"subject\">Data Science</p>,\n",
       " <p class=\"price\">30</p>]"
      ]
     },
     "execution_count": 37,
     "metadata": {},
     "output_type": "execute_result"
    }
   ],
   "source": [
    "soup('p')"
   ]
  },
  {
   "cell_type": "code",
   "execution_count": 38,
   "metadata": {},
   "outputs": [
    {
     "data": {
      "text/plain": [
       "[<p id=\"subject\">Data Science</p>]"
      ]
     },
     "execution_count": 38,
     "metadata": {},
     "output_type": "execute_result"
    }
   ],
   "source": [
    "soup('p', {'id':'subject'})"
   ]
  },
  {
   "cell_type": "code",
   "execution_count": 39,
   "metadata": {
    "slideshow": {
     "slide_type": "fragment"
    }
   },
   "outputs": [
    {
     "data": {
      "text/plain": [
       "[<p id=\"author\">Joel Grus</p>, <p id=\"subject\">Data Science</p>]"
      ]
     },
     "execution_count": 39,
     "metadata": {},
     "output_type": "execute_result"
    }
   ],
   "source": [
    "paragraphs_with_ids = [p for p in soup('p') if p.get('id')]\n",
    "paragraphs_with_ids"
   ]
  },
  {
   "cell_type": "code",
   "execution_count": 40,
   "metadata": {
    "slideshow": {
     "slide_type": "fragment"
    }
   },
   "outputs": [],
   "source": [
    "important_paragraphs = soup('p', {'class' : 'important'})"
   ]
  },
  {
   "cell_type": "code",
   "execution_count": 41,
   "metadata": {
    "slideshow": {
     "slide_type": "fragment"
    }
   },
   "outputs": [],
   "source": [
    "html = requests.get(\"http://www.naver.com\").text\n",
    "soup = BeautifulSoup(html, 'html5lib')"
   ]
  },
  {
   "cell_type": "code",
   "execution_count": 42,
   "metadata": {
    "slideshow": {
     "slide_type": "fragment"
    }
   },
   "outputs": [],
   "source": [
    "# warning, will return the same span multiple times\n",
    "# if it sits inside multiple divs\n",
    "# be more clever if that's the case\n",
    "spans_inside_divs = [span\n",
    "                     for div in soup('div')    # for each <div> on the page\n",
    "                     for span in div('span')]  # find each <span> inside it"
   ]
  },
  {
   "cell_type": "code",
   "execution_count": 43,
   "metadata": {
    "scrolled": false,
    "slideshow": {
     "slide_type": "fragment"
    }
   },
   "outputs": [],
   "source": [
    "# spans_inside_divs"
   ]
  },
  {
   "cell_type": "markdown",
   "metadata": {
    "slideshow": {
     "slide_type": "slide"
    }
   },
   "source": [
    "## Example\n",
    "\n",
    "- 한국외국어대학교 도서관에서 big data로 검색한 단행본의 연도별 단행본의 수를 bar chart로 나타내시오.\n",
    "- 정말 지저분한 데이터\n",
    "- 요즘 웹 페이지들에서 데이터를 추출하려면, javascript를 수행한 결과를 봐야하기 때문에 어렵다."
   ]
  },
  {
   "cell_type": "raw",
   "metadata": {},
   "source": [
    "https://library.hufs.ac.kr/yongin/search/Search.Result.ax?sid=1&q=ALL%3Abig+data&eq=&mf=true&qt=%EC%A0%84%EC%B2%B4%3Dbig+data&qf=big+data&f=%28CLASSID%3A%281+OR+2%29%29&br=&cl=1+2+3+4+6+7+9+10+41+42+31+32+33+36+37+34+35+15+16+23+24+25+26+27+28+29+30+11+12+13+14+17+18+19+20+21+22&gr=1+2+3+4+5+6+7+8&rl=&page=1&pageSize=10&s=S_PYB&st=DESC&h=&cr=&py=&subj=&facet=Y&nd=&vid=0&tabID="
   ]
  },
  {
   "cell_type": "code",
   "execution_count": 44,
   "metadata": {
    "slideshow": {
     "slide_type": "fragment"
    }
   },
   "outputs": [],
   "source": [
    "import requests, re\n",
    "\n",
    "# you don't have to split the url like this unless it needs to fit in a book\n",
    "def extract_years(pnum):\n",
    "    url =\"https://library.hufs.ac.kr/yongin/search/Search.Result.ax?sid=1&q=ALL%3Abig+data&eq=&mf=true&qt=%EC%A0%84%EC%B2%B4%3Dbig+data&qf=big+data&f=%28CLASSID%3A%281+OR+2%29%29&br=&cl=1+2+3+4+6+7+9+10+41+42+31+32+33+36+37+34+35+15+16+23+24+25+26+27+28+29+30+11+12+13+14+17+18+19+20+21+22&gr=1+2+3+4+5+6+7+8&rl=&page=\" + \\\n",
    "         str(pnum) + \"&pageSize=10&s=S_PYB&st=DESC&h=&cr=&py=&subj=&facet=Y&nd=&vid=0&tabID=\"\n",
    "    hufs_lib_text = requests.get(url).text\n",
    "    soup = BeautifulSoup(hufs_lib_text, 'html5lib')\n",
    "\n",
    "    booklist = soup('dl', 'bookList')\n",
    "    print(len(booklist))\n",
    "    regex = re.compile('\\d{4}\\.')\n",
    "    years = []\n",
    "    for book in booklist:\n",
    "    #    print(book.find('a', 'title').text)\n",
    "#         print(book.find('div', 'body').text)\n",
    "        years.append(int(regex.findall(book.find('div', 'body').text)[0][:-1]))\n",
    "\n",
    "    return years"
   ]
  },
  {
   "cell_type": "code",
   "execution_count": 45,
   "metadata": {
    "slideshow": {
     "slide_type": "slide"
    }
   },
   "outputs": [
    {
     "name": "stdout",
     "output_type": "stream",
     "text": [
      "10\n",
      "10\n",
      "10\n",
      "10\n",
      "10\n",
      "10\n",
      "10\n",
      "10\n",
      "10\n",
      "10\n",
      "10\n",
      "10\n",
      "120\n"
     ]
    }
   ],
   "source": [
    "PAGENUM = 12\n",
    "years = []\n",
    "for pnum in range(1, PAGENUM + 1):\n",
    "    years += extract_years(pnum)\n",
    "    \n",
    "print(len(years))"
   ]
  },
  {
   "cell_type": "code",
   "execution_count": 46,
   "metadata": {
    "slideshow": {
     "slide_type": "slide"
    }
   },
   "outputs": [
    {
     "name": "stdout",
     "output_type": "stream",
     "text": [
      "Counter({2017: 30, 2018: 24, 2015: 23, 2019: 22, 2016: 20, 2020: 1})\n"
     ]
    },
    {
     "data": {
      "image/png": "[encoded data removed]",
      "text/plain": [
       "<Figure size 432x288 with 1 Axes>"
      ]
     },
     "metadata": {
      "needs_background": "light"
     },
     "output_type": "display_data"
    }
   ],
   "source": [
    "%matplotlib inline\n",
    "\n",
    "from collections import Counter\n",
    "import matplotlib.pyplot as plt\n",
    "\n",
    "fd = Counter(years)\n",
    "print(fd)\n",
    "plt.bar(fd.keys(), fd.values())\n",
    "plt.show()"
   ]
  },
  {
   "cell_type": "markdown",
   "metadata": {
    "slideshow": {
     "slide_type": "slide"
    }
   },
   "source": [
    "## Using APIs"
   ]
  },
  {
   "cell_type": "markdown",
   "metadata": {
    "slideshow": {
     "slide_type": "slide"
    }
   },
   "source": [
    "### JSON as Tree Data Model\n",
    "- MongoDB is JSON-style tree database\n",
    "- JSON as Python dictionay of dictionaries of dictionaries ..."
   ]
  },
  {
   "cell_type": "code",
   "execution_count": 47,
   "metadata": {
    "slideshow": {
     "slide_type": "fragment"
    }
   },
   "outputs": [],
   "source": [
    "import json\n",
    "serialized = \"\"\"{ \"title\" : \"Data Science Book\",\n",
    "                  \"author\" : \"Joel Grus\",\n",
    "                  \"publicationYear\" : 2014,\n",
    "                  \"topics\" : [ \"data\", \"science\", \"data science\"] }\"\"\"\n",
    "\n",
    "# parse the JSON to create a Python dict\n",
    "deserialized = json.loads(serialized)"
   ]
  },
  {
   "cell_type": "code",
   "execution_count": 48,
   "metadata": {
    "slideshow": {
     "slide_type": "fragment"
    }
   },
   "outputs": [
    {
     "data": {
      "text/plain": [
       "'Data Science Book'"
      ]
     },
     "execution_count": 48,
     "metadata": {},
     "output_type": "execute_result"
    }
   ],
   "source": [
    "deserialized['title']"
   ]
  },
  {
   "cell_type": "code",
   "execution_count": 49,
   "metadata": {
    "slideshow": {
     "slide_type": "fragment"
    }
   },
   "outputs": [
    {
     "data": {
      "text/plain": [
       "'Joel Grus'"
      ]
     },
     "execution_count": 49,
     "metadata": {},
     "output_type": "execute_result"
    }
   ],
   "source": [
    "deserialized['author']"
   ]
  },
  {
   "cell_type": "code",
   "execution_count": 50,
   "metadata": {
    "slideshow": {
     "slide_type": "fragment"
    }
   },
   "outputs": [
    {
     "data": {
      "text/plain": [
       "2014"
      ]
     },
     "execution_count": 50,
     "metadata": {},
     "output_type": "execute_result"
    }
   ],
   "source": [
    "deserialized['publicationYear']"
   ]
  },
  {
   "cell_type": "code",
   "execution_count": 51,
   "metadata": {
    "slideshow": {
     "slide_type": "fragment"
    }
   },
   "outputs": [
    {
     "data": {
      "text/plain": [
       "['data', 'science', 'data science']"
      ]
     },
     "execution_count": 51,
     "metadata": {},
     "output_type": "execute_result"
    }
   ],
   "source": [
    "deserialized['topics']"
   ]
  },
  {
   "cell_type": "code",
   "execution_count": 52,
   "metadata": {
    "slideshow": {
     "slide_type": "fragment"
    }
   },
   "outputs": [
    {
     "name": "stdout",
     "output_type": "stream",
     "text": [
      "{'title': 'Data Science Book', 'author': 'Joel Grus', 'publicationYear': 2014, 'topics': ['data', 'science', 'data science']}\n"
     ]
    }
   ],
   "source": [
    "if \"data science\" in deserialized[\"topics\"]:\n",
    "    print(deserialized)"
   ]
  },
  {
   "cell_type": "markdown",
   "metadata": {
    "slideshow": {
     "slide_type": "slide"
    }
   },
   "source": [
    "- To install various parser:\n",
    "    \n",
    "https://www.crummy.com/software/BeautifulSoup/bs4/doc/"
   ]
  },
  {
   "cell_type": "markdown",
   "metadata": {
    "slideshow": {
     "slide_type": "slide"
    }
   },
   "source": [
    "### XML as Tree Data Model"
   ]
  },
  {
   "cell_type": "raw",
   "metadata": {
    "slideshow": {
     "slide_type": "skip"
    }
   },
   "source": [
    "tag, attribute, text에 대해 설명할 것"
   ]
  },
  {
   "cell_type": "code",
   "execution_count": 53,
   "metadata": {
    "slideshow": {
     "slide_type": "slide"
    }
   },
   "outputs": [],
   "source": [
    "xml_text = \"\"\"\n",
    "<Book>\n",
    "  <Title>Data Science Book</Title>\n",
    "  <Author>Joel Grus</Author>\n",
    "  <PublicationYear>2014</PublicationYear>\n",
    "  <Topics>\n",
    "    <Topic>data</Topic>\n",
    "    <Topic>science</Topic>\n",
    "    <Topic>data science</Topic>\n",
    "  </Topics>\n",
    "</Book>\n",
    "\"\"\""
   ]
  },
  {
   "cell_type": "code",
   "execution_count": 54,
   "metadata": {
    "slideshow": {
     "slide_type": "fragment"
    }
   },
   "outputs": [
    {
     "data": {
      "text/plain": [
       "<book>\n",
       "<title>Data Science Book</title>\n",
       "<author>Joel Grus</author>\n",
       "<publicationyear>2014</publicationyear>\n",
       "<topics>\n",
       "<topic>data</topic>\n",
       "<topic>science</topic>\n",
       "<topic>data science</topic>\n",
       "</topics>\n",
       "</book>"
      ]
     },
     "execution_count": 54,
     "metadata": {},
     "output_type": "execute_result"
    }
   ],
   "source": [
    "soup = BeautifulSoup(xml_text, 'lxml')\n",
    "\n",
    "soup.book"
   ]
  },
  {
   "cell_type": "markdown",
   "metadata": {
    "slideshow": {
     "slide_type": "fragment"
    }
   },
   "source": [
    "Query 1: Find **title** of **book**"
   ]
  },
  {
   "cell_type": "code",
   "execution_count": 55,
   "metadata": {
    "slideshow": {
     "slide_type": "fragment"
    }
   },
   "outputs": [
    {
     "data": {
      "text/plain": [
       "<title>Data Science Book</title>"
      ]
     },
     "execution_count": 55,
     "metadata": {},
     "output_type": "execute_result"
    }
   ],
   "source": [
    "soup.book.title"
   ]
  },
  {
   "cell_type": "markdown",
   "metadata": {
    "slideshow": {
     "slide_type": "fragment"
    }
   },
   "source": [
    "Query 2: Find **title**'s text of **book**"
   ]
  },
  {
   "cell_type": "code",
   "execution_count": 56,
   "metadata": {
    "slideshow": {
     "slide_type": "fragment"
    }
   },
   "outputs": [
    {
     "data": {
      "text/plain": [
       "'Data Science Book'"
      ]
     },
     "execution_count": 56,
     "metadata": {},
     "output_type": "execute_result"
    }
   ],
   "source": [
    "soup.book.title.text"
   ]
  },
  {
   "cell_type": "markdown",
   "metadata": {
    "slideshow": {
     "slide_type": "fragment"
    }
   },
   "source": [
    "Query 3: Find **author** of **book**"
   ]
  },
  {
   "cell_type": "code",
   "execution_count": 57,
   "metadata": {
    "slideshow": {
     "slide_type": "fragment"
    }
   },
   "outputs": [
    {
     "data": {
      "text/plain": [
       "<author>Joel Grus</author>"
      ]
     },
     "execution_count": 57,
     "metadata": {},
     "output_type": "execute_result"
    }
   ],
   "source": [
    "soup.book.author"
   ]
  },
  {
   "cell_type": "markdown",
   "metadata": {
    "slideshow": {
     "slide_type": "fragment"
    }
   },
   "source": [
    "Query 4: Find all **topic** under **topics**"
   ]
  },
  {
   "cell_type": "code",
   "execution_count": 58,
   "metadata": {
    "slideshow": {
     "slide_type": "fragment"
    }
   },
   "outputs": [
    {
     "data": {
      "text/plain": [
       "[<topic>data</topic>, <topic>science</topic>, <topic>data science</topic>]"
      ]
     },
     "execution_count": 58,
     "metadata": {},
     "output_type": "execute_result"
    }
   ],
   "source": [
    "soup.topics('topic')"
   ]
  },
  {
   "cell_type": "markdown",
   "metadata": {
    "slideshow": {
     "slide_type": "fragment"
    }
   },
   "source": [
    "Query 5: Find second **topic**'s **text** of **topics** of **book**"
   ]
  },
  {
   "cell_type": "code",
   "execution_count": 59,
   "metadata": {
    "slideshow": {
     "slide_type": "fragment"
    }
   },
   "outputs": [
    {
     "data": {
      "text/plain": [
       "'science'"
      ]
     },
     "execution_count": 59,
     "metadata": {},
     "output_type": "execute_result"
    }
   ],
   "source": [
    "soup.book.topics('topic')[1].text"
   ]
  },
  {
   "cell_type": "markdown",
   "metadata": {
    "slideshow": {
     "slide_type": "fragment"
    }
   },
   "source": [
    "Query 6: Find last **topic** of **book**"
   ]
  },
  {
   "cell_type": "code",
   "execution_count": 60,
   "metadata": {
    "slideshow": {
     "slide_type": "fragment"
    }
   },
   "outputs": [
    {
     "data": {
      "text/plain": [
       "<topic>data science</topic>"
      ]
     },
     "execution_count": 60,
     "metadata": {},
     "output_type": "execute_result"
    }
   ],
   "source": [
    "soup.book('topic')[-1]"
   ]
  },
  {
   "cell_type": "markdown",
   "metadata": {
    "slideshow": {
     "slide_type": "fragment"
    }
   },
   "source": [
    "Query 7: Loop over all **topic** of **book**"
   ]
  },
  {
   "cell_type": "code",
   "execution_count": 61,
   "metadata": {
    "slideshow": {
     "slide_type": "fragment"
    }
   },
   "outputs": [
    {
     "name": "stdout",
     "output_type": "stream",
     "text": [
      "topic 0: data\n",
      "topic 1: science\n",
      "topic 2: data science\n"
     ]
    }
   ],
   "source": [
    "for i, topic in enumerate(soup.book('topic')):\n",
    "    print('topic {}: {}'.format(i, topic.text))"
   ]
  },
  {
   "cell_type": "markdown",
   "metadata": {},
   "source": [
    "(Overall Exercise)\n",
    "\n",
    "Query 8: Find the **title**'s **text** of all **books**s whose **author** is 'Joel Grus' and **publicationyear** >= 2000"
   ]
  },
  {
   "cell_type": "code",
   "execution_count": 62,
   "metadata": {},
   "outputs": [
    {
     "name": "stdout",
     "output_type": "stream",
     "text": [
      "Data Science Book\n"
     ]
    }
   ],
   "source": [
    "for book in soup('book'):\n",
    "    if book.author.text == 'Joel Grus' and int(book.publicationyear.text) >= 2000:\n",
    "        print(book.title.text)"
   ]
  },
  {
   "cell_type": "code",
   "execution_count": 63,
   "metadata": {
    "slideshow": {
     "slide_type": "fragment"
    }
   },
   "outputs": [
    {
     "data": {
      "text/plain": [
       "<topic>data</topic>"
      ]
     },
     "execution_count": 63,
     "metadata": {},
     "output_type": "execute_result"
    }
   ],
   "source": [
    "soup.topic"
   ]
  },
  {
   "cell_type": "code",
   "execution_count": 64,
   "metadata": {
    "slideshow": {
     "slide_type": "fragment"
    }
   },
   "outputs": [
    {
     "data": {
      "text/plain": [
       "'data'"
      ]
     },
     "execution_count": 64,
     "metadata": {},
     "output_type": "execute_result"
    }
   ],
   "source": [
    "soup.topic.text"
   ]
  },
  {
   "cell_type": "code",
   "execution_count": 65,
   "metadata": {
    "slideshow": {
     "slide_type": "fragment"
    }
   },
   "outputs": [
    {
     "data": {
      "text/plain": [
       "<topic>data</topic>"
      ]
     },
     "execution_count": 65,
     "metadata": {},
     "output_type": "execute_result"
    }
   ],
   "source": [
    "soup.find('topic')"
   ]
  },
  {
   "cell_type": "code",
   "execution_count": 66,
   "metadata": {
    "slideshow": {
     "slide_type": "fragment"
    }
   },
   "outputs": [
    {
     "data": {
      "text/plain": [
       "[<topic>data</topic>, <topic>science</topic>, <topic>data science</topic>]"
      ]
     },
     "execution_count": 66,
     "metadata": {},
     "output_type": "execute_result"
    }
   ],
   "source": [
    "soup.find_all('topic')"
   ]
  },
  {
   "cell_type": "code",
   "execution_count": 67,
   "metadata": {
    "scrolled": true,
    "slideshow": {
     "slide_type": "fragment"
    }
   },
   "outputs": [
    {
     "data": {
      "text/plain": [
       "'\\nData Science Book\\nJoel Grus\\n2014\\n\\ndata\\nscience\\ndata science\\n\\n\\n'"
      ]
     },
     "execution_count": 67,
     "metadata": {},
     "output_type": "execute_result"
    }
   ],
   "source": [
    "soup.text"
   ]
  },
  {
   "cell_type": "markdown",
   "metadata": {
    "slideshow": {
     "slide_type": "slide"
    }
   },
   "source": [
    "### Using an Unauthenticated API"
   ]
  },
  {
   "cell_type": "code",
   "execution_count": 68,
   "metadata": {
    "scrolled": true,
    "slideshow": {
     "slide_type": "slide"
    }
   },
   "outputs": [
    {
     "data": {
      "text/plain": [
       "[{'id': 112873601,\n",
       "  'node_id': 'MDEwOlJlcG9zaXRvcnkxMTI4NzM2MDE=',\n",
       "  'name': 'advent2017',\n",
       "  'full_name': 'joelgrus/advent2017',\n",
       "  'private': False,\n",
       "  'owner': {'login': 'joelgrus',\n",
       "   'id': 1308313,\n",
       "   'node_id': 'MDQ6VXNlcjEzMDgzMTM=',\n",
       "   'avatar_url': 'https://avatars1.githubusercontent.com/u/1308313?v=4',\n",
       "   'gravatar_id': '',\n",
       "   'url': 'https://api.github.com/users/joelgrus',\n",
       "   'html_url': 'https://github.com/joelgrus',\n",
       "   'followers_url': 'https://api.github.com/users/joelgrus/followers',\n",
       "   'following_url': 'https://api.github.com/users/joelgrus/following{/other_user}',\n",
       "   'gists_url': 'https://api.github.com/users/joelgrus/gists{/gist_id}',\n",
       "   'starred_url': 'https://api.github.com/users/joelgrus/starred{/owner}{/repo}',\n",
       "   'subscriptions_url': 'https://api.github.com/users/joelgrus/subscriptions',\n",
       "   'organizations_url': 'https://api.github.com/users/joelgrus/orgs',\n",
       "   'repos_url': 'https://api.github.com/users/joelgrus/repos',\n",
       "   'events_url': 'https://api.github.com/users/joelgrus/events{/privacy}',\n",
       "   'received_events_url': 'https://api.github.com/users/joelgrus/received_events',\n",
       "   'type': 'User',\n",
       "   'site_admin': False},\n",
       "  'html_url': 'https://github.com/joelgrus/advent2017',\n",
       "  'description': 'advent of code 2017',\n",
       "  'fork': False,\n",
       "  'url': 'https://api.github.com/repos/joelgrus/advent2017',\n",
       "  'forks_url': 'https://api.github.com/repos/joelgrus/advent2017/forks',\n",
       "  'keys_url': 'https://api.github.com/repos/joelgrus/advent2017/keys{/key_id}',\n",
       "  'collaborators_url': 'https://api.github.com/repos/joelgrus/advent2017/collaborators{/collaborator}',\n",
       "  'teams_url': 'https://api.github.com/repos/joelgrus/advent2017/teams',\n",
       "  'hooks_url': 'https://api.github.com/repos/joelgrus/advent2017/hooks',\n",
       "  'issue_events_url': 'https://api.github.com/repos/joelgrus/advent2017/issues/events{/number}',\n",
       "  'events_url': 'https://api.github.com/repos/joelgrus/advent2017/events',\n",
       "  'assignees_url': 'https://api.github.com/repos/joelgrus/advent2017/assignees{/user}',\n",
       "  'branches_url': 'https://api.github.com/repos/joelgrus/advent2017/branches{/branch}',\n",
       "  'tags_url': 'https://api.github.com/repos/joelgrus/advent2017/tags',\n",
       "  'blobs_url': 'https://api.github.com/repos/joelgrus/advent2017/git/blobs{/sha}',\n",
       "  'git_tags_url': 'https://api.github.com/repos/joelgrus/advent2017/git/tags{/sha}',\n",
       "  'git_refs_url': 'https://api.github.com/repos/joelgrus/advent2017/git/refs{/sha}',\n",
       "  'trees_url': 'https://api.github.com/repos/joelgrus/advent2017/git/trees{/sha}',\n",
       "  'statuses_url': 'https://api.github.com/repos/joelgrus/advent2017/statuses/{sha}',\n",
       "  'languages_url': 'https://api.github.com/repos/joelgrus/advent2017/languages',\n",
       "  'stargazers_url': 'https://api.github.com/repos/joelgrus/advent2017/stargazers',\n",
       "  'contributors_url': 'https://api.github.com/repos/joelgrus/advent2017/contributors',\n",
       "  'subscribers_url': 'https://api.github.com/repos/joelgrus/advent2017/subscribers',\n",
       "  'subscription_url': 'https://api.github.com/repos/joelgrus/advent2017/subscription',\n",
       "  'commits_url': 'https://api.github.com/repos/joelgrus/advent2017/commits{/sha}',\n",
       "  'git_commits_url': 'https://api.github.com/repos/joelgrus/advent2017/git/commits{/sha}',\n",
       "  'comments_url': 'https://api.github.com/repos/joelgrus/advent2017/comments{/number}',\n",
       "  'issue_comment_url': 'https://api.github.com/repos/joelgrus/advent2017/issues/comments{/number}',\n",
       "  'contents_url': 'https://api.github.com/repos/joelgrus/advent2017/contents/{+path}',\n",
       "  'compare_url': 'https://api.github.com/repos/joelgrus/advent2017/compare/{base}...{head}',\n",
       "  'merges_url': 'https://api.github.com/repos/joelgrus/advent2017/merges',\n",
       "  'archive_url': 'https://api.github.com/repos/joelgrus/advent2017/{archive_format}{/ref}',\n",
       "  'downloads_url': 'https://api.github.com/repos/joelgrus/advent2017/downloads',\n",
       "  'issues_url': 'https://api.github.com/repos/joelgrus/advent2017/issues{/number}',\n",
       "  'pulls_url': 'https://api.github.com/repos/joelgrus/advent2017/pulls{/number}',\n",
       "  'milestones_url': 'https://api.github.com/repos/joelgrus/advent2017/milestones{/number}',\n",
       "  'notifications_url': 'https://api.github.com/repos/joelgrus/advent2017/notifications{?since,all,participating}',\n",
       "  'labels_url': 'https://api.github.com/repos/joelgrus/advent2017/labels{/name}',\n",
       "  'releases_url': 'https://api.github.com/repos/joelgrus/advent2017/releases{/id}',\n",
       "  'deployments_url': 'https://api.github.com/repos/joelgrus/advent2017/deployments',\n",
       "  'created_at': '2017-12-02T20:13:49Z',\n",
       "  'updated_at': '2019-10-29T09:45:54Z',\n",
       "  'pushed_at': '2017-12-26T15:02:27Z',\n",
       "  'git_url': 'git://github.com/joelgrus/advent2017.git',\n",
       "  'ssh_url': 'git@github.com:joelgrus/advent2017.git',\n",
       "  'clone_url': 'https://github.com/joelgrus/advent2017.git',\n",
       "  'svn_url': 'https://github.com/joelgrus/advent2017',\n",
       "  'homepage': None,\n",
       "  'size': 156,\n",
       "  'stargazers_count': 6,\n",
       "  'watchers_count': 6,\n",
       "  'language': 'Python',\n",
       "  'has_issues': True,\n",
       "  'has_projects': True,\n",
       "  'has_downloads': True,\n",
       "  'has_wiki': True,\n",
       "  'has_pages': False,\n",
       "  'forks_count': 2,\n",
       "  'mirror_url': None,\n",
       "  'archived': False,\n",
       "  'disabled': False,\n",
       "  'open_issues_count': 0,\n",
       "  'license': None,\n",
       "  'forks': 2,\n",
       "  'open_issues': 0,\n",
       "  'watchers': 6,\n",
       "  'default_branch': 'master'},\n",
       " {'id': 159886377,\n",
       "  'node_id': 'MDEwOlJlcG9zaXRvcnkxNTk4ODYzNzc=',\n",
       "  'name': 'advent2018',\n",
       "  'full_name': 'joelgrus/advent2018',\n",
       "  'private': False,\n",
       "  'owner': {'login': 'joelgrus',\n",
       "   'id': 1308313,\n",
       "   'node_id': 'MDQ6VXNlcjEzMDgzMTM=',\n",
       "   'avatar_url': 'https://avatars1.githubusercontent.com/u/1308313?v=4',\n",
       "   'gravatar_id': '',\n",
       "   'url': 'https://api.github.com/users/joelgrus',\n",
       "   'html_url': 'https://github.com/joelgrus',\n",
       "   'followers_url': 'https://api.github.com/users/joelgrus/followers',\n",
       "   'following_url': 'https://api.github.com/users/joelgrus/following{/other_user}',\n",
       "   'gists_url': 'https://api.github.com/users/joelgrus/gists{/gist_id}',\n",
       "   'starred_url': 'https://api.github.com/users/joelgrus/starred{/owner}{/repo}',\n",
       "   'subscriptions_url': 'https://api.github.com/users/joelgrus/subscriptions',\n",
       "   'organizations_url': 'https://api.github.com/users/joelgrus/orgs',\n",
       "   'repos_url': 'https://api.github.com/users/joelgrus/repos',\n",
       "   'events_url': 'https://api.github.com/users/joelgrus/events{/privacy}',\n",
       "   'received_events_url': 'https://api.github.com/users/joelgrus/received_events',\n",
       "   'type': 'User',\n",
       "   'site_admin': False},\n",
       "  'html_url': 'https://github.com/joelgrus/advent2018',\n",
       "  'description': 'solutions for advent of code 2018',\n",
       "  'fork': False,\n",
       "  'url': 'https://api.github.com/repos/joelgrus/advent2018',\n",
       "  'forks_url': 'https://api.github.com/repos/joelgrus/advent2018/forks',\n",
       "  'keys_url': 'https://api.github.com/repos/joelgrus/advent2018/keys{/key_id}',\n",
       "  'collaborators_url': 'https://api.github.com/repos/joelgrus/advent2018/collaborators{/collaborator}',\n",
       "  'teams_url': 'https://api.github.com/repos/joelgrus/advent2018/teams',\n",
       "  'hooks_url': 'https://api.github.com/repos/joelgrus/advent2018/hooks',\n",
       "  'issue_events_url': 'https://api.github.com/repos/joelgrus/advent2018/issues/events{/number}',\n",
       "  'events_url': 'https://api.github.com/repos/joelgrus/advent2018/events',\n",
       "  'assignees_url': 'https://api.github.com/repos/joelgrus/advent2018/assignees{/user}',\n",
       "  'branches_url': 'https://api.github.com/repos/joelgrus/advent2018/branches{/branch}',\n",
       "  'tags_url': 'https://api.github.com/repos/joelgrus/advent2018/tags',\n",
       "  'blobs_url': 'https://api.github.com/repos/joelgrus/advent2018/git/blobs{/sha}',\n",
       "  'git_tags_url': 'https://api.github.com/repos/joelgrus/advent2018/git/tags{/sha}',\n",
       "  'git_refs_url': 'https://api.github.com/repos/joelgrus/advent2018/git/refs{/sha}',\n",
       "  'trees_url': 'https://api.github.com/repos/joelgrus/advent2018/git/trees{/sha}',\n",
       "  'statuses_url': 'https://api.github.com/repos/joelgrus/advent2018/statuses/{sha}',\n",
       "  'languages_url': 'https://api.github.com/repos/joelgrus/advent2018/languages',\n",
       "  'stargazers_url': 'https://api.github.com/repos/joelgrus/advent2018/stargazers',\n",
       "  'contributors_url': 'https://api.github.com/repos/joelgrus/advent2018/contributors',\n",
       "  'subscribers_url': 'https://api.github.com/repos/joelgrus/advent2018/subscribers',\n",
       "  'subscription_url': 'https://api.github.com/repos/joelgrus/advent2018/subscription',\n",
       "  'commits_url': 'https://api.github.com/repos/joelgrus/advent2018/commits{/sha}',\n",
       "  'git_commits_url': 'https://api.github.com/repos/joelgrus/advent2018/git/commits{/sha}',\n",
       "  'comments_url': 'https://api.github.com/repos/joelgrus/advent2018/comments{/number}',\n",
       "  'issue_comment_url': 'https://api.github.com/repos/joelgrus/advent2018/issues/comments{/number}',\n",
       "  'contents_url': 'https://api.github.com/repos/joelgrus/advent2018/contents/{+path}',\n",
       "  'compare_url': 'https://api.github.com/repos/joelgrus/advent2018/compare/{base}...{head}',\n",
       "  'merges_url': 'https://api.github.com/repos/joelgrus/advent2018/merges',\n",
       "  'archive_url': 'https://api.github.com/repos/joelgrus/advent2018/{archive_format}{/ref}',\n",
       "  'downloads_url': 'https://api.github.com/repos/joelgrus/advent2018/downloads',\n",
       "  'issues_url': 'https://api.github.com/repos/joelgrus/advent2018/issues{/number}',\n",
       "  'pulls_url': 'https://api.github.com/repos/joelgrus/advent2018/pulls{/number}',\n",
       "  'milestones_url': 'https://api.github.com/repos/joelgrus/advent2018/milestones{/number}',\n",
       "  'notifications_url': 'https://api.github.com/repos/joelgrus/advent2018/notifications{?since,all,participating}',\n",
       "  'labels_url': 'https://api.github.com/repos/joelgrus/advent2018/labels{/name}',\n",
       "  'releases_url': 'https://api.github.com/repos/joelgrus/advent2018/releases{/id}',\n",
       "  'deployments_url': 'https://api.github.com/repos/joelgrus/advent2018/deployments',\n",
       "  'created_at': '2018-11-30T22:41:16Z',\n",
       "  'updated_at': '2019-05-29T19:57:36Z',\n",
       "  'pushed_at': '2018-12-19T06:04:24Z',\n",
       "  'git_url': 'git://github.com/joelgrus/advent2018.git',\n",
       "  'ssh_url': 'git@github.com:joelgrus/advent2018.git',\n",
       "  'clone_url': 'https://github.com/joelgrus/advent2018.git',\n",
       "  'svn_url': 'https://github.com/joelgrus/advent2018',\n",
       "  'homepage': None,\n",
       "  'size': 121,\n",
       "  'stargazers_count': 16,\n",
       "  'watchers_count': 16,\n",
       "  'language': 'Python',\n",
       "  'has_issues': True,\n",
       "  'has_projects': True,\n",
       "  'has_downloads': True,\n",
       "  'has_wiki': True,\n",
       "  'has_pages': False,\n",
       "  'forks_count': 4,\n",
       "  'mirror_url': None,\n",
       "  'archived': False,\n",
       "  'disabled': False,\n",
       "  'open_issues_count': 0,\n",
       "  'license': {'key': 'unlicense',\n",
       "   'name': 'The Unlicense',\n",
       "   'spdx_id': 'Unlicense',\n",
       "   'url': 'https://api.github.com/licenses/unlicense',\n",
       "   'node_id': 'MDc6TGljZW5zZTE1'},\n",
       "  'forks': 4,\n",
       "  'open_issues': 0,\n",
       "  'watchers': 16,\n",
       "  'default_branch': 'master'},\n",
       " {'id': 225098708,\n",
       "  'node_id': 'MDEwOlJlcG9zaXRvcnkyMjUwOTg3MDg=',\n",
       "  'name': 'advent2019',\n",
       "  'full_name': 'joelgrus/advent2019',\n",
       "  'private': False,\n",
       "  'owner': {'login': 'joelgrus',\n",
       "   'id': 1308313,\n",
       "   'node_id': 'MDQ6VXNlcjEzMDgzMTM=',\n",
       "   'avatar_url': 'https://avatars1.githubusercontent.com/u/1308313?v=4',\n",
       "   'gravatar_id': '',\n",
       "   'url': 'https://api.github.com/users/joelgrus',\n",
       "   'html_url': 'https://github.com/joelgrus',\n",
       "   'followers_url': 'https://api.github.com/users/joelgrus/followers',\n",
       "   'following_url': 'https://api.github.com/users/joelgrus/following{/other_user}',\n",
       "   'gists_url': 'https://api.github.com/users/joelgrus/gists{/gist_id}',\n",
       "   'starred_url': 'https://api.github.com/users/joelgrus/starred{/owner}{/repo}',\n",
       "   'subscriptions_url': 'https://api.github.com/users/joelgrus/subscriptions',\n",
       "   'organizations_url': 'https://api.github.com/users/joelgrus/orgs',\n",
       "   'repos_url': 'https://api.github.com/users/joelgrus/repos',\n",
       "   'events_url': 'https://api.github.com/users/joelgrus/events{/privacy}',\n",
       "   'received_events_url': 'https://api.github.com/users/joelgrus/received_events',\n",
       "   'type': 'User',\n",
       "   'site_admin': False},\n",
       "  'html_url': 'https://github.com/joelgrus/advent2019',\n",
       "  'description': 'advent of code 2019',\n",
       "  'fork': False,\n",
       "  'url': 'https://api.github.com/repos/joelgrus/advent2019',\n",
       "  'forks_url': 'https://api.github.com/repos/joelgrus/advent2019/forks',\n",
       "  'keys_url': 'https://api.github.com/repos/joelgrus/advent2019/keys{/key_id}',\n",
       "  'collaborators_url': 'https://api.github.com/repos/joelgrus/advent2019/collaborators{/collaborator}',\n",
       "  'teams_url': 'https://api.github.com/repos/joelgrus/advent2019/teams',\n",
       "  'hooks_url': 'https://api.github.com/repos/joelgrus/advent2019/hooks',\n",
       "  'issue_events_url': 'https://api.github.com/repos/joelgrus/advent2019/issues/events{/number}',\n",
       "  'events_url': 'https://api.github.com/repos/joelgrus/advent2019/events',\n",
       "  'assignees_url': 'https://api.github.com/repos/joelgrus/advent2019/assignees{/user}',\n",
       "  'branches_url': 'https://api.github.com/repos/joelgrus/advent2019/branches{/branch}',\n",
       "  'tags_url': 'https://api.github.com/repos/joelgrus/advent2019/tags',\n",
       "  'blobs_url': 'https://api.github.com/repos/joelgrus/advent2019/git/blobs{/sha}',\n",
       "  'git_tags_url': 'https://api.github.com/repos/joelgrus/advent2019/git/tags{/sha}',\n",
       "  'git_refs_url': 'https://api.github.com/repos/joelgrus/advent2019/git/refs{/sha}',\n",
       "  'trees_url': 'https://api.github.com/repos/joelgrus/advent2019/git/trees{/sha}',\n",
       "  'statuses_url': 'https://api.github.com/repos/joelgrus/advent2019/statuses/{sha}',\n",
       "  'languages_url': 'https://api.github.com/repos/joelgrus/advent2019/languages',\n",
       "  'stargazers_url': 'https://api.github.com/repos/joelgrus/advent2019/stargazers',\n",
       "  'contributors_url': 'https://api.github.com/repos/joelgrus/advent2019/contributors',\n",
       "  'subscribers_url': 'https://api.github.com/repos/joelgrus/advent2019/subscribers',\n",
       "  'subscription_url': 'https://api.github.com/repos/joelgrus/advent2019/subscription',\n",
       "  'commits_url': 'https://api.github.com/repos/joelgrus/advent2019/commits{/sha}',\n",
       "  'git_commits_url': 'https://api.github.com/repos/joelgrus/advent2019/git/commits{/sha}',\n",
       "  'comments_url': 'https://api.github.com/repos/joelgrus/advent2019/comments{/number}',\n",
       "  'issue_comment_url': 'https://api.github.com/repos/joelgrus/advent2019/issues/comments{/number}',\n",
       "  'contents_url': 'https://api.github.com/repos/joelgrus/advent2019/contents/{+path}',\n",
       "  'compare_url': 'https://api.github.com/repos/joelgrus/advent2019/compare/{base}...{head}',\n",
       "  'merges_url': 'https://api.github.com/repos/joelgrus/advent2019/merges',\n",
       "  'archive_url': 'https://api.github.com/repos/joelgrus/advent2019/{archive_format}{/ref}',\n",
       "  'downloads_url': 'https://api.github.com/repos/joelgrus/advent2019/downloads',\n",
       "  'issues_url': 'https://api.github.com/repos/joelgrus/advent2019/issues{/number}',\n",
       "  'pulls_url': 'https://api.github.com/repos/joelgrus/advent2019/pulls{/number}',\n",
       "  'milestones_url': 'https://api.github.com/repos/joelgrus/advent2019/milestones{/number}',\n",
       "  'notifications_url': 'https://api.github.com/repos/joelgrus/advent2019/notifications{?since,all,participating}',\n",
       "  'labels_url': 'https://api.github.com/repos/joelgrus/advent2019/labels{/name}',\n",
       "  'releases_url': 'https://api.github.com/repos/joelgrus/advent2019/releases{/id}',\n",
       "  'deployments_url': 'https://api.github.com/repos/joelgrus/advent2019/deployments',\n",
       "  'created_at': '2019-12-01T02:57:18Z',\n",
       "  'updated_at': '2020-05-04T15:02:59Z',\n",
       "  'pushed_at': '2019-12-25T06:34:04Z',\n",
       "  'git_url': 'git://github.com/joelgrus/advent2019.git',\n",
       "  'ssh_url': 'git@github.com:joelgrus/advent2019.git',\n",
       "  'clone_url': 'https://github.com/joelgrus/advent2019.git',\n",
       "  'svn_url': 'https://github.com/joelgrus/advent2019',\n",
       "  'homepage': None,\n",
       "  'size': 96,\n",
       "  'stargazers_count': 19,\n",
       "  'watchers_count': 19,\n",
       "  'language': 'Python',\n",
       "  'has_issues': True,\n",
       "  'has_projects': True,\n",
       "  'has_downloads': True,\n",
       "  'has_wiki': True,\n",
       "  'has_pages': False,\n",
       "  'forks_count': 2,\n",
       "  'mirror_url': None,\n",
       "  'archived': False,\n",
       "  'disabled': False,\n",
       "  'open_issues_count': 0,\n",
       "  'license': None,\n",
       "  'forks': 2,\n",
       "  'open_issues': 0,\n",
       "  'watchers': 19,\n",
       "  'default_branch': 'master'},\n",
       " {'id': 122641019,\n",
       "  'node_id': 'MDEwOlJlcG9zaXRvcnkxMjI2NDEwMTk=',\n",
       "  'name': 'ai2',\n",
       "  'full_name': 'joelgrus/ai2',\n",
       "  'private': False,\n",
       "  'owner': {'login': 'joelgrus',\n",
       "   'id': 1308313,\n",
       "   'node_id': 'MDQ6VXNlcjEzMDgzMTM=',\n",
       "   'avatar_url': 'https://avatars1.githubusercontent.com/u/1308313?v=4',\n",
       "   'gravatar_id': '',\n",
       "   'url': 'https://api.github.com/users/joelgrus',\n",
       "   'html_url': 'https://github.com/joelgrus',\n",
       "   'followers_url': 'https://api.github.com/users/joelgrus/followers',\n",
       "   'following_url': 'https://api.github.com/users/joelgrus/following{/other_user}',\n",
       "   'gists_url': 'https://api.github.com/users/joelgrus/gists{/gist_id}',\n",
       "   'starred_url': 'https://api.github.com/users/joelgrus/starred{/owner}{/repo}',\n",
       "   'subscriptions_url': 'https://api.github.com/users/joelgrus/subscriptions',\n",
       "   'organizations_url': 'https://api.github.com/users/joelgrus/orgs',\n",
       "   'repos_url': 'https://api.github.com/users/joelgrus/repos',\n",
       "   'events_url': 'https://api.github.com/users/joelgrus/events{/privacy}',\n",
       "   'received_events_url': 'https://api.github.com/users/joelgrus/received_events',\n",
       "   'type': 'User',\n",
       "   'site_admin': False},\n",
       "  'html_url': 'https://github.com/joelgrus/ai2',\n",
       "  'description': None,\n",
       "  'fork': True,\n",
       "  'url': 'https://api.github.com/repos/joelgrus/ai2',\n",
       "  'forks_url': 'https://api.github.com/repos/joelgrus/ai2/forks',\n",
       "  'keys_url': 'https://api.github.com/repos/joelgrus/ai2/keys{/key_id}',\n",
       "  'collaborators_url': 'https://api.github.com/repos/joelgrus/ai2/collaborators{/collaborator}',\n",
       "  'teams_url': 'https://api.github.com/repos/joelgrus/ai2/teams',\n",
       "  'hooks_url': 'https://api.github.com/repos/joelgrus/ai2/hooks',\n",
       "  'issue_events_url': 'https://api.github.com/repos/joelgrus/ai2/issues/events{/number}',\n",
       "  'events_url': 'https://api.github.com/repos/joelgrus/ai2/events',\n",
       "  'assignees_url': 'https://api.github.com/repos/joelgrus/ai2/assignees{/user}',\n",
       "  'branches_url': 'https://api.github.com/repos/joelgrus/ai2/branches{/branch}',\n",
       "  'tags_url': 'https://api.github.com/repos/joelgrus/ai2/tags',\n",
       "  'blobs_url': 'https://api.github.com/repos/joelgrus/ai2/git/blobs{/sha}',\n",
       "  'git_tags_url': 'https://api.github.com/repos/joelgrus/ai2/git/tags{/sha}',\n",
       "  'git_refs_url': 'https://api.github.com/repos/joelgrus/ai2/git/refs{/sha}',\n",
       "  'trees_url': 'https://api.github.com/repos/joelgrus/ai2/git/trees{/sha}',\n",
       "  'statuses_url': 'https://api.github.com/repos/joelgrus/ai2/statuses/{sha}',\n",
       "  'languages_url': 'https://api.github.com/repos/joelgrus/ai2/languages',\n",
       "  'stargazers_url': 'https://api.github.com/repos/joelgrus/ai2/stargazers',\n",
       "  'contributors_url': 'https://api.github.com/repos/joelgrus/ai2/contributors',\n",
       "  'subscribers_url': 'https://api.github.com/repos/joelgrus/ai2/subscribers',\n",
       "  'subscription_url': 'https://api.github.com/repos/joelgrus/ai2/subscription',\n",
       "  'commits_url': 'https://api.github.com/repos/joelgrus/ai2/commits{/sha}',\n",
       "  'git_commits_url': 'https://api.github.com/repos/joelgrus/ai2/git/commits{/sha}',\n",
       "  'comments_url': 'https://api.github.com/repos/joelgrus/ai2/comments{/number}',\n",
       "  'issue_comment_url': 'https://api.github.com/repos/joelgrus/ai2/issues/comments{/number}',\n",
       "  'contents_url': 'https://api.github.com/repos/joelgrus/ai2/contents/{+path}',\n",
       "  'compare_url': 'https://api.github.com/repos/joelgrus/ai2/compare/{base}...{head}',\n",
       "  'merges_url': 'https://api.github.com/repos/joelgrus/ai2/merges',\n",
       "  'archive_url': 'https://api.github.com/repos/joelgrus/ai2/{archive_format}{/ref}',\n",
       "  'downloads_url': 'https://api.github.com/repos/joelgrus/ai2/downloads',\n",
       "  'issues_url': 'https://api.github.com/repos/joelgrus/ai2/issues{/number}',\n",
       "  'pulls_url': 'https://api.github.com/repos/joelgrus/ai2/pulls{/number}',\n",
       "  'milestones_url': 'https://api.github.com/repos/joelgrus/ai2/milestones{/number}',\n",
       "  'notifications_url': 'https://api.github.com/repos/joelgrus/ai2/notifications{?since,all,participating}',\n",
       "  'labels_url': 'https://api.github.com/repos/joelgrus/ai2/labels{/name}',\n",
       "  'releases_url': 'https://api.github.com/repos/joelgrus/ai2/releases{/id}',\n",
       "  'deployments_url': 'https://api.github.com/repos/joelgrus/ai2/deployments',\n",
       "  'created_at': '2018-02-23T15:51:04Z',\n",
       "  'updated_at': '2018-02-23T15:51:05Z',\n",
       "  'pushed_at': '2018-02-16T06:12:08Z',\n",
       "  'git_url': 'git://github.com/joelgrus/ai2.git',\n",
       "  'ssh_url': 'git@github.com:joelgrus/ai2.git',\n",
       "  'clone_url': 'https://github.com/joelgrus/ai2.git',\n",
       "  'svn_url': 'https://github.com/joelgrus/ai2',\n",
       "  'homepage': None,\n",
       "  'size': 43,\n",
       "  'stargazers_count': 0,\n",
       "  'watchers_count': 0,\n",
       "  'language': 'HTML',\n",
       "  'has_issues': False,\n",
       "  'has_projects': True,\n",
       "  'has_downloads': True,\n",
       "  'has_wiki': True,\n",
       "  'has_pages': False,\n",
       "  'forks_count': 0,\n",
       "  'mirror_url': None,\n",
       "  'archived': False,\n",
       "  'disabled': False,\n",
       "  'open_issues_count': 0,\n",
       "  'license': None,\n",
       "  'forks': 0,\n",
       "  'open_issues': 0,\n",
       "  'watchers': 0,\n",
       "  'default_branch': 'master'},\n",
       " {'id': 114700287,\n",
       "  'node_id': 'MDEwOlJlcG9zaXRvcnkxMTQ3MDAyODc=',\n",
       "  'name': 'allennlp',\n",
       "  'full_name': 'joelgrus/allennlp',\n",
       "  'private': False,\n",
       "  'owner': {'login': 'joelgrus',\n",
       "   'id': 1308313,\n",
       "   'node_id': 'MDQ6VXNlcjEzMDgzMTM=',\n",
       "   'avatar_url': 'https://avatars1.githubusercontent.com/u/1308313?v=4',\n",
       "   'gravatar_id': '',\n",
       "   'url': 'https://api.github.com/users/joelgrus',\n",
       "   'html_url': 'https://github.com/joelgrus',\n",
       "   'followers_url': 'https://api.github.com/users/joelgrus/followers',\n",
       "   'following_url': 'https://api.github.com/users/joelgrus/following{/other_user}',\n",
       "   'gists_url': 'https://api.github.com/users/joelgrus/gists{/gist_id}',\n",
       "   'starred_url': 'https://api.github.com/users/joelgrus/starred{/owner}{/repo}',\n",
       "   'subscriptions_url': 'https://api.github.com/users/joelgrus/subscriptions',\n",
       "   'organizations_url': 'https://api.github.com/users/joelgrus/orgs',\n",
       "   'repos_url': 'https://api.github.com/users/joelgrus/repos',\n",
       "   'events_url': 'https://api.github.com/users/joelgrus/events{/privacy}',\n",
       "   'received_events_url': 'https://api.github.com/users/joelgrus/received_events',\n",
       "   'type': 'User',\n",
       "   'site_admin': False},\n",
       "  'html_url': 'https://github.com/joelgrus/allennlp',\n",
       "  'description': 'An open-source NLP research library, built on PyTorch.',\n",
       "  'fork': True,\n",
       "  'url': 'https://api.github.com/repos/joelgrus/allennlp',\n",
       "  'forks_url': 'https://api.github.com/repos/joelgrus/allennlp/forks',\n",
       "  'keys_url': 'https://api.github.com/repos/joelgrus/allennlp/keys{/key_id}',\n",
       "  'collaborators_url': 'https://api.github.com/repos/joelgrus/allennlp/collaborators{/collaborator}',\n",
       "  'teams_url': 'https://api.github.com/repos/joelgrus/allennlp/teams',\n",
       "  'hooks_url': 'https://api.github.com/repos/joelgrus/allennlp/hooks',\n",
       "  'issue_events_url': 'https://api.github.com/repos/joelgrus/allennlp/issues/events{/number}',\n",
       "  'events_url': 'https://api.github.com/repos/joelgrus/allennlp/events',\n",
       "  'assignees_url': 'https://api.github.com/repos/joelgrus/allennlp/assignees{/user}',\n",
       "  'branches_url': 'https://api.github.com/repos/joelgrus/allennlp/branches{/branch}',\n",
       "  'tags_url': 'https://api.github.com/repos/joelgrus/allennlp/tags',\n",
       "  'blobs_url': 'https://api.github.com/repos/joelgrus/allennlp/git/blobs{/sha}',\n",
       "  'git_tags_url': 'https://api.github.com/repos/joelgrus/allennlp/git/tags{/sha}',\n",
       "  'git_refs_url': 'https://api.github.com/repos/joelgrus/allennlp/git/refs{/sha}',\n",
       "  'trees_url': 'https://api.github.com/repos/joelgrus/allennlp/git/trees{/sha}',\n",
       "  'statuses_url': 'https://api.github.com/repos/joelgrus/allennlp/statuses/{sha}',\n",
       "  'languages_url': 'https://api.github.com/repos/joelgrus/allennlp/languages',\n",
       "  'stargazers_url': 'https://api.github.com/repos/joelgrus/allennlp/stargazers',\n",
       "  'contributors_url': 'https://api.github.com/repos/joelgrus/allennlp/contributors',\n",
       "  'subscribers_url': 'https://api.github.com/repos/joelgrus/allennlp/subscribers',\n",
       "  'subscription_url': 'https://api.github.com/repos/joelgrus/allennlp/subscription',\n",
       "  'commits_url': 'https://api.github.com/repos/joelgrus/allennlp/commits{/sha}',\n",
       "  'git_commits_url': 'https://api.github.com/repos/joelgrus/allennlp/git/commits{/sha}',\n",
       "  'comments_url': 'https://api.github.com/repos/joelgrus/allennlp/comments{/number}',\n",
       "  'issue_comment_url': 'https://api.github.com/repos/joelgrus/allennlp/issues/comments{/number}',\n",
       "  'contents_url': 'https://api.github.com/repos/joelgrus/allennlp/contents/{+path}',\n",
       "  'compare_url': 'https://api.github.com/repos/joelgrus/allennlp/compare/{base}...{head}',\n",
       "  'merges_url': 'https://api.github.com/repos/joelgrus/allennlp/merges',\n",
       "  'archive_url': 'https://api.github.com/repos/joelgrus/allennlp/{archive_format}{/ref}',\n",
       "  'downloads_url': 'https://api.github.com/repos/joelgrus/allennlp/downloads',\n",
       "  'issues_url': 'https://api.github.com/repos/joelgrus/allennlp/issues{/number}',\n",
       "  'pulls_url': 'https://api.github.com/repos/joelgrus/allennlp/pulls{/number}',\n",
       "  'milestones_url': 'https://api.github.com/repos/joelgrus/allennlp/milestones{/number}',\n",
       "  'notifications_url': 'https://api.github.com/repos/joelgrus/allennlp/notifications{?since,all,participating}',\n",
       "  'labels_url': 'https://api.github.com/repos/joelgrus/allennlp/labels{/name}',\n",
       "  'releases_url': 'https://api.github.com/repos/joelgrus/allennlp/releases{/id}',\n",
       "  'deployments_url': 'https://api.github.com/repos/joelgrus/allennlp/deployments',\n",
       "  'created_at': '2017-12-19T00:12:40Z',\n",
       "  'updated_at': '2019-12-14T16:22:04Z',\n",
       "  'pushed_at': '2019-11-22T07:07:43Z',\n",
       "  'git_url': 'git://github.com/joelgrus/allennlp.git',\n",
       "  'ssh_url': 'git@github.com:joelgrus/allennlp.git',\n",
       "  'clone_url': 'https://github.com/joelgrus/allennlp.git',\n",
       "  'svn_url': 'https://github.com/joelgrus/allennlp',\n",
       "  'homepage': 'http://www.allennlp.org/',\n",
       "  'size': 65277,\n",
       "  'stargazers_count': 2,\n",
       "  'watchers_count': 2,\n",
       "  'language': 'Python',\n",
       "  'has_issues': False,\n",
       "  'has_projects': True,\n",
       "  'has_downloads': True,\n",
       "  'has_wiki': False,\n",
       "  'has_pages': False,\n",
       "  'forks_count': 2,\n",
       "  'mirror_url': None,\n",
       "  'archived': False,\n",
       "  'disabled': False,\n",
       "  'open_issues_count': 0,\n",
       "  'license': {'key': 'apache-2.0',\n",
       "   'name': 'Apache License 2.0',\n",
       "   'spdx_id': 'Apache-2.0',\n",
       "   'url': 'https://api.github.com/licenses/apache-2.0',\n",
       "   'node_id': 'MDc6TGljZW5zZTI='},\n",
       "  'forks': 2,\n",
       "  'open_issues': 0,\n",
       "  'watchers': 2,\n",
       "  'default_branch': 'master'},\n",
       " {'id': 119758315,\n",
       "  'node_id': 'MDEwOlJlcG9zaXRvcnkxMTk3NTgzMTU=',\n",
       "  'name': 'allennlp-as-a-library-example',\n",
       "  'full_name': 'joelgrus/allennlp-as-a-library-example',\n",
       "  'private': False,\n",
       "  'owner': {'login': 'joelgrus',\n",
       "   'id': 1308313,\n",
       "   'node_id': 'MDQ6VXNlcjEzMDgzMTM=',\n",
       "   'avatar_url': 'https://avatars1.githubusercontent.com/u/1308313?v=4',\n",
       "   'gravatar_id': '',\n",
       "   'url': 'https://api.github.com/users/joelgrus',\n",
       "   'html_url': 'https://github.com/joelgrus',\n",
       "   'followers_url': 'https://api.github.com/users/joelgrus/followers',\n",
       "   'following_url': 'https://api.github.com/users/joelgrus/following{/other_user}',\n",
       "   'gists_url': 'https://api.github.com/users/joelgrus/gists{/gist_id}',\n",
       "   'starred_url': 'https://api.github.com/users/joelgrus/starred{/owner}{/repo}',\n",
       "   'subscriptions_url': 'https://api.github.com/users/joelgrus/subscriptions',\n",
       "   'organizations_url': 'https://api.github.com/users/joelgrus/orgs',\n",
       "   'repos_url': 'https://api.github.com/users/joelgrus/repos',\n",
       "   'events_url': 'https://api.github.com/users/joelgrus/events{/privacy}',\n",
       "   'received_events_url': 'https://api.github.com/users/joelgrus/received_events',\n",
       "   'type': 'User',\n",
       "   'site_admin': False},\n",
       "  'html_url': 'https://github.com/joelgrus/allennlp-as-a-library-example',\n",
       "  'description': None,\n",
       "  'fork': True,\n",
       "  'url': 'https://api.github.com/repos/joelgrus/allennlp-as-a-library-example',\n",
       "  'forks_url': 'https://api.github.com/repos/joelgrus/allennlp-as-a-library-example/forks',\n",
       "  'keys_url': 'https://api.github.com/repos/joelgrus/allennlp-as-a-library-example/keys{/key_id}',\n",
       "  'collaborators_url': 'https://api.github.com/repos/joelgrus/allennlp-as-a-library-example/collaborators{/collaborator}',\n",
       "  'teams_url': 'https://api.github.com/repos/joelgrus/allennlp-as-a-library-example/teams',\n",
       "  'hooks_url': 'https://api.github.com/repos/joelgrus/allennlp-as-a-library-example/hooks',\n",
       "  'issue_events_url': 'https://api.github.com/repos/joelgrus/allennlp-as-a-library-example/issues/events{/number}',\n",
       "  'events_url': 'https://api.github.com/repos/joelgrus/allennlp-as-a-library-example/events',\n",
       "  'assignees_url': 'https://api.github.com/repos/joelgrus/allennlp-as-a-library-example/assignees{/user}',\n",
       "  'branches_url': 'https://api.github.com/repos/joelgrus/allennlp-as-a-library-example/branches{/branch}',\n",
       "  'tags_url': 'https://api.github.com/repos/joelgrus/allennlp-as-a-library-example/tags',\n",
       "  'blobs_url': 'https://api.github.com/repos/joelgrus/allennlp-as-a-library-example/git/blobs{/sha}',\n",
       "  'git_tags_url': 'https://api.github.com/repos/joelgrus/allennlp-as-a-library-example/git/tags{/sha}',\n",
       "  'git_refs_url': 'https://api.github.com/repos/joelgrus/allennlp-as-a-library-example/git/refs{/sha}',\n",
       "  'trees_url': 'https://api.github.com/repos/joelgrus/allennlp-as-a-library-example/git/trees{/sha}',\n",
       "  'statuses_url': 'https://api.github.com/repos/joelgrus/allennlp-as-a-library-example/statuses/{sha}',\n",
       "  'languages_url': 'https://api.github.com/repos/joelgrus/allennlp-as-a-library-example/languages',\n",
       "  'stargazers_url': 'https://api.github.com/repos/joelgrus/allennlp-as-a-library-example/stargazers',\n",
       "  'contributors_url': 'https://api.github.com/repos/joelgrus/allennlp-as-a-library-example/contributors',\n",
       "  'subscribers_url': 'https://api.github.com/repos/joelgrus/allennlp-as-a-library-example/subscribers',\n",
       "  'subscription_url': 'https://api.github.com/repos/joelgrus/allennlp-as-a-library-example/subscription',\n",
       "  'commits_url': 'https://api.github.com/repos/joelgrus/allennlp-as-a-library-example/commits{/sha}',\n",
       "  'git_commits_url': 'https://api.github.com/repos/joelgrus/allennlp-as-a-library-example/git/commits{/sha}',\n",
       "  'comments_url': 'https://api.github.com/repos/joelgrus/allennlp-as-a-library-example/comments{/number}',\n",
       "  'issue_comment_url': 'https://api.github.com/repos/joelgrus/allennlp-as-a-library-example/issues/comments{/number}',\n",
       "  'contents_url': 'https://api.github.com/repos/joelgrus/allennlp-as-a-library-example/contents/{+path}',\n",
       "  'compare_url': 'https://api.github.com/repos/joelgrus/allennlp-as-a-library-example/compare/{base}...{head}',\n",
       "  'merges_url': 'https://api.github.com/repos/joelgrus/allennlp-as-a-library-example/merges',\n",
       "  'archive_url': 'https://api.github.com/repos/joelgrus/allennlp-as-a-library-example/{archive_format}{/ref}',\n",
       "  'downloads_url': 'https://api.github.com/repos/joelgrus/allennlp-as-a-library-example/downloads',\n",
       "  'issues_url': 'https://api.github.com/repos/joelgrus/allennlp-as-a-library-example/issues{/number}',\n",
       "  'pulls_url': 'https://api.github.com/repos/joelgrus/allennlp-as-a-library-example/pulls{/number}',\n",
       "  'milestones_url': 'https://api.github.com/repos/joelgrus/allennlp-as-a-library-example/milestones{/number}',\n",
       "  'notifications_url': 'https://api.github.com/repos/joelgrus/allennlp-as-a-library-example/notifications{?since,all,participating}',\n",
       "  'labels_url': 'https://api.github.com/repos/joelgrus/allennlp-as-a-library-example/labels{/name}',\n",
       "  'releases_url': 'https://api.github.com/repos/joelgrus/allennlp-as-a-library-example/releases{/id}',\n",
       "  'deployments_url': 'https://api.github.com/repos/joelgrus/allennlp-as-a-library-example/deployments',\n",
       "  'created_at': '2018-01-31T23:51:16Z',\n",
       "  'updated_at': '2018-01-31T23:51:18Z',\n",
       "  'pushed_at': '2018-02-02T21:08:41Z',\n",
       "  'git_url': 'git://github.com/joelgrus/allennlp-as-a-library-example.git',\n",
       "  'ssh_url': 'git@github.com:joelgrus/allennlp-as-a-library-example.git',\n",
       "  'clone_url': 'https://github.com/joelgrus/allennlp-as-a-library-example.git',\n",
       "  'svn_url': 'https://github.com/joelgrus/allennlp-as-a-library-example',\n",
       "  'homepage': None,\n",
       "  'size': 46,\n",
       "  'stargazers_count': 0,\n",
       "  'watchers_count': 0,\n",
       "  'language': 'Python',\n",
       "  'has_issues': False,\n",
       "  'has_projects': True,\n",
       "  'has_downloads': True,\n",
       "  'has_wiki': True,\n",
       "  'has_pages': False,\n",
       "  'forks_count': 0,\n",
       "  'mirror_url': None,\n",
       "  'archived': False,\n",
       "  'disabled': False,\n",
       "  'open_issues_count': 0,\n",
       "  'license': None,\n",
       "  'forks': 0,\n",
       "  'open_issues': 0,\n",
       "  'watchers': 0,\n",
       "  'default_branch': 'master'},\n",
       " {'id': 162483325,\n",
       "  'node_id': 'MDEwOlJlcG9zaXRvcnkxNjI0ODMzMjU=',\n",
       "  'name': 'allennlp-demo',\n",
       "  'full_name': 'joelgrus/allennlp-demo',\n",
       "  'private': False,\n",
       "  'owner': {'login': 'joelgrus',\n",
       "   'id': 1308313,\n",
       "   'node_id': 'MDQ6VXNlcjEzMDgzMTM=',\n",
       "   'avatar_url': 'https://avatars1.githubusercontent.com/u/1308313?v=4',\n",
       "   'gravatar_id': '',\n",
       "   'url': 'https://api.github.com/users/joelgrus',\n",
       "   'html_url': 'https://github.com/joelgrus',\n",
       "   'followers_url': 'https://api.github.com/users/joelgrus/followers',\n",
       "   'following_url': 'https://api.github.com/users/joelgrus/following{/other_user}',\n",
       "   'gists_url': 'https://api.github.com/users/joelgrus/gists{/gist_id}',\n",
       "   'starred_url': 'https://api.github.com/users/joelgrus/starred{/owner}{/repo}',\n",
       "   'subscriptions_url': 'https://api.github.com/users/joelgrus/subscriptions',\n",
       "   'organizations_url': 'https://api.github.com/users/joelgrus/orgs',\n",
       "   'repos_url': 'https://api.github.com/users/joelgrus/repos',\n",
       "   'events_url': 'https://api.github.com/users/joelgrus/events{/privacy}',\n",
       "   'received_events_url': 'https://api.github.com/users/joelgrus/received_events',\n",
       "   'type': 'User',\n",
       "   'site_admin': False},\n",
       "  'html_url': 'https://github.com/joelgrus/allennlp-demo',\n",
       "  'description': 'code for demo.allennlp.org',\n",
       "  'fork': True,\n",
       "  'url': 'https://api.github.com/repos/joelgrus/allennlp-demo',\n",
       "  'forks_url': 'https://api.github.com/repos/joelgrus/allennlp-demo/forks',\n",
       "  'keys_url': 'https://api.github.com/repos/joelgrus/allennlp-demo/keys{/key_id}',\n",
       "  'collaborators_url': 'https://api.github.com/repos/joelgrus/allennlp-demo/collaborators{/collaborator}',\n",
       "  'teams_url': 'https://api.github.com/repos/joelgrus/allennlp-demo/teams',\n",
       "  'hooks_url': 'https://api.github.com/repos/joelgrus/allennlp-demo/hooks',\n",
       "  'issue_events_url': 'https://api.github.com/repos/joelgrus/allennlp-demo/issues/events{/number}',\n",
       "  'events_url': 'https://api.github.com/repos/joelgrus/allennlp-demo/events',\n",
       "  'assignees_url': 'https://api.github.com/repos/joelgrus/allennlp-demo/assignees{/user}',\n",
       "  'branches_url': 'https://api.github.com/repos/joelgrus/allennlp-demo/branches{/branch}',\n",
       "  'tags_url': 'https://api.github.com/repos/joelgrus/allennlp-demo/tags',\n",
       "  'blobs_url': 'https://api.github.com/repos/joelgrus/allennlp-demo/git/blobs{/sha}',\n",
       "  'git_tags_url': 'https://api.github.com/repos/joelgrus/allennlp-demo/git/tags{/sha}',\n",
       "  'git_refs_url': 'https://api.github.com/repos/joelgrus/allennlp-demo/git/refs{/sha}',\n",
       "  'trees_url': 'https://api.github.com/repos/joelgrus/allennlp-demo/git/trees{/sha}',\n",
       "  'statuses_url': 'https://api.github.com/repos/joelgrus/allennlp-demo/statuses/{sha}',\n",
       "  'languages_url': 'https://api.github.com/repos/joelgrus/allennlp-demo/languages',\n",
       "  'stargazers_url': 'https://api.github.com/repos/joelgrus/allennlp-demo/stargazers',\n",
       "  'contributors_url': 'https://api.github.com/repos/joelgrus/allennlp-demo/contributors',\n",
       "  'subscribers_url': 'https://api.github.com/repos/joelgrus/allennlp-demo/subscribers',\n",
       "  'subscription_url': 'https://api.github.com/repos/joelgrus/allennlp-demo/subscription',\n",
       "  'commits_url': 'https://api.github.com/repos/joelgrus/allennlp-demo/commits{/sha}',\n",
       "  'git_commits_url': 'https://api.github.com/repos/joelgrus/allennlp-demo/git/commits{/sha}',\n",
       "  'comments_url': 'https://api.github.com/repos/joelgrus/allennlp-demo/comments{/number}',\n",
       "  'issue_comment_url': 'https://api.github.com/repos/joelgrus/allennlp-demo/issues/comments{/number}',\n",
       "  'contents_url': 'https://api.github.com/repos/joelgrus/allennlp-demo/contents/{+path}',\n",
       "  'compare_url': 'https://api.github.com/repos/joelgrus/allennlp-demo/compare/{base}...{head}',\n",
       "  'merges_url': 'https://api.github.com/repos/joelgrus/allennlp-demo/merges',\n",
       "  'archive_url': 'https://api.github.com/repos/joelgrus/allennlp-demo/{archive_format}{/ref}',\n",
       "  'downloads_url': 'https://api.github.com/repos/joelgrus/allennlp-demo/downloads',\n",
       "  'issues_url': 'https://api.github.com/repos/joelgrus/allennlp-demo/issues{/number}',\n",
       "  'pulls_url': 'https://api.github.com/repos/joelgrus/allennlp-demo/pulls{/number}',\n",
       "  'milestones_url': 'https://api.github.com/repos/joelgrus/allennlp-demo/milestones{/number}',\n",
       "  'notifications_url': 'https://api.github.com/repos/joelgrus/allennlp-demo/notifications{?since,all,participating}',\n",
       "  'labels_url': 'https://api.github.com/repos/joelgrus/allennlp-demo/labels{/name}',\n",
       "  'releases_url': 'https://api.github.com/repos/joelgrus/allennlp-demo/releases{/id}',\n",
       "  'deployments_url': 'https://api.github.com/repos/joelgrus/allennlp-demo/deployments',\n",
       "  'created_at': '2018-12-19T19:44:45Z',\n",
       "  'updated_at': '2019-08-13T01:24:00Z',\n",
       "  'pushed_at': '2019-10-03T17:46:17Z',\n",
       "  'git_url': 'git://github.com/joelgrus/allennlp-demo.git',\n",
       "  'ssh_url': 'git@github.com:joelgrus/allennlp-demo.git',\n",
       "  'clone_url': 'https://github.com/joelgrus/allennlp-demo.git',\n",
       "  'svn_url': 'https://github.com/joelgrus/allennlp-demo',\n",
       "  'homepage': None,\n",
       "  'size': 36556,\n",
       "  'stargazers_count': 1,\n",
       "  'watchers_count': 1,\n",
       "  'language': 'Python',\n",
       "  'has_issues': False,\n",
       "  'has_projects': True,\n",
       "  'has_downloads': True,\n",
       "  'has_wiki': True,\n",
       "  'has_pages': False,\n",
       "  'forks_count': 1,\n",
       "  'mirror_url': None,\n",
       "  'archived': False,\n",
       "  'disabled': False,\n",
       "  'open_issues_count': 0,\n",
       "  'license': {'key': 'apache-2.0',\n",
       "   'name': 'Apache License 2.0',\n",
       "   'spdx_id': 'Apache-2.0',\n",
       "   'url': 'https://api.github.com/licenses/apache-2.0',\n",
       "   'node_id': 'MDc6TGljZW5zZTI='},\n",
       "  'forks': 1,\n",
       "  'open_issues': 0,\n",
       "  'watchers': 1,\n",
       "  'default_branch': 'master'},\n",
       " {'id': 147449873,\n",
       "  'node_id': 'MDEwOlJlcG9zaXRvcnkxNDc0NDk4NzM=',\n",
       "  'name': 'autograd',\n",
       "  'full_name': 'joelgrus/autograd',\n",
       "  'private': False,\n",
       "  'owner': {'login': 'joelgrus',\n",
       "   'id': 1308313,\n",
       "   'node_id': 'MDQ6VXNlcjEzMDgzMTM=',\n",
       "   'avatar_url': 'https://avatars1.githubusercontent.com/u/1308313?v=4',\n",
       "   'gravatar_id': '',\n",
       "   'url': 'https://api.github.com/users/joelgrus',\n",
       "   'html_url': 'https://github.com/joelgrus',\n",
       "   'followers_url': 'https://api.github.com/users/joelgrus/followers',\n",
       "   'following_url': 'https://api.github.com/users/joelgrus/following{/other_user}',\n",
       "   'gists_url': 'https://api.github.com/users/joelgrus/gists{/gist_id}',\n",
       "   'starred_url': 'https://api.github.com/users/joelgrus/starred{/owner}{/repo}',\n",
       "   'subscriptions_url': 'https://api.github.com/users/joelgrus/subscriptions',\n",
       "   'organizations_url': 'https://api.github.com/users/joelgrus/orgs',\n",
       "   'repos_url': 'https://api.github.com/users/joelgrus/repos',\n",
       "   'events_url': 'https://api.github.com/users/joelgrus/events{/privacy}',\n",
       "   'received_events_url': 'https://api.github.com/users/joelgrus/received_events',\n",
       "   'type': 'User',\n",
       "   'site_admin': False},\n",
       "  'html_url': 'https://github.com/joelgrus/autograd',\n",
       "  'description': 'coding an autograd from scratch',\n",
       "  'fork': False,\n",
       "  'url': 'https://api.github.com/repos/joelgrus/autograd',\n",
       "  'forks_url': 'https://api.github.com/repos/joelgrus/autograd/forks',\n",
       "  'keys_url': 'https://api.github.com/repos/joelgrus/autograd/keys{/key_id}',\n",
       "  'collaborators_url': 'https://api.github.com/repos/joelgrus/autograd/collaborators{/collaborator}',\n",
       "  'teams_url': 'https://api.github.com/repos/joelgrus/autograd/teams',\n",
       "  'hooks_url': 'https://api.github.com/repos/joelgrus/autograd/hooks',\n",
       "  'issue_events_url': 'https://api.github.com/repos/joelgrus/autograd/issues/events{/number}',\n",
       "  'events_url': 'https://api.github.com/repos/joelgrus/autograd/events',\n",
       "  'assignees_url': 'https://api.github.com/repos/joelgrus/autograd/assignees{/user}',\n",
       "  'branches_url': 'https://api.github.com/repos/joelgrus/autograd/branches{/branch}',\n",
       "  'tags_url': 'https://api.github.com/repos/joelgrus/autograd/tags',\n",
       "  'blobs_url': 'https://api.github.com/repos/joelgrus/autograd/git/blobs{/sha}',\n",
       "  'git_tags_url': 'https://api.github.com/repos/joelgrus/autograd/git/tags{/sha}',\n",
       "  'git_refs_url': 'https://api.github.com/repos/joelgrus/autograd/git/refs{/sha}',\n",
       "  'trees_url': 'https://api.github.com/repos/joelgrus/autograd/git/trees{/sha}',\n",
       "  'statuses_url': 'https://api.github.com/repos/joelgrus/autograd/statuses/{sha}',\n",
       "  'languages_url': 'https://api.github.com/repos/joelgrus/autograd/languages',\n",
       "  'stargazers_url': 'https://api.github.com/repos/joelgrus/autograd/stargazers',\n",
       "  'contributors_url': 'https://api.github.com/repos/joelgrus/autograd/contributors',\n",
       "  'subscribers_url': 'https://api.github.com/repos/joelgrus/autograd/subscribers',\n",
       "  'subscription_url': 'https://api.github.com/repos/joelgrus/autograd/subscription',\n",
       "  'commits_url': 'https://api.github.com/repos/joelgrus/autograd/commits{/sha}',\n",
       "  'git_commits_url': 'https://api.github.com/repos/joelgrus/autograd/git/commits{/sha}',\n",
       "  'comments_url': 'https://api.github.com/repos/joelgrus/autograd/comments{/number}',\n",
       "  'issue_comment_url': 'https://api.github.com/repos/joelgrus/autograd/issues/comments{/number}',\n",
       "  'contents_url': 'https://api.github.com/repos/joelgrus/autograd/contents/{+path}',\n",
       "  'compare_url': 'https://api.github.com/repos/joelgrus/autograd/compare/{base}...{head}',\n",
       "  'merges_url': 'https://api.github.com/repos/joelgrus/autograd/merges',\n",
       "  'archive_url': 'https://api.github.com/repos/joelgrus/autograd/{archive_format}{/ref}',\n",
       "  'downloads_url': 'https://api.github.com/repos/joelgrus/autograd/downloads',\n",
       "  'issues_url': 'https://api.github.com/repos/joelgrus/autograd/issues{/number}',\n",
       "  'pulls_url': 'https://api.github.com/repos/joelgrus/autograd/pulls{/number}',\n",
       "  'milestones_url': 'https://api.github.com/repos/joelgrus/autograd/milestones{/number}',\n",
       "  'notifications_url': 'https://api.github.com/repos/joelgrus/autograd/notifications{?since,all,participating}',\n",
       "  'labels_url': 'https://api.github.com/repos/joelgrus/autograd/labels{/name}',\n",
       "  'releases_url': 'https://api.github.com/repos/joelgrus/autograd/releases{/id}',\n",
       "  'deployments_url': 'https://api.github.com/repos/joelgrus/autograd/deployments',\n",
       "  'created_at': '2018-09-05T02:43:52Z',\n",
       "  'updated_at': '2020-04-29T12:11:34Z',\n",
       "  'pushed_at': '2019-01-12T15:45:18Z',\n",
       "  'git_url': 'git://github.com/joelgrus/autograd.git',\n",
       "  'ssh_url': 'git@github.com:joelgrus/autograd.git',\n",
       "  'clone_url': 'https://github.com/joelgrus/autograd.git',\n",
       "  'svn_url': 'https://github.com/joelgrus/autograd',\n",
       "  'homepage': '',\n",
       "  'size': 15,\n",
       "  'stargazers_count': 57,\n",
       "  'watchers_count': 57,\n",
       "  'language': None,\n",
       "  'has_issues': True,\n",
       "  'has_projects': True,\n",
       "  'has_downloads': True,\n",
       "  'has_wiki': True,\n",
       "  'has_pages': False,\n",
       "  'forks_count': 8,\n",
       "  'mirror_url': None,\n",
       "  'archived': False,\n",
       "  'disabled': False,\n",
       "  'open_issues_count': 0,\n",
       "  'license': {'key': 'unlicense',\n",
       "   'name': 'The Unlicense',\n",
       "   'spdx_id': 'Unlicense',\n",
       "   'url': 'https://api.github.com/licenses/unlicense',\n",
       "   'node_id': 'MDc6TGljZW5zZTE1'},\n",
       "  'forks': 8,\n",
       "  'open_issues': 0,\n",
       "  'watchers': 57,\n",
       "  'default_branch': 'master'},\n",
       " {'id': 168755903,\n",
       "  'node_id': 'MDEwOlJlcG9zaXRvcnkxNjg3NTU5MDM=',\n",
       "  'name': 'awesome-podcasts',\n",
       "  'full_name': 'joelgrus/awesome-podcasts',\n",
       "  'private': False,\n",
       "  'owner': {'login': 'joelgrus',\n",
       "   'id': 1308313,\n",
       "   'node_id': 'MDQ6VXNlcjEzMDgzMTM=',\n",
       "   'avatar_url': 'https://avatars1.githubusercontent.com/u/1308313?v=4',\n",
       "   'gravatar_id': '',\n",
       "   'url': 'https://api.github.com/users/joelgrus',\n",
       "   'html_url': 'https://github.com/joelgrus',\n",
       "   'followers_url': 'https://api.github.com/users/joelgrus/followers',\n",
       "   'following_url': 'https://api.github.com/users/joelgrus/following{/other_user}',\n",
       "   'gists_url': 'https://api.github.com/users/joelgrus/gists{/gist_id}',\n",
       "   'starred_url': 'https://api.github.com/users/joelgrus/starred{/owner}{/repo}',\n",
       "   'subscriptions_url': 'https://api.github.com/users/joelgrus/subscriptions',\n",
       "   'organizations_url': 'https://api.github.com/users/joelgrus/orgs',\n",
       "   'repos_url': 'https://api.github.com/users/joelgrus/repos',\n",
       "   'events_url': 'https://api.github.com/users/joelgrus/events{/privacy}',\n",
       "   'received_events_url': 'https://api.github.com/users/joelgrus/received_events',\n",
       "   'type': 'User',\n",
       "   'site_admin': False},\n",
       "  'html_url': 'https://github.com/joelgrus/awesome-podcasts',\n",
       "  'description': 'Collection of awesome podcasts',\n",
       "  'fork': True,\n",
       "  'url': 'https://api.github.com/repos/joelgrus/awesome-podcasts',\n",
       "  'forks_url': 'https://api.github.com/repos/joelgrus/awesome-podcasts/forks',\n",
       "  'keys_url': 'https://api.github.com/repos/joelgrus/awesome-podcasts/keys{/key_id}',\n",
       "  'collaborators_url': 'https://api.github.com/repos/joelgrus/awesome-podcasts/collaborators{/collaborator}',\n",
       "  'teams_url': 'https://api.github.com/repos/joelgrus/awesome-podcasts/teams',\n",
       "  'hooks_url': 'https://api.github.com/repos/joelgrus/awesome-podcasts/hooks',\n",
       "  'issue_events_url': 'https://api.github.com/repos/joelgrus/awesome-podcasts/issues/events{/number}',\n",
       "  'events_url': 'https://api.github.com/repos/joelgrus/awesome-podcasts/events',\n",
       "  'assignees_url': 'https://api.github.com/repos/joelgrus/awesome-podcasts/assignees{/user}',\n",
       "  'branches_url': 'https://api.github.com/repos/joelgrus/awesome-podcasts/branches{/branch}',\n",
       "  'tags_url': 'https://api.github.com/repos/joelgrus/awesome-podcasts/tags',\n",
       "  'blobs_url': 'https://api.github.com/repos/joelgrus/awesome-podcasts/git/blobs{/sha}',\n",
       "  'git_tags_url': 'https://api.github.com/repos/joelgrus/awesome-podcasts/git/tags{/sha}',\n",
       "  'git_refs_url': 'https://api.github.com/repos/joelgrus/awesome-podcasts/git/refs{/sha}',\n",
       "  'trees_url': 'https://api.github.com/repos/joelgrus/awesome-podcasts/git/trees{/sha}',\n",
       "  'statuses_url': 'https://api.github.com/repos/joelgrus/awesome-podcasts/statuses/{sha}',\n",
       "  'languages_url': 'https://api.github.com/repos/joelgrus/awesome-podcasts/languages',\n",
       "  'stargazers_url': 'https://api.github.com/repos/joelgrus/awesome-podcasts/stargazers',\n",
       "  'contributors_url': 'https://api.github.com/repos/joelgrus/awesome-podcasts/contributors',\n",
       "  'subscribers_url': 'https://api.github.com/repos/joelgrus/awesome-podcasts/subscribers',\n",
       "  'subscription_url': 'https://api.github.com/repos/joelgrus/awesome-podcasts/subscription',\n",
       "  'commits_url': 'https://api.github.com/repos/joelgrus/awesome-podcasts/commits{/sha}',\n",
       "  'git_commits_url': 'https://api.github.com/repos/joelgrus/awesome-podcasts/git/commits{/sha}',\n",
       "  'comments_url': 'https://api.github.com/repos/joelgrus/awesome-podcasts/comments{/number}',\n",
       "  'issue_comment_url': 'https://api.github.com/repos/joelgrus/awesome-podcasts/issues/comments{/number}',\n",
       "  'contents_url': 'https://api.github.com/repos/joelgrus/awesome-podcasts/contents/{+path}',\n",
       "  'compare_url': 'https://api.github.com/repos/joelgrus/awesome-podcasts/compare/{base}...{head}',\n",
       "  'merges_url': 'https://api.github.com/repos/joelgrus/awesome-podcasts/merges',\n",
       "  'archive_url': 'https://api.github.com/repos/joelgrus/awesome-podcasts/{archive_format}{/ref}',\n",
       "  'downloads_url': 'https://api.github.com/repos/joelgrus/awesome-podcasts/downloads',\n",
       "  'issues_url': 'https://api.github.com/repos/joelgrus/awesome-podcasts/issues{/number}',\n",
       "  'pulls_url': 'https://api.github.com/repos/joelgrus/awesome-podcasts/pulls{/number}',\n",
       "  'milestones_url': 'https://api.github.com/repos/joelgrus/awesome-podcasts/milestones{/number}',\n",
       "  'notifications_url': 'https://api.github.com/repos/joelgrus/awesome-podcasts/notifications{?since,all,participating}',\n",
       "  'labels_url': 'https://api.github.com/repos/joelgrus/awesome-podcasts/labels{/name}',\n",
       "  'releases_url': 'https://api.github.com/repos/joelgrus/awesome-podcasts/releases{/id}',\n",
       "  'deployments_url': 'https://api.github.com/repos/joelgrus/awesome-podcasts/deployments',\n",
       "  'created_at': '2019-02-01T20:25:46Z',\n",
       "  'updated_at': '2020-01-16T17:40:00Z',\n",
       "  'pushed_at': '2019-02-01T20:29:18Z',\n",
       "  'git_url': 'git://github.com/joelgrus/awesome-podcasts.git',\n",
       "  'ssh_url': 'git@github.com:joelgrus/awesome-podcasts.git',\n",
       "  'clone_url': 'https://github.com/joelgrus/awesome-podcasts.git',\n",
       "  'svn_url': 'https://github.com/joelgrus/awesome-podcasts',\n",
       "  'homepage': '',\n",
       "  'size': 399,\n",
       "  'stargazers_count': 4,\n",
       "  'watchers_count': 4,\n",
       "  'language': None,\n",
       "  'has_issues': False,\n",
       "  'has_projects': True,\n",
       "  'has_downloads': True,\n",
       "  'has_wiki': True,\n",
       "  'has_pages': False,\n",
       "  'forks_count': 2,\n",
       "  'mirror_url': None,\n",
       "  'archived': False,\n",
       "  'disabled': False,\n",
       "  'open_issues_count': 0,\n",
       "  'license': None,\n",
       "  'forks': 2,\n",
       "  'open_issues': 0,\n",
       "  'watchers': 4,\n",
       "  'default_branch': 'master'},\n",
       " {'id': 11189868,\n",
       "  'node_id': 'MDEwOlJlcG9zaXRvcnkxMTE4OTg2OA==',\n",
       "  'name': 'bitstarter',\n",
       "  'full_name': 'joelgrus/bitstarter',\n",
       "  'private': False,\n",
       "  'owner': {'login': 'joelgrus',\n",
       "   'id': 1308313,\n",
       "   'node_id': 'MDQ6VXNlcjEzMDgzMTM=',\n",
       "   'avatar_url': 'https://avatars1.githubusercontent.com/u/1308313?v=4',\n",
       "   'gravatar_id': '',\n",
       "   'url': 'https://api.github.com/users/joelgrus',\n",
       "   'html_url': 'https://github.com/joelgrus',\n",
       "   'followers_url': 'https://api.github.com/users/joelgrus/followers',\n",
       "   'following_url': 'https://api.github.com/users/joelgrus/following{/other_user}',\n",
       "   'gists_url': 'https://api.github.com/users/joelgrus/gists{/gist_id}',\n",
       "   'starred_url': 'https://api.github.com/users/joelgrus/starred{/owner}{/repo}',\n",
       "   'subscriptions_url': 'https://api.github.com/users/joelgrus/subscriptions',\n",
       "   'organizations_url': 'https://api.github.com/users/joelgrus/orgs',\n",
       "   'repos_url': 'https://api.github.com/users/joelgrus/repos',\n",
       "   'events_url': 'https://api.github.com/users/joelgrus/events{/privacy}',\n",
       "   'received_events_url': 'https://api.github.com/users/joelgrus/received_events',\n",
       "   'type': 'User',\n",
       "   'site_admin': False},\n",
       "  'html_url': 'https://github.com/joelgrus/bitstarter',\n",
       "  'description': None,\n",
       "  'fork': True,\n",
       "  'url': 'https://api.github.com/repos/joelgrus/bitstarter',\n",
       "  'forks_url': 'https://api.github.com/repos/joelgrus/bitstarter/forks',\n",
       "  'keys_url': 'https://api.github.com/repos/joelgrus/bitstarter/keys{/key_id}',\n",
       "  'collaborators_url': 'https://api.github.com/repos/joelgrus/bitstarter/collaborators{/collaborator}',\n",
       "  'teams_url': 'https://api.github.com/repos/joelgrus/bitstarter/teams',\n",
       "  'hooks_url': 'https://api.github.com/repos/joelgrus/bitstarter/hooks',\n",
       "  'issue_events_url': 'https://api.github.com/repos/joelgrus/bitstarter/issues/events{/number}',\n",
       "  'events_url': 'https://api.github.com/repos/joelgrus/bitstarter/events',\n",
       "  'assignees_url': 'https://api.github.com/repos/joelgrus/bitstarter/assignees{/user}',\n",
       "  'branches_url': 'https://api.github.com/repos/joelgrus/bitstarter/branches{/branch}',\n",
       "  'tags_url': 'https://api.github.com/repos/joelgrus/bitstarter/tags',\n",
       "  'blobs_url': 'https://api.github.com/repos/joelgrus/bitstarter/git/blobs{/sha}',\n",
       "  'git_tags_url': 'https://api.github.com/repos/joelgrus/bitstarter/git/tags{/sha}',\n",
       "  'git_refs_url': 'https://api.github.com/repos/joelgrus/bitstarter/git/refs{/sha}',\n",
       "  'trees_url': 'https://api.github.com/repos/joelgrus/bitstarter/git/trees{/sha}',\n",
       "  'statuses_url': 'https://api.github.com/repos/joelgrus/bitstarter/statuses/{sha}',\n",
       "  'languages_url': 'https://api.github.com/repos/joelgrus/bitstarter/languages',\n",
       "  'stargazers_url': 'https://api.github.com/repos/joelgrus/bitstarter/stargazers',\n",
       "  'contributors_url': 'https://api.github.com/repos/joelgrus/bitstarter/contributors',\n",
       "  'subscribers_url': 'https://api.github.com/repos/joelgrus/bitstarter/subscribers',\n",
       "  'subscription_url': 'https://api.github.com/repos/joelgrus/bitstarter/subscription',\n",
       "  'commits_url': 'https://api.github.com/repos/joelgrus/bitstarter/commits{/sha}',\n",
       "  'git_commits_url': 'https://api.github.com/repos/joelgrus/bitstarter/git/commits{/sha}',\n",
       "  'comments_url': 'https://api.github.com/repos/joelgrus/bitstarter/comments{/number}',\n",
       "  'issue_comment_url': 'https://api.github.com/repos/joelgrus/bitstarter/issues/comments{/number}',\n",
       "  'contents_url': 'https://api.github.com/repos/joelgrus/bitstarter/contents/{+path}',\n",
       "  'compare_url': 'https://api.github.com/repos/joelgrus/bitstarter/compare/{base}...{head}',\n",
       "  'merges_url': 'https://api.github.com/repos/joelgrus/bitstarter/merges',\n",
       "  'archive_url': 'https://api.github.com/repos/joelgrus/bitstarter/{archive_format}{/ref}',\n",
       "  'downloads_url': 'https://api.github.com/repos/joelgrus/bitstarter/downloads',\n",
       "  'issues_url': 'https://api.github.com/repos/joelgrus/bitstarter/issues{/number}',\n",
       "  'pulls_url': 'https://api.github.com/repos/joelgrus/bitstarter/pulls{/number}',\n",
       "  'milestones_url': 'https://api.github.com/repos/joelgrus/bitstarter/milestones{/number}',\n",
       "  'notifications_url': 'https://api.github.com/repos/joelgrus/bitstarter/notifications{?since,all,participating}',\n",
       "  'labels_url': 'https://api.github.com/repos/joelgrus/bitstarter/labels{/name}',\n",
       "  'releases_url': 'https://api.github.com/repos/joelgrus/bitstarter/releases{/id}',\n",
       "  'deployments_url': 'https://api.github.com/repos/joelgrus/bitstarter/deployments',\n",
       "  'created_at': '2013-07-05T02:02:28Z',\n",
       "  'updated_at': '2013-07-17T17:59:24Z',\n",
       "  'pushed_at': '2013-07-17T17:59:11Z',\n",
       "  'git_url': 'git://github.com/joelgrus/bitstarter.git',\n",
       "  'ssh_url': 'git@github.com:joelgrus/bitstarter.git',\n",
       "  'clone_url': 'https://github.com/joelgrus/bitstarter.git',\n",
       "  'svn_url': 'https://github.com/joelgrus/bitstarter',\n",
       "  'homepage': None,\n",
       "  'size': 161,\n",
       "  'stargazers_count': 0,\n",
       "  'watchers_count': 0,\n",
       "  'language': 'JavaScript',\n",
       "  'has_issues': False,\n",
       "  'has_projects': True,\n",
       "  'has_downloads': True,\n",
       "  'has_wiki': True,\n",
       "  'has_pages': False,\n",
       "  'forks_count': 1,\n",
       "  'mirror_url': None,\n",
       "  'archived': False,\n",
       "  'disabled': False,\n",
       "  'open_issues_count': 0,\n",
       "  'license': None,\n",
       "  'forks': 1,\n",
       "  'open_issues': 0,\n",
       "  'watchers': 0,\n",
       "  'default_branch': 'master'},\n",
       " {'id': 90890276,\n",
       "  'node_id': 'MDEwOlJlcG9zaXRvcnk5MDg5MDI3Ng==',\n",
       "  'name': 'britecharts',\n",
       "  'full_name': 'joelgrus/britecharts',\n",
       "  'private': False,\n",
       "  'owner': {'login': 'joelgrus',\n",
       "   'id': 1308313,\n",
       "   'node_id': 'MDQ6VXNlcjEzMDgzMTM=',\n",
       "   'avatar_url': 'https://avatars1.githubusercontent.com/u/1308313?v=4',\n",
       "   'gravatar_id': '',\n",
       "   'url': 'https://api.github.com/users/joelgrus',\n",
       "   'html_url': 'https://github.com/joelgrus',\n",
       "   'followers_url': 'https://api.github.com/users/joelgrus/followers',\n",
       "   'following_url': 'https://api.github.com/users/joelgrus/following{/other_user}',\n",
       "   'gists_url': 'https://api.github.com/users/joelgrus/gists{/gist_id}',\n",
       "   'starred_url': 'https://api.github.com/users/joelgrus/starred{/owner}{/repo}',\n",
       "   'subscriptions_url': 'https://api.github.com/users/joelgrus/subscriptions',\n",
       "   'organizations_url': 'https://api.github.com/users/joelgrus/orgs',\n",
       "   'repos_url': 'https://api.github.com/users/joelgrus/repos',\n",
       "   'events_url': 'https://api.github.com/users/joelgrus/events{/privacy}',\n",
       "   'received_events_url': 'https://api.github.com/users/joelgrus/received_events',\n",
       "   'type': 'User',\n",
       "   'site_admin': False},\n",
       "  'html_url': 'https://github.com/joelgrus/britecharts',\n",
       "  'description': 'Client-side reusable Charting Library based on D3.js v4 that allows easy and intuitive use of charts and components that can be composed together creating amazing visualizations.',\n",
       "  'fork': True,\n",
       "  'url': 'https://api.github.com/repos/joelgrus/britecharts',\n",
       "  'forks_url': 'https://api.github.com/repos/joelgrus/britecharts/forks',\n",
       "  'keys_url': 'https://api.github.com/repos/joelgrus/britecharts/keys{/key_id}',\n",
       "  'collaborators_url': 'https://api.github.com/repos/joelgrus/britecharts/collaborators{/collaborator}',\n",
       "  'teams_url': 'https://api.github.com/repos/joelgrus/britecharts/teams',\n",
       "  'hooks_url': 'https://api.github.com/repos/joelgrus/britecharts/hooks',\n",
       "  'issue_events_url': 'https://api.github.com/repos/joelgrus/britecharts/issues/events{/number}',\n",
       "  'events_url': 'https://api.github.com/repos/joelgrus/britecharts/events',\n",
       "  'assignees_url': 'https://api.github.com/repos/joelgrus/britecharts/assignees{/user}',\n",
       "  'branches_url': 'https://api.github.com/repos/joelgrus/britecharts/branches{/branch}',\n",
       "  'tags_url': 'https://api.github.com/repos/joelgrus/britecharts/tags',\n",
       "  'blobs_url': 'https://api.github.com/repos/joelgrus/britecharts/git/blobs{/sha}',\n",
       "  'git_tags_url': 'https://api.github.com/repos/joelgrus/britecharts/git/tags{/sha}',\n",
       "  'git_refs_url': 'https://api.github.com/repos/joelgrus/britecharts/git/refs{/sha}',\n",
       "  'trees_url': 'https://api.github.com/repos/joelgrus/britecharts/git/trees{/sha}',\n",
       "  'statuses_url': 'https://api.github.com/repos/joelgrus/britecharts/statuses/{sha}',\n",
       "  'languages_url': 'https://api.github.com/repos/joelgrus/britecharts/languages',\n",
       "  'stargazers_url': 'https://api.github.com/repos/joelgrus/britecharts/stargazers',\n",
       "  'contributors_url': 'https://api.github.com/repos/joelgrus/britecharts/contributors',\n",
       "  'subscribers_url': 'https://api.github.com/repos/joelgrus/britecharts/subscribers',\n",
       "  'subscription_url': 'https://api.github.com/repos/joelgrus/britecharts/subscription',\n",
       "  'commits_url': 'https://api.github.com/repos/joelgrus/britecharts/commits{/sha}',\n",
       "  'git_commits_url': 'https://api.github.com/repos/joelgrus/britecharts/git/commits{/sha}',\n",
       "  'comments_url': 'https://api.github.com/repos/joelgrus/britecharts/comments{/number}',\n",
       "  'issue_comment_url': 'https://api.github.com/repos/joelgrus/britecharts/issues/comments{/number}',\n",
       "  'contents_url': 'https://api.github.com/repos/joelgrus/britecharts/contents/{+path}',\n",
       "  'compare_url': 'https://api.github.com/repos/joelgrus/britecharts/compare/{base}...{head}',\n",
       "  'merges_url': 'https://api.github.com/repos/joelgrus/britecharts/merges',\n",
       "  'archive_url': 'https://api.github.com/repos/joelgrus/britecharts/{archive_format}{/ref}',\n",
       "  'downloads_url': 'https://api.github.com/repos/joelgrus/britecharts/downloads',\n",
       "  'issues_url': 'https://api.github.com/repos/joelgrus/britecharts/issues{/number}',\n",
       "  'pulls_url': 'https://api.github.com/repos/joelgrus/britecharts/pulls{/number}',\n",
       "  'milestones_url': 'https://api.github.com/repos/joelgrus/britecharts/milestones{/number}',\n",
       "  'notifications_url': 'https://api.github.com/repos/joelgrus/britecharts/notifications{?since,all,participating}',\n",
       "  'labels_url': 'https://api.github.com/repos/joelgrus/britecharts/labels{/name}',\n",
       "  'releases_url': 'https://api.github.com/repos/joelgrus/britecharts/releases{/id}',\n",
       "  'deployments_url': 'https://api.github.com/repos/joelgrus/britecharts/deployments',\n",
       "  'created_at': '2017-05-10T17:22:45Z',\n",
       "  'updated_at': '2020-04-17T17:50:11Z',\n",
       "  'pushed_at': '2017-05-10T17:33:56Z',\n",
       "  'git_url': 'git://github.com/joelgrus/britecharts.git',\n",
       "  'ssh_url': 'git@github.com:joelgrus/britecharts.git',\n",
       "  'clone_url': 'https://github.com/joelgrus/britecharts.git',\n",
       "  'svn_url': 'https://github.com/joelgrus/britecharts',\n",
       "  'homepage': 'http://eventbrite.github.io/britecharts/',\n",
       "  'size': 14181,\n",
       "  'stargazers_count': 1,\n",
       "  'watchers_count': 1,\n",
       "  'language': 'JavaScript',\n",
       "  'has_issues': False,\n",
       "  'has_projects': True,\n",
       "  'has_downloads': True,\n",
       "  'has_wiki': True,\n",
       "  'has_pages': False,\n",
       "  'forks_count': 1,\n",
       "  'mirror_url': None,\n",
       "  'archived': False,\n",
       "  'disabled': False,\n",
       "  'open_issues_count': 0,\n",
       "  'license': {'key': 'apache-2.0',\n",
       "   'name': 'Apache License 2.0',\n",
       "   'spdx_id': 'Apache-2.0',\n",
       "   'url': 'https://api.github.com/licenses/apache-2.0',\n",
       "   'node_id': 'MDc6TGljZW5zZTI='},\n",
       "  'forks': 1,\n",
       "  'open_issues': 0,\n",
       "  'watchers': 1,\n",
       "  'default_branch': 'master'},\n",
       " {'id': 14416027,\n",
       "  'node_id': 'MDEwOlJlcG9zaXRvcnkxNDQxNjAyNw==',\n",
       "  'name': 'cantos',\n",
       "  'full_name': 'joelgrus/cantos',\n",
       "  'private': False,\n",
       "  'owner': {'login': 'joelgrus',\n",
       "   'id': 1308313,\n",
       "   'node_id': 'MDQ6VXNlcjEzMDgzMTM=',\n",
       "   'avatar_url': 'https://avatars1.githubusercontent.com/u/1308313?v=4',\n",
       "   'gravatar_id': '',\n",
       "   'url': 'https://api.github.com/users/joelgrus',\n",
       "   'html_url': 'https://github.com/joelgrus',\n",
       "   'followers_url': 'https://api.github.com/users/joelgrus/followers',\n",
       "   'following_url': 'https://api.github.com/users/joelgrus/following{/other_user}',\n",
       "   'gists_url': 'https://api.github.com/users/joelgrus/gists{/gist_id}',\n",
       "   'starred_url': 'https://api.github.com/users/joelgrus/starred{/owner}{/repo}',\n",
       "   'subscriptions_url': 'https://api.github.com/users/joelgrus/subscriptions',\n",
       "   'organizations_url': 'https://api.github.com/users/joelgrus/orgs',\n",
       "   'repos_url': 'https://api.github.com/users/joelgrus/repos',\n",
       "   'events_url': 'https://api.github.com/users/joelgrus/events{/privacy}',\n",
       "   'received_events_url': 'https://api.github.com/users/joelgrus/received_events',\n",
       "   'type': 'User',\n",
       "   'site_admin': False},\n",
       "  'html_url': 'https://github.com/joelgrus/cantos',\n",
       "  'description': 'F#st and furious static website generator.  Written in F#.',\n",
       "  'fork': True,\n",
       "  'url': 'https://api.github.com/repos/joelgrus/cantos',\n",
       "  'forks_url': 'https://api.github.com/repos/joelgrus/cantos/forks',\n",
       "  'keys_url': 'https://api.github.com/repos/joelgrus/cantos/keys{/key_id}',\n",
       "  'collaborators_url': 'https://api.github.com/repos/joelgrus/cantos/collaborators{/collaborator}',\n",
       "  'teams_url': 'https://api.github.com/repos/joelgrus/cantos/teams',\n",
       "  'hooks_url': 'https://api.github.com/repos/joelgrus/cantos/hooks',\n",
       "  'issue_events_url': 'https://api.github.com/repos/joelgrus/cantos/issues/events{/number}',\n",
       "  'events_url': 'https://api.github.com/repos/joelgrus/cantos/events',\n",
       "  'assignees_url': 'https://api.github.com/repos/joelgrus/cantos/assignees{/user}',\n",
       "  'branches_url': 'https://api.github.com/repos/joelgrus/cantos/branches{/branch}',\n",
       "  'tags_url': 'https://api.github.com/repos/joelgrus/cantos/tags',\n",
       "  'blobs_url': 'https://api.github.com/repos/joelgrus/cantos/git/blobs{/sha}',\n",
       "  'git_tags_url': 'https://api.github.com/repos/joelgrus/cantos/git/tags{/sha}',\n",
       "  'git_refs_url': 'https://api.github.com/repos/joelgrus/cantos/git/refs{/sha}',\n",
       "  'trees_url': 'https://api.github.com/repos/joelgrus/cantos/git/trees{/sha}',\n",
       "  'statuses_url': 'https://api.github.com/repos/joelgrus/cantos/statuses/{sha}',\n",
       "  'languages_url': 'https://api.github.com/repos/joelgrus/cantos/languages',\n",
       "  'stargazers_url': 'https://api.github.com/repos/joelgrus/cantos/stargazers',\n",
       "  'contributors_url': 'https://api.github.com/repos/joelgrus/cantos/contributors',\n",
       "  'subscribers_url': 'https://api.github.com/repos/joelgrus/cantos/subscribers',\n",
       "  'subscription_url': 'https://api.github.com/repos/joelgrus/cantos/subscription',\n",
       "  'commits_url': 'https://api.github.com/repos/joelgrus/cantos/commits{/sha}',\n",
       "  'git_commits_url': 'https://api.github.com/repos/joelgrus/cantos/git/commits{/sha}',\n",
       "  'comments_url': 'https://api.github.com/repos/joelgrus/cantos/comments{/number}',\n",
       "  'issue_comment_url': 'https://api.github.com/repos/joelgrus/cantos/issues/comments{/number}',\n",
       "  'contents_url': 'https://api.github.com/repos/joelgrus/cantos/contents/{+path}',\n",
       "  'compare_url': 'https://api.github.com/repos/joelgrus/cantos/compare/{base}...{head}',\n",
       "  'merges_url': 'https://api.github.com/repos/joelgrus/cantos/merges',\n",
       "  'archive_url': 'https://api.github.com/repos/joelgrus/cantos/{archive_format}{/ref}',\n",
       "  'downloads_url': 'https://api.github.com/repos/joelgrus/cantos/downloads',\n",
       "  'issues_url': 'https://api.github.com/repos/joelgrus/cantos/issues{/number}',\n",
       "  'pulls_url': 'https://api.github.com/repos/joelgrus/cantos/pulls{/number}',\n",
       "  'milestones_url': 'https://api.github.com/repos/joelgrus/cantos/milestones{/number}',\n",
       "  'notifications_url': 'https://api.github.com/repos/joelgrus/cantos/notifications{?since,all,participating}',\n",
       "  'labels_url': 'https://api.github.com/repos/joelgrus/cantos/labels{/name}',\n",
       "  'releases_url': 'https://api.github.com/repos/joelgrus/cantos/releases{/id}',\n",
       "  'deployments_url': 'https://api.github.com/repos/joelgrus/cantos/deployments',\n",
       "  'created_at': '2013-11-15T05:33:22Z',\n",
       "  'updated_at': '2013-11-15T05:33:22Z',\n",
       "  'pushed_at': '2013-07-01T17:46:13Z',\n",
       "  'git_url': 'git://github.com/joelgrus/cantos.git',\n",
       "  'ssh_url': 'git@github.com:joelgrus/cantos.git',\n",
       "  'clone_url': 'https://github.com/joelgrus/cantos.git',\n",
       "  'svn_url': 'https://github.com/joelgrus/cantos',\n",
       "  'homepage': '',\n",
       "  'size': 60,\n",
       "  'stargazers_count': 0,\n",
       "  'watchers_count': 0,\n",
       "  'language': 'F#',\n",
       "  'has_issues': False,\n",
       "  'has_projects': True,\n",
       "  'has_downloads': True,\n",
       "  'has_wiki': True,\n",
       "  'has_pages': False,\n",
       "  'forks_count': 0,\n",
       "  'mirror_url': None,\n",
       "  'archived': False,\n",
       "  'disabled': False,\n",
       "  'open_issues_count': 0,\n",
       "  'license': None,\n",
       "  'forks': 0,\n",
       "  'open_issues': 0,\n",
       "  'watchers': 0,\n",
       "  'default_branch': 'master'},\n",
       " {'id': 5851332,\n",
       "  'node_id': 'MDEwOlJlcG9zaXRvcnk1ODUxMzMy',\n",
       "  'name': 'chain-py',\n",
       "  'full_name': 'joelgrus/chain-py',\n",
       "  'private': False,\n",
       "  'owner': {'login': 'joelgrus',\n",
       "   'id': 1308313,\n",
       "   'node_id': 'MDQ6VXNlcjEzMDgzMTM=',\n",
       "   'avatar_url': 'https://avatars1.githubusercontent.com/u/1308313?v=4',\n",
       "   'gravatar_id': '',\n",
       "   'url': 'https://api.github.com/users/joelgrus',\n",
       "   'html_url': 'https://github.com/joelgrus',\n",
       "   'followers_url': 'https://api.github.com/users/joelgrus/followers',\n",
       "   'following_url': 'https://api.github.com/users/joelgrus/following{/other_user}',\n",
       "   'gists_url': 'https://api.github.com/users/joelgrus/gists{/gist_id}',\n",
       "   'starred_url': 'https://api.github.com/users/joelgrus/starred{/owner}{/repo}',\n",
       "   'subscriptions_url': 'https://api.github.com/users/joelgrus/subscriptions',\n",
       "   'organizations_url': 'https://api.github.com/users/joelgrus/orgs',\n",
       "   'repos_url': 'https://api.github.com/users/joelgrus/repos',\n",
       "   'events_url': 'https://api.github.com/users/joelgrus/events{/privacy}',\n",
       "   'received_events_url': 'https://api.github.com/users/joelgrus/received_events',\n",
       "   'type': 'User',\n",
       "   'site_admin': False},\n",
       "  'html_url': 'https://github.com/joelgrus/chain-py',\n",
       "  'description': 'Fluent sequence operations in Python',\n",
       "  'fork': False,\n",
       "  'url': 'https://api.github.com/repos/joelgrus/chain-py',\n",
       "  'forks_url': 'https://api.github.com/repos/joelgrus/chain-py/forks',\n",
       "  'keys_url': 'https://api.github.com/repos/joelgrus/chain-py/keys{/key_id}',\n",
       "  'collaborators_url': 'https://api.github.com/repos/joelgrus/chain-py/collaborators{/collaborator}',\n",
       "  'teams_url': 'https://api.github.com/repos/joelgrus/chain-py/teams',\n",
       "  'hooks_url': 'https://api.github.com/repos/joelgrus/chain-py/hooks',\n",
       "  'issue_events_url': 'https://api.github.com/repos/joelgrus/chain-py/issues/events{/number}',\n",
       "  'events_url': 'https://api.github.com/repos/joelgrus/chain-py/events',\n",
       "  'assignees_url': 'https://api.github.com/repos/joelgrus/chain-py/assignees{/user}',\n",
       "  'branches_url': 'https://api.github.com/repos/joelgrus/chain-py/branches{/branch}',\n",
       "  'tags_url': 'https://api.github.com/repos/joelgrus/chain-py/tags',\n",
       "  'blobs_url': 'https://api.github.com/repos/joelgrus/chain-py/git/blobs{/sha}',\n",
       "  'git_tags_url': 'https://api.github.com/repos/joelgrus/chain-py/git/tags{/sha}',\n",
       "  'git_refs_url': 'https://api.github.com/repos/joelgrus/chain-py/git/refs{/sha}',\n",
       "  'trees_url': 'https://api.github.com/repos/joelgrus/chain-py/git/trees{/sha}',\n",
       "  'statuses_url': 'https://api.github.com/repos/joelgrus/chain-py/statuses/{sha}',\n",
       "  'languages_url': 'https://api.github.com/repos/joelgrus/chain-py/languages',\n",
       "  'stargazers_url': 'https://api.github.com/repos/joelgrus/chain-py/stargazers',\n",
       "  'contributors_url': 'https://api.github.com/repos/joelgrus/chain-py/contributors',\n",
       "  'subscribers_url': 'https://api.github.com/repos/joelgrus/chain-py/subscribers',\n",
       "  'subscription_url': 'https://api.github.com/repos/joelgrus/chain-py/subscription',\n",
       "  'commits_url': 'https://api.github.com/repos/joelgrus/chain-py/commits{/sha}',\n",
       "  'git_commits_url': 'https://api.github.com/repos/joelgrus/chain-py/git/commits{/sha}',\n",
       "  'comments_url': 'https://api.github.com/repos/joelgrus/chain-py/comments{/number}',\n",
       "  'issue_comment_url': 'https://api.github.com/repos/joelgrus/chain-py/issues/comments{/number}',\n",
       "  'contents_url': 'https://api.github.com/repos/joelgrus/chain-py/contents/{+path}',\n",
       "  'compare_url': 'https://api.github.com/repos/joelgrus/chain-py/compare/{base}...{head}',\n",
       "  'merges_url': 'https://api.github.com/repos/joelgrus/chain-py/merges',\n",
       "  'archive_url': 'https://api.github.com/repos/joelgrus/chain-py/{archive_format}{/ref}',\n",
       "  'downloads_url': 'https://api.github.com/repos/joelgrus/chain-py/downloads',\n",
       "  'issues_url': 'https://api.github.com/repos/joelgrus/chain-py/issues{/number}',\n",
       "  'pulls_url': 'https://api.github.com/repos/joelgrus/chain-py/pulls{/number}',\n",
       "  'milestones_url': 'https://api.github.com/repos/joelgrus/chain-py/milestones{/number}',\n",
       "  'notifications_url': 'https://api.github.com/repos/joelgrus/chain-py/notifications{?since,all,participating}',\n",
       "  'labels_url': 'https://api.github.com/repos/joelgrus/chain-py/labels{/name}',\n",
       "  'releases_url': 'https://api.github.com/repos/joelgrus/chain-py/releases{/id}',\n",
       "  'deployments_url': 'https://api.github.com/repos/joelgrus/chain-py/deployments',\n",
       "  'created_at': '2012-09-18T04:20:23Z',\n",
       "  'updated_at': '2019-06-29T13:53:45Z',\n",
       "  'pushed_at': '2012-09-18T04:47:53Z',\n",
       "  'git_url': 'git://github.com/joelgrus/chain-py.git',\n",
       "  'ssh_url': 'git@github.com:joelgrus/chain-py.git',\n",
       "  'clone_url': 'https://github.com/joelgrus/chain-py.git',\n",
       "  'svn_url': 'https://github.com/joelgrus/chain-py',\n",
       "  'homepage': None,\n",
       "  'size': 108,\n",
       "  'stargazers_count': 13,\n",
       "  'watchers_count': 13,\n",
       "  'language': 'Python',\n",
       "  'has_issues': True,\n",
       "  'has_projects': True,\n",
       "  'has_downloads': True,\n",
       "  'has_wiki': True,\n",
       "  'has_pages': False,\n",
       "  'forks_count': 2,\n",
       "  'mirror_url': None,\n",
       "  'archived': False,\n",
       "  'disabled': False,\n",
       "  'open_issues_count': 0,\n",
       "  'license': None,\n",
       "  'forks': 2,\n",
       "  'open_issues': 0,\n",
       "  'watchers': 13,\n",
       "  'default_branch': 'master'},\n",
       " {'id': 63714706,\n",
       "  'node_id': 'MDEwOlJlcG9zaXRvcnk2MzcxNDcwNg==',\n",
       "  'name': 'char-rnn-tensorflow',\n",
       "  'full_name': 'joelgrus/char-rnn-tensorflow',\n",
       "  'private': False,\n",
       "  'owner': {'login': 'joelgrus',\n",
       "   'id': 1308313,\n",
       "   'node_id': 'MDQ6VXNlcjEzMDgzMTM=',\n",
       "   'avatar_url': 'https://avatars1.githubusercontent.com/u/1308313?v=4',\n",
       "   'gravatar_id': '',\n",
       "   'url': 'https://api.github.com/users/joelgrus',\n",
       "   'html_url': 'https://github.com/joelgrus',\n",
       "   'followers_url': 'https://api.github.com/users/joelgrus/followers',\n",
       "   'following_url': 'https://api.github.com/users/joelgrus/following{/other_user}',\n",
       "   'gists_url': 'https://api.github.com/users/joelgrus/gists{/gist_id}',\n",
       "   'starred_url': 'https://api.github.com/users/joelgrus/starred{/owner}{/repo}',\n",
       "   'subscriptions_url': 'https://api.github.com/users/joelgrus/subscriptions',\n",
       "   'organizations_url': 'https://api.github.com/users/joelgrus/orgs',\n",
       "   'repos_url': 'https://api.github.com/users/joelgrus/repos',\n",
       "   'events_url': 'https://api.github.com/users/joelgrus/events{/privacy}',\n",
       "   'received_events_url': 'https://api.github.com/users/joelgrus/received_events',\n",
       "   'type': 'User',\n",
       "   'site_admin': False},\n",
       "  'html_url': 'https://github.com/joelgrus/char-rnn-tensorflow',\n",
       "  'description': ' Multi-layer Recurrent Neural Networks (LSTM, RNN) for character-level language models in Python using Tensorflow ',\n",
       "  'fork': True,\n",
       "  'url': 'https://api.github.com/repos/joelgrus/char-rnn-tensorflow',\n",
       "  'forks_url': 'https://api.github.com/repos/joelgrus/char-rnn-tensorflow/forks',\n",
       "  'keys_url': 'https://api.github.com/repos/joelgrus/char-rnn-tensorflow/keys{/key_id}',\n",
       "  'collaborators_url': 'https://api.github.com/repos/joelgrus/char-rnn-tensorflow/collaborators{/collaborator}',\n",
       "  'teams_url': 'https://api.github.com/repos/joelgrus/char-rnn-tensorflow/teams',\n",
       "  'hooks_url': 'https://api.github.com/repos/joelgrus/char-rnn-tensorflow/hooks',\n",
       "  'issue_events_url': 'https://api.github.com/repos/joelgrus/char-rnn-tensorflow/issues/events{/number}',\n",
       "  'events_url': 'https://api.github.com/repos/joelgrus/char-rnn-tensorflow/events',\n",
       "  'assignees_url': 'https://api.github.com/repos/joelgrus/char-rnn-tensorflow/assignees{/user}',\n",
       "  'branches_url': 'https://api.github.com/repos/joelgrus/char-rnn-tensorflow/branches{/branch}',\n",
       "  'tags_url': 'https://api.github.com/repos/joelgrus/char-rnn-tensorflow/tags',\n",
       "  'blobs_url': 'https://api.github.com/repos/joelgrus/char-rnn-tensorflow/git/blobs{/sha}',\n",
       "  'git_tags_url': 'https://api.github.com/repos/joelgrus/char-rnn-tensorflow/git/tags{/sha}',\n",
       "  'git_refs_url': 'https://api.github.com/repos/joelgrus/char-rnn-tensorflow/git/refs{/sha}',\n",
       "  'trees_url': 'https://api.github.com/repos/joelgrus/char-rnn-tensorflow/git/trees{/sha}',\n",
       "  'statuses_url': 'https://api.github.com/repos/joelgrus/char-rnn-tensorflow/statuses/{sha}',\n",
       "  'languages_url': 'https://api.github.com/repos/joelgrus/char-rnn-tensorflow/languages',\n",
       "  'stargazers_url': 'https://api.github.com/repos/joelgrus/char-rnn-tensorflow/stargazers',\n",
       "  'contributors_url': 'https://api.github.com/repos/joelgrus/char-rnn-tensorflow/contributors',\n",
       "  'subscribers_url': 'https://api.github.com/repos/joelgrus/char-rnn-tensorflow/subscribers',\n",
       "  'subscription_url': 'https://api.github.com/repos/joelgrus/char-rnn-tensorflow/subscription',\n",
       "  'commits_url': 'https://api.github.com/repos/joelgrus/char-rnn-tensorflow/commits{/sha}',\n",
       "  'git_commits_url': 'https://api.github.com/repos/joelgrus/char-rnn-tensorflow/git/commits{/sha}',\n",
       "  'comments_url': 'https://api.github.com/repos/joelgrus/char-rnn-tensorflow/comments{/number}',\n",
       "  'issue_comment_url': 'https://api.github.com/repos/joelgrus/char-rnn-tensorflow/issues/comments{/number}',\n",
       "  'contents_url': 'https://api.github.com/repos/joelgrus/char-rnn-tensorflow/contents/{+path}',\n",
       "  'compare_url': 'https://api.github.com/repos/joelgrus/char-rnn-tensorflow/compare/{base}...{head}',\n",
       "  'merges_url': 'https://api.github.com/repos/joelgrus/char-rnn-tensorflow/merges',\n",
       "  'archive_url': 'https://api.github.com/repos/joelgrus/char-rnn-tensorflow/{archive_format}{/ref}',\n",
       "  'downloads_url': 'https://api.github.com/repos/joelgrus/char-rnn-tensorflow/downloads',\n",
       "  'issues_url': 'https://api.github.com/repos/joelgrus/char-rnn-tensorflow/issues{/number}',\n",
       "  'pulls_url': 'https://api.github.com/repos/joelgrus/char-rnn-tensorflow/pulls{/number}',\n",
       "  'milestones_url': 'https://api.github.com/repos/joelgrus/char-rnn-tensorflow/milestones{/number}',\n",
       "  'notifications_url': 'https://api.github.com/repos/joelgrus/char-rnn-tensorflow/notifications{?since,all,participating}',\n",
       "  'labels_url': 'https://api.github.com/repos/joelgrus/char-rnn-tensorflow/labels{/name}',\n",
       "  'releases_url': 'https://api.github.com/repos/joelgrus/char-rnn-tensorflow/releases{/id}',\n",
       "  'deployments_url': 'https://api.github.com/repos/joelgrus/char-rnn-tensorflow/deployments',\n",
       "  'created_at': '2016-07-19T17:34:31Z',\n",
       "  'updated_at': '2019-02-26T14:59:51Z',\n",
       "  'pushed_at': '2016-07-13T09:54:19Z',\n",
       "  'git_url': 'git://github.com/joelgrus/char-rnn-tensorflow.git',\n",
       "  'ssh_url': 'git@github.com:joelgrus/char-rnn-tensorflow.git',\n",
       "  'clone_url': 'https://github.com/joelgrus/char-rnn-tensorflow.git',\n",
       "  'svn_url': 'https://github.com/joelgrus/char-rnn-tensorflow',\n",
       "  'homepage': None,\n",
       "  'size': 1830,\n",
       "  'stargazers_count': 0,\n",
       "  'watchers_count': 0,\n",
       "  'language': 'Python',\n",
       "  'has_issues': False,\n",
       "  'has_projects': True,\n",
       "  'has_downloads': True,\n",
       "  'has_wiki': True,\n",
       "  'has_pages': False,\n",
       "  'forks_count': 3,\n",
       "  'mirror_url': None,\n",
       "  'archived': False,\n",
       "  'disabled': False,\n",
       "  'open_issues_count': 0,\n",
       "  'license': {'key': 'mit',\n",
       "   'name': 'MIT License',\n",
       "   'spdx_id': 'MIT',\n",
       "   'url': 'https://api.github.com/licenses/mit',\n",
       "   'node_id': 'MDc6TGljZW5zZTEz'},\n",
       "  'forks': 3,\n",
       "  'open_issues': 0,\n",
       "  'watchers': 0,\n",
       "  'default_branch': 'master'},\n",
       " {'id': 45985825,\n",
       "  'node_id': 'MDEwOlJlcG9zaXRvcnk0NTk4NTgyNQ==',\n",
       "  'name': 'clickventure',\n",
       "  'full_name': 'joelgrus/clickventure',\n",
       "  'private': False,\n",
       "  'owner': {'login': 'joelgrus',\n",
       "   'id': 1308313,\n",
       "   'node_id': 'MDQ6VXNlcjEzMDgzMTM=',\n",
       "   'avatar_url': 'https://avatars1.githubusercontent.com/u/1308313?v=4',\n",
       "   'gravatar_id': '',\n",
       "   'url': 'https://api.github.com/users/joelgrus',\n",
       "   'html_url': 'https://github.com/joelgrus',\n",
       "   'followers_url': 'https://api.github.com/users/joelgrus/followers',\n",
       "   'following_url': 'https://api.github.com/users/joelgrus/following{/other_user}',\n",
       "   'gists_url': 'https://api.github.com/users/joelgrus/gists{/gist_id}',\n",
       "   'starred_url': 'https://api.github.com/users/joelgrus/starred{/owner}{/repo}',\n",
       "   'subscriptions_url': 'https://api.github.com/users/joelgrus/subscriptions',\n",
       "   'organizations_url': 'https://api.github.com/users/joelgrus/orgs',\n",
       "   'repos_url': 'https://api.github.com/users/joelgrus/repos',\n",
       "   'events_url': 'https://api.github.com/users/joelgrus/events{/privacy}',\n",
       "   'received_events_url': 'https://api.github.com/users/joelgrus/received_events',\n",
       "   'type': 'User',\n",
       "   'site_admin': False},\n",
       "  'html_url': 'https://github.com/joelgrus/clickventure',\n",
       "  'description': 'a react-based implementation of a ClickHole-style ClickVenture',\n",
       "  'fork': False,\n",
       "  'url': 'https://api.github.com/repos/joelgrus/clickventure',\n",
       "  'forks_url': 'https://api.github.com/repos/joelgrus/clickventure/forks',\n",
       "  'keys_url': 'https://api.github.com/repos/joelgrus/clickventure/keys{/key_id}',\n",
       "  'collaborators_url': 'https://api.github.com/repos/joelgrus/clickventure/collaborators{/collaborator}',\n",
       "  'teams_url': 'https://api.github.com/repos/joelgrus/clickventure/teams',\n",
       "  'hooks_url': 'https://api.github.com/repos/joelgrus/clickventure/hooks',\n",
       "  'issue_events_url': 'https://api.github.com/repos/joelgrus/clickventure/issues/events{/number}',\n",
       "  'events_url': 'https://api.github.com/repos/joelgrus/clickventure/events',\n",
       "  'assignees_url': 'https://api.github.com/repos/joelgrus/clickventure/assignees{/user}',\n",
       "  'branches_url': 'https://api.github.com/repos/joelgrus/clickventure/branches{/branch}',\n",
       "  'tags_url': 'https://api.github.com/repos/joelgrus/clickventure/tags',\n",
       "  'blobs_url': 'https://api.github.com/repos/joelgrus/clickventure/git/blobs{/sha}',\n",
       "  'git_tags_url': 'https://api.github.com/repos/joelgrus/clickventure/git/tags{/sha}',\n",
       "  'git_refs_url': 'https://api.github.com/repos/joelgrus/clickventure/git/refs{/sha}',\n",
       "  'trees_url': 'https://api.github.com/repos/joelgrus/clickventure/git/trees{/sha}',\n",
       "  'statuses_url': 'https://api.github.com/repos/joelgrus/clickventure/statuses/{sha}',\n",
       "  'languages_url': 'https://api.github.com/repos/joelgrus/clickventure/languages',\n",
       "  'stargazers_url': 'https://api.github.com/repos/joelgrus/clickventure/stargazers',\n",
       "  'contributors_url': 'https://api.github.com/repos/joelgrus/clickventure/contributors',\n",
       "  'subscribers_url': 'https://api.github.com/repos/joelgrus/clickventure/subscribers',\n",
       "  'subscription_url': 'https://api.github.com/repos/joelgrus/clickventure/subscription',\n",
       "  'commits_url': 'https://api.github.com/repos/joelgrus/clickventure/commits{/sha}',\n",
       "  'git_commits_url': 'https://api.github.com/repos/joelgrus/clickventure/git/commits{/sha}',\n",
       "  'comments_url': 'https://api.github.com/repos/joelgrus/clickventure/comments{/number}',\n",
       "  'issue_comment_url': 'https://api.github.com/repos/joelgrus/clickventure/issues/comments{/number}',\n",
       "  'contents_url': 'https://api.github.com/repos/joelgrus/clickventure/contents/{+path}',\n",
       "  'compare_url': 'https://api.github.com/repos/joelgrus/clickventure/compare/{base}...{head}',\n",
       "  'merges_url': 'https://api.github.com/repos/joelgrus/clickventure/merges',\n",
       "  'archive_url': 'https://api.github.com/repos/joelgrus/clickventure/{archive_format}{/ref}',\n",
       "  'downloads_url': 'https://api.github.com/repos/joelgrus/clickventure/downloads',\n",
       "  'issues_url': 'https://api.github.com/repos/joelgrus/clickventure/issues{/number}',\n",
       "  'pulls_url': 'https://api.github.com/repos/joelgrus/clickventure/pulls{/number}',\n",
       "  'milestones_url': 'https://api.github.com/repos/joelgrus/clickventure/milestones{/number}',\n",
       "  'notifications_url': 'https://api.github.com/repos/joelgrus/clickventure/notifications{?since,all,participating}',\n",
       "  'labels_url': 'https://api.github.com/repos/joelgrus/clickventure/labels{/name}',\n",
       "  'releases_url': 'https://api.github.com/repos/joelgrus/clickventure/releases{/id}',\n",
       "  'deployments_url': 'https://api.github.com/repos/joelgrus/clickventure/deployments',\n",
       "  'created_at': '2015-11-11T14:15:36Z',\n",
       "  'updated_at': '2017-03-22T14:05:58Z',\n",
       "  'pushed_at': '2015-11-12T14:08:30Z',\n",
       "  'git_url': 'git://github.com/joelgrus/clickventure.git',\n",
       "  'ssh_url': 'git@github.com:joelgrus/clickventure.git',\n",
       "  'clone_url': 'https://github.com/joelgrus/clickventure.git',\n",
       "  'svn_url': 'https://github.com/joelgrus/clickventure',\n",
       "  'homepage': None,\n",
       "  'size': 0,\n",
       "  'stargazers_count': 2,\n",
       "  'watchers_count': 2,\n",
       "  'language': 'JavaScript',\n",
       "  'has_issues': True,\n",
       "  'has_projects': True,\n",
       "  'has_downloads': True,\n",
       "  'has_wiki': True,\n",
       "  'has_pages': False,\n",
       "  'forks_count': 1,\n",
       "  'mirror_url': None,\n",
       "  'archived': False,\n",
       "  'disabled': False,\n",
       "  'open_issues_count': 0,\n",
       "  'license': None,\n",
       "  'forks': 1,\n",
       "  'open_issues': 0,\n",
       "  'watchers': 2,\n",
       "  'default_branch': 'master'},\n",
       " {'id': 60096988,\n",
       "  'node_id': 'MDEwOlJlcG9zaXRvcnk2MDA5Njk4OA==',\n",
       "  'name': 'cnn-text-classification-tf',\n",
       "  'full_name': 'joelgrus/cnn-text-classification-tf',\n",
       "  'private': False,\n",
       "  'owner': {'login': 'joelgrus',\n",
       "   'id': 1308313,\n",
       "   'node_id': 'MDQ6VXNlcjEzMDgzMTM=',\n",
       "   'avatar_url': 'https://avatars1.githubusercontent.com/u/1308313?v=4',\n",
       "   'gravatar_id': '',\n",
       "   'url': 'https://api.github.com/users/joelgrus',\n",
       "   'html_url': 'https://github.com/joelgrus',\n",
       "   'followers_url': 'https://api.github.com/users/joelgrus/followers',\n",
       "   'following_url': 'https://api.github.com/users/joelgrus/following{/other_user}',\n",
       "   'gists_url': 'https://api.github.com/users/joelgrus/gists{/gist_id}',\n",
       "   'starred_url': 'https://api.github.com/users/joelgrus/starred{/owner}{/repo}',\n",
       "   'subscriptions_url': 'https://api.github.com/users/joelgrus/subscriptions',\n",
       "   'organizations_url': 'https://api.github.com/users/joelgrus/orgs',\n",
       "   'repos_url': 'https://api.github.com/users/joelgrus/repos',\n",
       "   'events_url': 'https://api.github.com/users/joelgrus/events{/privacy}',\n",
       "   'received_events_url': 'https://api.github.com/users/joelgrus/received_events',\n",
       "   'type': 'User',\n",
       "   'site_admin': False},\n",
       "  'html_url': 'https://github.com/joelgrus/cnn-text-classification-tf',\n",
       "  'description': 'Convolutional Neural Network for Text Classification in Tensorflow',\n",
       "  'fork': True,\n",
       "  'url': 'https://api.github.com/repos/joelgrus/cnn-text-classification-tf',\n",
       "  'forks_url': 'https://api.github.com/repos/joelgrus/cnn-text-classification-tf/forks',\n",
       "  'keys_url': 'https://api.github.com/repos/joelgrus/cnn-text-classification-tf/keys{/key_id}',\n",
       "  'collaborators_url': 'https://api.github.com/repos/joelgrus/cnn-text-classification-tf/collaborators{/collaborator}',\n",
       "  'teams_url': 'https://api.github.com/repos/joelgrus/cnn-text-classification-tf/teams',\n",
       "  'hooks_url': 'https://api.github.com/repos/joelgrus/cnn-text-classification-tf/hooks',\n",
       "  'issue_events_url': 'https://api.github.com/repos/joelgrus/cnn-text-classification-tf/issues/events{/number}',\n",
       "  'events_url': 'https://api.github.com/repos/joelgrus/cnn-text-classification-tf/events',\n",
       "  'assignees_url': 'https://api.github.com/repos/joelgrus/cnn-text-classification-tf/assignees{/user}',\n",
       "  'branches_url': 'https://api.github.com/repos/joelgrus/cnn-text-classification-tf/branches{/branch}',\n",
       "  'tags_url': 'https://api.github.com/repos/joelgrus/cnn-text-classification-tf/tags',\n",
       "  'blobs_url': 'https://api.github.com/repos/joelgrus/cnn-text-classification-tf/git/blobs{/sha}',\n",
       "  'git_tags_url': 'https://api.github.com/repos/joelgrus/cnn-text-classification-tf/git/tags{/sha}',\n",
       "  'git_refs_url': 'https://api.github.com/repos/joelgrus/cnn-text-classification-tf/git/refs{/sha}',\n",
       "  'trees_url': 'https://api.github.com/repos/joelgrus/cnn-text-classification-tf/git/trees{/sha}',\n",
       "  'statuses_url': 'https://api.github.com/repos/joelgrus/cnn-text-classification-tf/statuses/{sha}',\n",
       "  'languages_url': 'https://api.github.com/repos/joelgrus/cnn-text-classification-tf/languages',\n",
       "  'stargazers_url': 'https://api.github.com/repos/joelgrus/cnn-text-classification-tf/stargazers',\n",
       "  'contributors_url': 'https://api.github.com/repos/joelgrus/cnn-text-classification-tf/contributors',\n",
       "  'subscribers_url': 'https://api.github.com/repos/joelgrus/cnn-text-classification-tf/subscribers',\n",
       "  'subscription_url': 'https://api.github.com/repos/joelgrus/cnn-text-classification-tf/subscription',\n",
       "  'commits_url': 'https://api.github.com/repos/joelgrus/cnn-text-classification-tf/commits{/sha}',\n",
       "  'git_commits_url': 'https://api.github.com/repos/joelgrus/cnn-text-classification-tf/git/commits{/sha}',\n",
       "  'comments_url': 'https://api.github.com/repos/joelgrus/cnn-text-classification-tf/comments{/number}',\n",
       "  'issue_comment_url': 'https://api.github.com/repos/joelgrus/cnn-text-classification-tf/issues/comments{/number}',\n",
       "  'contents_url': 'https://api.github.com/repos/joelgrus/cnn-text-classification-tf/contents/{+path}',\n",
       "  'compare_url': 'https://api.github.com/repos/joelgrus/cnn-text-classification-tf/compare/{base}...{head}',\n",
       "  'merges_url': 'https://api.github.com/repos/joelgrus/cnn-text-classification-tf/merges',\n",
       "  'archive_url': 'https://api.github.com/repos/joelgrus/cnn-text-classification-tf/{archive_format}{/ref}',\n",
       "  'downloads_url': 'https://api.github.com/repos/joelgrus/cnn-text-classification-tf/downloads',\n",
       "  'issues_url': 'https://api.github.com/repos/joelgrus/cnn-text-classification-tf/issues{/number}',\n",
       "  'pulls_url': 'https://api.github.com/repos/joelgrus/cnn-text-classification-tf/pulls{/number}',\n",
       "  'milestones_url': 'https://api.github.com/repos/joelgrus/cnn-text-classification-tf/milestones{/number}',\n",
       "  'notifications_url': 'https://api.github.com/repos/joelgrus/cnn-text-classification-tf/notifications{?since,all,participating}',\n",
       "  'labels_url': 'https://api.github.com/repos/joelgrus/cnn-text-classification-tf/labels{/name}',\n",
       "  'releases_url': 'https://api.github.com/repos/joelgrus/cnn-text-classification-tf/releases{/id}',\n",
       "  'deployments_url': 'https://api.github.com/repos/joelgrus/cnn-text-classification-tf/deployments',\n",
       "  'created_at': '2016-05-31T14:33:06Z',\n",
       "  'updated_at': '2018-08-29T06:49:36Z',\n",
       "  'pushed_at': '2016-05-08T22:57:07Z',\n",
       "  'git_url': 'git://github.com/joelgrus/cnn-text-classification-tf.git',\n",
       "  'ssh_url': 'git@github.com:joelgrus/cnn-text-classification-tf.git',\n",
       "  'clone_url': 'https://github.com/joelgrus/cnn-text-classification-tf.git',\n",
       "  'svn_url': 'https://github.com/joelgrus/cnn-text-classification-tf',\n",
       "  'homepage': None,\n",
       "  'size': 655,\n",
       "  'stargazers_count': 1,\n",
       "  'watchers_count': 1,\n",
       "  'language': 'Python',\n",
       "  'has_issues': False,\n",
       "  'has_projects': True,\n",
       "  'has_downloads': True,\n",
       "  'has_wiki': True,\n",
       "  'has_pages': False,\n",
       "  'forks_count': 1,\n",
       "  'mirror_url': None,\n",
       "  'archived': False,\n",
       "  'disabled': False,\n",
       "  'open_issues_count': 0,\n",
       "  'license': {'key': 'apache-2.0',\n",
       "   'name': 'Apache License 2.0',\n",
       "   'spdx_id': 'Apache-2.0',\n",
       "   'url': 'https://api.github.com/licenses/apache-2.0',\n",
       "   'node_id': 'MDc6TGljZW5zZTI='},\n",
       "  'forks': 1,\n",
       "  'open_issues': 0,\n",
       "  'watchers': 1,\n",
       "  'default_branch': 'master'},\n",
       " {'id': 149889203,\n",
       "  'node_id': 'MDEwOlJlcG9zaXRvcnkxNDk4ODkyMDM=',\n",
       "  'name': 'CNTK',\n",
       "  'full_name': 'joelgrus/CNTK',\n",
       "  'private': False,\n",
       "  'owner': {'login': 'joelgrus',\n",
       "   'id': 1308313,\n",
       "   'node_id': 'MDQ6VXNlcjEzMDgzMTM=',\n",
       "   'avatar_url': 'https://avatars1.githubusercontent.com/u/1308313?v=4',\n",
       "   'gravatar_id': '',\n",
       "   'url': 'https://api.github.com/users/joelgrus',\n",
       "   'html_url': 'https://github.com/joelgrus',\n",
       "   'followers_url': 'https://api.github.com/users/joelgrus/followers',\n",
       "   'following_url': 'https://api.github.com/users/joelgrus/following{/other_user}',\n",
       "   'gists_url': 'https://api.github.com/users/joelgrus/gists{/gist_id}',\n",
       "   'starred_url': 'https://api.github.com/users/joelgrus/starred{/owner}{/repo}',\n",
       "   'subscriptions_url': 'https://api.github.com/users/joelgrus/subscriptions',\n",
       "   'organizations_url': 'https://api.github.com/users/joelgrus/orgs',\n",
       "   'repos_url': 'https://api.github.com/users/joelgrus/repos',\n",
       "   'events_url': 'https://api.github.com/users/joelgrus/events{/privacy}',\n",
       "   'received_events_url': 'https://api.github.com/users/joelgrus/received_events',\n",
       "   'type': 'User',\n",
       "   'site_admin': False},\n",
       "  'html_url': 'https://github.com/joelgrus/CNTK',\n",
       "  'description': 'Microsoft Cognitive Toolkit (CNTK), an open source deep-learning toolkit',\n",
       "  'fork': True,\n",
       "  'url': 'https://api.github.com/repos/joelgrus/CNTK',\n",
       "  'forks_url': 'https://api.github.com/repos/joelgrus/CNTK/forks',\n",
       "  'keys_url': 'https://api.github.com/repos/joelgrus/CNTK/keys{/key_id}',\n",
       "  'collaborators_url': 'https://api.github.com/repos/joelgrus/CNTK/collaborators{/collaborator}',\n",
       "  'teams_url': 'https://api.github.com/repos/joelgrus/CNTK/teams',\n",
       "  'hooks_url': 'https://api.github.com/repos/joelgrus/CNTK/hooks',\n",
       "  'issue_events_url': 'https://api.github.com/repos/joelgrus/CNTK/issues/events{/number}',\n",
       "  'events_url': 'https://api.github.com/repos/joelgrus/CNTK/events',\n",
       "  'assignees_url': 'https://api.github.com/repos/joelgrus/CNTK/assignees{/user}',\n",
       "  'branches_url': 'https://api.github.com/repos/joelgrus/CNTK/branches{/branch}',\n",
       "  'tags_url': 'https://api.github.com/repos/joelgrus/CNTK/tags',\n",
       "  'blobs_url': 'https://api.github.com/repos/joelgrus/CNTK/git/blobs{/sha}',\n",
       "  'git_tags_url': 'https://api.github.com/repos/joelgrus/CNTK/git/tags{/sha}',\n",
       "  'git_refs_url': 'https://api.github.com/repos/joelgrus/CNTK/git/refs{/sha}',\n",
       "  'trees_url': 'https://api.github.com/repos/joelgrus/CNTK/git/trees{/sha}',\n",
       "  'statuses_url': 'https://api.github.com/repos/joelgrus/CNTK/statuses/{sha}',\n",
       "  'languages_url': 'https://api.github.com/repos/joelgrus/CNTK/languages',\n",
       "  'stargazers_url': 'https://api.github.com/repos/joelgrus/CNTK/stargazers',\n",
       "  'contributors_url': 'https://api.github.com/repos/joelgrus/CNTK/contributors',\n",
       "  'subscribers_url': 'https://api.github.com/repos/joelgrus/CNTK/subscribers',\n",
       "  'subscription_url': 'https://api.github.com/repos/joelgrus/CNTK/subscription',\n",
       "  'commits_url': 'https://api.github.com/repos/joelgrus/CNTK/commits{/sha}',\n",
       "  'git_commits_url': 'https://api.github.com/repos/joelgrus/CNTK/git/commits{/sha}',\n",
       "  'comments_url': 'https://api.github.com/repos/joelgrus/CNTK/comments{/number}',\n",
       "  'issue_comment_url': 'https://api.github.com/repos/joelgrus/CNTK/issues/comments{/number}',\n",
       "  'contents_url': 'https://api.github.com/repos/joelgrus/CNTK/contents/{+path}',\n",
       "  'compare_url': 'https://api.github.com/repos/joelgrus/CNTK/compare/{base}...{head}',\n",
       "  'merges_url': 'https://api.github.com/repos/joelgrus/CNTK/merges',\n",
       "  'archive_url': 'https://api.github.com/repos/joelgrus/CNTK/{archive_format}{/ref}',\n",
       "  'downloads_url': 'https://api.github.com/repos/joelgrus/CNTK/downloads',\n",
       "  'issues_url': 'https://api.github.com/repos/joelgrus/CNTK/issues{/number}',\n",
       "  'pulls_url': 'https://api.github.com/repos/joelgrus/CNTK/pulls{/number}',\n",
       "  'milestones_url': 'https://api.github.com/repos/joelgrus/CNTK/milestones{/number}',\n",
       "  'notifications_url': 'https://api.github.com/repos/joelgrus/CNTK/notifications{?since,all,participating}',\n",
       "  'labels_url': 'https://api.github.com/repos/joelgrus/CNTK/labels{/name}',\n",
       "  'releases_url': 'https://api.github.com/repos/joelgrus/CNTK/releases{/id}',\n",
       "  'deployments_url': 'https://api.github.com/repos/joelgrus/CNTK/deployments',\n",
       "  'created_at': '2018-09-22T15:23:50Z',\n",
       "  'updated_at': '2019-08-13T01:24:12Z',\n",
       "  'pushed_at': '2018-09-22T15:24:31Z',\n",
       "  'git_url': 'git://github.com/joelgrus/CNTK.git',\n",
       "  'ssh_url': 'git@github.com:joelgrus/CNTK.git',\n",
       "  'clone_url': 'https://github.com/joelgrus/CNTK.git',\n",
       "  'svn_url': 'https://github.com/joelgrus/CNTK',\n",
       "  'homepage': 'https://docs.microsoft.com/cognitive-toolkit/',\n",
       "  'size': 706685,\n",
       "  'stargazers_count': 1,\n",
       "  'watchers_count': 1,\n",
       "  'language': 'C++',\n",
       "  'has_issues': False,\n",
       "  'has_projects': True,\n",
       "  'has_downloads': True,\n",
       "  'has_wiki': True,\n",
       "  'has_pages': False,\n",
       "  'forks_count': 0,\n",
       "  'mirror_url': None,\n",
       "  'archived': False,\n",
       "  'disabled': False,\n",
       "  'open_issues_count': 0,\n",
       "  'license': {'key': 'other',\n",
       "   'name': 'Other',\n",
       "   'spdx_id': 'NOASSERTION',\n",
       "   'url': None,\n",
       "   'node_id': 'MDc6TGljZW5zZTA='},\n",
       "  'forks': 0,\n",
       "  'open_issues': 0,\n",
       "  'watchers': 1,\n",
       "  'default_branch': 'master'},\n",
       " {'id': 38278641,\n",
       "  'node_id': 'MDEwOlJlcG9zaXRvcnkzODI3ODY0MQ==',\n",
       "  'name': 'codefellows-data-science-week',\n",
       "  'full_name': 'joelgrus/codefellows-data-science-week',\n",
       "  'private': False,\n",
       "  'owner': {'login': 'joelgrus',\n",
       "   'id': 1308313,\n",
       "   'node_id': 'MDQ6VXNlcjEzMDgzMTM=',\n",
       "   'avatar_url': 'https://avatars1.githubusercontent.com/u/1308313?v=4',\n",
       "   'gravatar_id': '',\n",
       "   'url': 'https://api.github.com/users/joelgrus',\n",
       "   'html_url': 'https://github.com/joelgrus',\n",
       "   'followers_url': 'https://api.github.com/users/joelgrus/followers',\n",
       "   'following_url': 'https://api.github.com/users/joelgrus/following{/other_user}',\n",
       "   'gists_url': 'https://api.github.com/users/joelgrus/gists{/gist_id}',\n",
       "   'starred_url': 'https://api.github.com/users/joelgrus/starred{/owner}{/repo}',\n",
       "   'subscriptions_url': 'https://api.github.com/users/joelgrus/subscriptions',\n",
       "   'organizations_url': 'https://api.github.com/users/joelgrus/orgs',\n",
       "   'repos_url': 'https://api.github.com/users/joelgrus/repos',\n",
       "   'events_url': 'https://api.github.com/users/joelgrus/events{/privacy}',\n",
       "   'received_events_url': 'https://api.github.com/users/joelgrus/received_events',\n",
       "   'type': 'User',\n",
       "   'site_admin': False},\n",
       "  'html_url': 'https://github.com/joelgrus/codefellows-data-science-week',\n",
       "  'description': None,\n",
       "  'fork': False,\n",
       "  'url': 'https://api.github.com/repos/joelgrus/codefellows-data-science-week',\n",
       "  'forks_url': 'https://api.github.com/repos/joelgrus/codefellows-data-science-week/forks',\n",
       "  'keys_url': 'https://api.github.com/repos/joelgrus/codefellows-data-science-week/keys{/key_id}',\n",
       "  'collaborators_url': 'https://api.github.com/repos/joelgrus/codefellows-data-science-week/collaborators{/collaborator}',\n",
       "  'teams_url': 'https://api.github.com/repos/joelgrus/codefellows-data-science-week/teams',\n",
       "  'hooks_url': 'https://api.github.com/repos/joelgrus/codefellows-data-science-week/hooks',\n",
       "  'issue_events_url': 'https://api.github.com/repos/joelgrus/codefellows-data-science-week/issues/events{/number}',\n",
       "  'events_url': 'https://api.github.com/repos/joelgrus/codefellows-data-science-week/events',\n",
       "  'assignees_url': 'https://api.github.com/repos/joelgrus/codefellows-data-science-week/assignees{/user}',\n",
       "  'branches_url': 'https://api.github.com/repos/joelgrus/codefellows-data-science-week/branches{/branch}',\n",
       "  'tags_url': 'https://api.github.com/repos/joelgrus/codefellows-data-science-week/tags',\n",
       "  'blobs_url': 'https://api.github.com/repos/joelgrus/codefellows-data-science-week/git/blobs{/sha}',\n",
       "  'git_tags_url': 'https://api.github.com/repos/joelgrus/codefellows-data-science-week/git/tags{/sha}',\n",
       "  'git_refs_url': 'https://api.github.com/repos/joelgrus/codefellows-data-science-week/git/refs{/sha}',\n",
       "  'trees_url': 'https://api.github.com/repos/joelgrus/codefellows-data-science-week/git/trees{/sha}',\n",
       "  'statuses_url': 'https://api.github.com/repos/joelgrus/codefellows-data-science-week/statuses/{sha}',\n",
       "  'languages_url': 'https://api.github.com/repos/joelgrus/codefellows-data-science-week/languages',\n",
       "  'stargazers_url': 'https://api.github.com/repos/joelgrus/codefellows-data-science-week/stargazers',\n",
       "  'contributors_url': 'https://api.github.com/repos/joelgrus/codefellows-data-science-week/contributors',\n",
       "  'subscribers_url': 'https://api.github.com/repos/joelgrus/codefellows-data-science-week/subscribers',\n",
       "  'subscription_url': 'https://api.github.com/repos/joelgrus/codefellows-data-science-week/subscription',\n",
       "  'commits_url': 'https://api.github.com/repos/joelgrus/codefellows-data-science-week/commits{/sha}',\n",
       "  'git_commits_url': 'https://api.github.com/repos/joelgrus/codefellows-data-science-week/git/commits{/sha}',\n",
       "  'comments_url': 'https://api.github.com/repos/joelgrus/codefellows-data-science-week/comments{/number}',\n",
       "  'issue_comment_url': 'https://api.github.com/repos/joelgrus/codefellows-data-science-week/issues/comments{/number}',\n",
       "  'contents_url': 'https://api.github.com/repos/joelgrus/codefellows-data-science-week/contents/{+path}',\n",
       "  'compare_url': 'https://api.github.com/repos/joelgrus/codefellows-data-science-week/compare/{base}...{head}',\n",
       "  'merges_url': 'https://api.github.com/repos/joelgrus/codefellows-data-science-week/merges',\n",
       "  'archive_url': 'https://api.github.com/repos/joelgrus/codefellows-data-science-week/{archive_format}{/ref}',\n",
       "  'downloads_url': 'https://api.github.com/repos/joelgrus/codefellows-data-science-week/downloads',\n",
       "  'issues_url': 'https://api.github.com/repos/joelgrus/codefellows-data-science-week/issues{/number}',\n",
       "  'pulls_url': 'https://api.github.com/repos/joelgrus/codefellows-data-science-week/pulls{/number}',\n",
       "  'milestones_url': 'https://api.github.com/repos/joelgrus/codefellows-data-science-week/milestones{/number}',\n",
       "  'notifications_url': 'https://api.github.com/repos/joelgrus/codefellows-data-science-week/notifications{?since,all,participating}',\n",
       "  'labels_url': 'https://api.github.com/repos/joelgrus/codefellows-data-science-week/labels{/name}',\n",
       "  'releases_url': 'https://api.github.com/repos/joelgrus/codefellows-data-science-week/releases{/id}',\n",
       "  'deployments_url': 'https://api.github.com/repos/joelgrus/codefellows-data-science-week/deployments',\n",
       "  'created_at': '2015-06-30T00:33:03Z',\n",
       "  'updated_at': '2015-09-18T16:20:50Z',\n",
       "  'pushed_at': '2015-07-20T22:55:21Z',\n",
       "  'git_url': 'git://github.com/joelgrus/codefellows-data-science-week.git',\n",
       "  'ssh_url': 'git@github.com:joelgrus/codefellows-data-science-week.git',\n",
       "  'clone_url': 'https://github.com/joelgrus/codefellows-data-science-week.git',\n",
       "  'svn_url': 'https://github.com/joelgrus/codefellows-data-science-week',\n",
       "  'homepage': None,\n",
       "  'size': 866,\n",
       "  'stargazers_count': 1,\n",
       "  'watchers_count': 1,\n",
       "  'language': 'HTML',\n",
       "  'has_issues': True,\n",
       "  'has_projects': True,\n",
       "  'has_downloads': True,\n",
       "  'has_wiki': True,\n",
       "  'has_pages': False,\n",
       "  'forks_count': 1,\n",
       "  'mirror_url': None,\n",
       "  'archived': False,\n",
       "  'disabled': False,\n",
       "  'open_issues_count': 0,\n",
       "  'license': {'key': 'unlicense',\n",
       "   'name': 'The Unlicense',\n",
       "   'spdx_id': 'Unlicense',\n",
       "   'url': 'https://api.github.com/licenses/unlicense',\n",
       "   'node_id': 'MDc6TGljZW5zZTE1'},\n",
       "  'forks': 1,\n",
       "  'open_issues': 0,\n",
       "  'watchers': 1,\n",
       "  'default_branch': 'master'},\n",
       " {'id': 12270831,\n",
       "  'node_id': 'MDEwOlJlcG9zaXRvcnkxMjI3MDgzMQ==',\n",
       "  'name': 'constructive-mathematics-clojure',\n",
       "  'full_name': 'joelgrus/constructive-mathematics-clojure',\n",
       "  'private': False,\n",
       "  'owner': {'login': 'joelgrus',\n",
       "   'id': 1308313,\n",
       "   'node_id': 'MDQ6VXNlcjEzMDgzMTM=',\n",
       "   'avatar_url': 'https://avatars1.githubusercontent.com/u/1308313?v=4',\n",
       "   'gravatar_id': '',\n",
       "   'url': 'https://api.github.com/users/joelgrus',\n",
       "   'html_url': 'https://github.com/joelgrus',\n",
       "   'followers_url': 'https://api.github.com/users/joelgrus/followers',\n",
       "   'following_url': 'https://api.github.com/users/joelgrus/following{/other_user}',\n",
       "   'gists_url': 'https://api.github.com/users/joelgrus/gists{/gist_id}',\n",
       "   'starred_url': 'https://api.github.com/users/joelgrus/starred{/owner}{/repo}',\n",
       "   'subscriptions_url': 'https://api.github.com/users/joelgrus/subscriptions',\n",
       "   'organizations_url': 'https://api.github.com/users/joelgrus/orgs',\n",
       "   'repos_url': 'https://api.github.com/users/joelgrus/repos',\n",
       "   'events_url': 'https://api.github.com/users/joelgrus/events{/privacy}',\n",
       "   'received_events_url': 'https://api.github.com/users/joelgrus/received_events',\n",
       "   'type': 'User',\n",
       "   'site_admin': False},\n",
       "  'html_url': 'https://github.com/joelgrus/constructive-mathematics-clojure',\n",
       "  'description': 'like \"Constructive Mathematics in F#\", except in Clojure',\n",
       "  'fork': False,\n",
       "  'url': 'https://api.github.com/repos/joelgrus/constructive-mathematics-clojure',\n",
       "  'forks_url': 'https://api.github.com/repos/joelgrus/constructive-mathematics-clojure/forks',\n",
       "  'keys_url': 'https://api.github.com/repos/joelgrus/constructive-mathematics-clojure/keys{/key_id}',\n",
       "  'collaborators_url': 'https://api.github.com/repos/joelgrus/constructive-mathematics-clojure/collaborators{/collaborator}',\n",
       "  'teams_url': 'https://api.github.com/repos/joelgrus/constructive-mathematics-clojure/teams',\n",
       "  'hooks_url': 'https://api.github.com/repos/joelgrus/constructive-mathematics-clojure/hooks',\n",
       "  'issue_events_url': 'https://api.github.com/repos/joelgrus/constructive-mathematics-clojure/issues/events{/number}',\n",
       "  'events_url': 'https://api.github.com/repos/joelgrus/constructive-mathematics-clojure/events',\n",
       "  'assignees_url': 'https://api.github.com/repos/joelgrus/constructive-mathematics-clojure/assignees{/user}',\n",
       "  'branches_url': 'https://api.github.com/repos/joelgrus/constructive-mathematics-clojure/branches{/branch}',\n",
       "  'tags_url': 'https://api.github.com/repos/joelgrus/constructive-mathematics-clojure/tags',\n",
       "  'blobs_url': 'https://api.github.com/repos/joelgrus/constructive-mathematics-clojure/git/blobs{/sha}',\n",
       "  'git_tags_url': 'https://api.github.com/repos/joelgrus/constructive-mathematics-clojure/git/tags{/sha}',\n",
       "  'git_refs_url': 'https://api.github.com/repos/joelgrus/constructive-mathematics-clojure/git/refs{/sha}',\n",
       "  'trees_url': 'https://api.github.com/repos/joelgrus/constructive-mathematics-clojure/git/trees{/sha}',\n",
       "  'statuses_url': 'https://api.github.com/repos/joelgrus/constructive-mathematics-clojure/statuses/{sha}',\n",
       "  'languages_url': 'https://api.github.com/repos/joelgrus/constructive-mathematics-clojure/languages',\n",
       "  'stargazers_url': 'https://api.github.com/repos/joelgrus/constructive-mathematics-clojure/stargazers',\n",
       "  'contributors_url': 'https://api.github.com/repos/joelgrus/constructive-mathematics-clojure/contributors',\n",
       "  'subscribers_url': 'https://api.github.com/repos/joelgrus/constructive-mathematics-clojure/subscribers',\n",
       "  'subscription_url': 'https://api.github.com/repos/joelgrus/constructive-mathematics-clojure/subscription',\n",
       "  'commits_url': 'https://api.github.com/repos/joelgrus/constructive-mathematics-clojure/commits{/sha}',\n",
       "  'git_commits_url': 'https://api.github.com/repos/joelgrus/constructive-mathematics-clojure/git/commits{/sha}',\n",
       "  'comments_url': 'https://api.github.com/repos/joelgrus/constructive-mathematics-clojure/comments{/number}',\n",
       "  'issue_comment_url': 'https://api.github.com/repos/joelgrus/constructive-mathematics-clojure/issues/comments{/number}',\n",
       "  'contents_url': 'https://api.github.com/repos/joelgrus/constructive-mathematics-clojure/contents/{+path}',\n",
       "  'compare_url': 'https://api.github.com/repos/joelgrus/constructive-mathematics-clojure/compare/{base}...{head}',\n",
       "  'merges_url': 'https://api.github.com/repos/joelgrus/constructive-mathematics-clojure/merges',\n",
       "  'archive_url': 'https://api.github.com/repos/joelgrus/constructive-mathematics-clojure/{archive_format}{/ref}',\n",
       "  'downloads_url': 'https://api.github.com/repos/joelgrus/constructive-mathematics-clojure/downloads',\n",
       "  'issues_url': 'https://api.github.com/repos/joelgrus/constructive-mathematics-clojure/issues{/number}',\n",
       "  'pulls_url': 'https://api.github.com/repos/joelgrus/constructive-mathematics-clojure/pulls{/number}',\n",
       "  'milestones_url': 'https://api.github.com/repos/joelgrus/constructive-mathematics-clojure/milestones{/number}',\n",
       "  'notifications_url': 'https://api.github.com/repos/joelgrus/constructive-mathematics-clojure/notifications{?since,all,participating}',\n",
       "  'labels_url': 'https://api.github.com/repos/joelgrus/constructive-mathematics-clojure/labels{/name}',\n",
       "  'releases_url': 'https://api.github.com/repos/joelgrus/constructive-mathematics-clojure/releases{/id}',\n",
       "  'deployments_url': 'https://api.github.com/repos/joelgrus/constructive-mathematics-clojure/deployments',\n",
       "  'created_at': '2013-08-21T13:26:05Z',\n",
       "  'updated_at': '2017-12-11T15:55:10Z',\n",
       "  'pushed_at': '2013-08-26T13:32:07Z',\n",
       "  'git_url': 'git://github.com/joelgrus/constructive-mathematics-clojure.git',\n",
       "  'ssh_url': 'git@github.com:joelgrus/constructive-mathematics-clojure.git',\n",
       "  'clone_url': 'https://github.com/joelgrus/constructive-mathematics-clojure.git',\n",
       "  'svn_url': 'https://github.com/joelgrus/constructive-mathematics-clojure',\n",
       "  'homepage': None,\n",
       "  'size': 148,\n",
       "  'stargazers_count': 2,\n",
       "  'watchers_count': 2,\n",
       "  'language': 'Clojure',\n",
       "  'has_issues': True,\n",
       "  'has_projects': True,\n",
       "  'has_downloads': True,\n",
       "  'has_wiki': True,\n",
       "  'has_pages': False,\n",
       "  'forks_count': 3,\n",
       "  'mirror_url': None,\n",
       "  'archived': False,\n",
       "  'disabled': False,\n",
       "  'open_issues_count': 0,\n",
       "  'license': None,\n",
       "  'forks': 3,\n",
       "  'open_issues': 0,\n",
       "  'watchers': 2,\n",
       "  'default_branch': 'master'},\n",
       " {'id': 12190589,\n",
       "  'node_id': 'MDEwOlJlcG9zaXRvcnkxMjE5MDU4OQ==',\n",
       "  'name': 'constructive-mathematics-fsharp',\n",
       "  'full_name': 'joelgrus/constructive-mathematics-fsharp',\n",
       "  'private': False,\n",
       "  'owner': {'login': 'joelgrus',\n",
       "   'id': 1308313,\n",
       "   'node_id': 'MDQ6VXNlcjEzMDgzMTM=',\n",
       "   'avatar_url': 'https://avatars1.githubusercontent.com/u/1308313?v=4',\n",
       "   'gravatar_id': '',\n",
       "   'url': 'https://api.github.com/users/joelgrus',\n",
       "   'html_url': 'https://github.com/joelgrus',\n",
       "   'followers_url': 'https://api.github.com/users/joelgrus/followers',\n",
       "   'following_url': 'https://api.github.com/users/joelgrus/following{/other_user}',\n",
       "   'gists_url': 'https://api.github.com/users/joelgrus/gists{/gist_id}',\n",
       "   'starred_url': 'https://api.github.com/users/joelgrus/starred{/owner}{/repo}',\n",
       "   'subscriptions_url': 'https://api.github.com/users/joelgrus/subscriptions',\n",
       "   'organizations_url': 'https://api.github.com/users/joelgrus/orgs',\n",
       "   'repos_url': 'https://api.github.com/users/joelgrus/repos',\n",
       "   'events_url': 'https://api.github.com/users/joelgrus/events{/privacy}',\n",
       "   'received_events_url': 'https://api.github.com/users/joelgrus/received_events',\n",
       "   'type': 'User',\n",
       "   'site_admin': False},\n",
       "  'html_url': 'https://github.com/joelgrus/constructive-mathematics-fsharp',\n",
       "  'description': 'constructive mathematics in F#',\n",
       "  'fork': False,\n",
       "  'url': 'https://api.github.com/repos/joelgrus/constructive-mathematics-fsharp',\n",
       "  'forks_url': 'https://api.github.com/repos/joelgrus/constructive-mathematics-fsharp/forks',\n",
       "  'keys_url': 'https://api.github.com/repos/joelgrus/constructive-mathematics-fsharp/keys{/key_id}',\n",
       "  'collaborators_url': 'https://api.github.com/repos/joelgrus/constructive-mathematics-fsharp/collaborators{/collaborator}',\n",
       "  'teams_url': 'https://api.github.com/repos/joelgrus/constructive-mathematics-fsharp/teams',\n",
       "  'hooks_url': 'https://api.github.com/repos/joelgrus/constructive-mathematics-fsharp/hooks',\n",
       "  'issue_events_url': 'https://api.github.com/repos/joelgrus/constructive-mathematics-fsharp/issues/events{/number}',\n",
       "  'events_url': 'https://api.github.com/repos/joelgrus/constructive-mathematics-fsharp/events',\n",
       "  'assignees_url': 'https://api.github.com/repos/joelgrus/constructive-mathematics-fsharp/assignees{/user}',\n",
       "  'branches_url': 'https://api.github.com/repos/joelgrus/constructive-mathematics-fsharp/branches{/branch}',\n",
       "  'tags_url': 'https://api.github.com/repos/joelgrus/constructive-mathematics-fsharp/tags',\n",
       "  'blobs_url': 'https://api.github.com/repos/joelgrus/constructive-mathematics-fsharp/git/blobs{/sha}',\n",
       "  'git_tags_url': 'https://api.github.com/repos/joelgrus/constructive-mathematics-fsharp/git/tags{/sha}',\n",
       "  'git_refs_url': 'https://api.github.com/repos/joelgrus/constructive-mathematics-fsharp/git/refs{/sha}',\n",
       "  'trees_url': 'https://api.github.com/repos/joelgrus/constructive-mathematics-fsharp/git/trees{/sha}',\n",
       "  'statuses_url': 'https://api.github.com/repos/joelgrus/constructive-mathematics-fsharp/statuses/{sha}',\n",
       "  'languages_url': 'https://api.github.com/repos/joelgrus/constructive-mathematics-fsharp/languages',\n",
       "  'stargazers_url': 'https://api.github.com/repos/joelgrus/constructive-mathematics-fsharp/stargazers',\n",
       "  'contributors_url': 'https://api.github.com/repos/joelgrus/constructive-mathematics-fsharp/contributors',\n",
       "  'subscribers_url': 'https://api.github.com/repos/joelgrus/constructive-mathematics-fsharp/subscribers',\n",
       "  'subscription_url': 'https://api.github.com/repos/joelgrus/constructive-mathematics-fsharp/subscription',\n",
       "  'commits_url': 'https://api.github.com/repos/joelgrus/constructive-mathematics-fsharp/commits{/sha}',\n",
       "  'git_commits_url': 'https://api.github.com/repos/joelgrus/constructive-mathematics-fsharp/git/commits{/sha}',\n",
       "  'comments_url': 'https://api.github.com/repos/joelgrus/constructive-mathematics-fsharp/comments{/number}',\n",
       "  'issue_comment_url': 'https://api.github.com/repos/joelgrus/constructive-mathematics-fsharp/issues/comments{/number}',\n",
       "  'contents_url': 'https://api.github.com/repos/joelgrus/constructive-mathematics-fsharp/contents/{+path}',\n",
       "  'compare_url': 'https://api.github.com/repos/joelgrus/constructive-mathematics-fsharp/compare/{base}...{head}',\n",
       "  'merges_url': 'https://api.github.com/repos/joelgrus/constructive-mathematics-fsharp/merges',\n",
       "  'archive_url': 'https://api.github.com/repos/joelgrus/constructive-mathematics-fsharp/{archive_format}{/ref}',\n",
       "  'downloads_url': 'https://api.github.com/repos/joelgrus/constructive-mathematics-fsharp/downloads',\n",
       "  'issues_url': 'https://api.github.com/repos/joelgrus/constructive-mathematics-fsharp/issues{/number}',\n",
       "  'pulls_url': 'https://api.github.com/repos/joelgrus/constructive-mathematics-fsharp/pulls{/number}',\n",
       "  'milestones_url': 'https://api.github.com/repos/joelgrus/constructive-mathematics-fsharp/milestones{/number}',\n",
       "  'notifications_url': 'https://api.github.com/repos/joelgrus/constructive-mathematics-fsharp/notifications{?since,all,participating}',\n",
       "  'labels_url': 'https://api.github.com/repos/joelgrus/constructive-mathematics-fsharp/labels{/name}',\n",
       "  'releases_url': 'https://api.github.com/repos/joelgrus/constructive-mathematics-fsharp/releases{/id}',\n",
       "  'deployments_url': 'https://api.github.com/repos/joelgrus/constructive-mathematics-fsharp/deployments',\n",
       "  'created_at': '2013-08-18T05:03:41Z',\n",
       "  'updated_at': '2014-03-25T12:33:05Z',\n",
       "  'pushed_at': '2013-08-26T13:31:37Z',\n",
       "  'git_url': 'git://github.com/joelgrus/constructive-mathematics-fsharp.git',\n",
       "  'ssh_url': 'git@github.com:joelgrus/constructive-mathematics-fsharp.git',\n",
       "  'clone_url': 'https://github.com/joelgrus/constructive-mathematics-fsharp.git',\n",
       "  'svn_url': 'https://github.com/joelgrus/constructive-mathematics-fsharp',\n",
       "  'homepage': None,\n",
       "  'size': 392,\n",
       "  'stargazers_count': 0,\n",
       "  'watchers_count': 0,\n",
       "  'language': 'F#',\n",
       "  'has_issues': True,\n",
       "  'has_projects': True,\n",
       "  'has_downloads': True,\n",
       "  'has_wiki': True,\n",
       "  'has_pages': False,\n",
       "  'forks_count': 0,\n",
       "  'mirror_url': None,\n",
       "  'archived': False,\n",
       "  'disabled': False,\n",
       "  'open_issues_count': 0,\n",
       "  'license': None,\n",
       "  'forks': 0,\n",
       "  'open_issues': 0,\n",
       "  'watchers': 0,\n",
       "  'default_branch': 'master'},\n",
       " {'id': 39925814,\n",
       "  'node_id': 'MDEwOlJlcG9zaXRvcnkzOTkyNTgxNA==',\n",
       "  'name': 'core',\n",
       "  'full_name': 'joelgrus/core',\n",
       "  'private': False,\n",
       "  'owner': {'login': 'joelgrus',\n",
       "   'id': 1308313,\n",
       "   'node_id': 'MDQ6VXNlcjEzMDgzMTM=',\n",
       "   'avatar_url': 'https://avatars1.githubusercontent.com/u/1308313?v=4',\n",
       "   'gravatar_id': '',\n",
       "   'url': 'https://api.github.com/users/joelgrus',\n",
       "   'html_url': 'https://github.com/joelgrus',\n",
       "   'followers_url': 'https://api.github.com/users/joelgrus/followers',\n",
       "   'following_url': 'https://api.github.com/users/joelgrus/following{/other_user}',\n",
       "   'gists_url': 'https://api.github.com/users/joelgrus/gists{/gist_id}',\n",
       "   'starred_url': 'https://api.github.com/users/joelgrus/starred{/owner}{/repo}',\n",
       "   'subscriptions_url': 'https://api.github.com/users/joelgrus/subscriptions',\n",
       "   'organizations_url': 'https://api.github.com/users/joelgrus/orgs',\n",
       "   'repos_url': 'https://api.github.com/users/joelgrus/repos',\n",
       "   'events_url': 'https://api.github.com/users/joelgrus/events{/privacy}',\n",
       "   'received_events_url': 'https://api.github.com/users/joelgrus/received_events',\n",
       "   'type': 'User',\n",
       "   'site_admin': False},\n",
       "  'html_url': 'https://github.com/joelgrus/core',\n",
       "  'description': \"Elm's core libraries\",\n",
       "  'fork': True,\n",
       "  'url': 'https://api.github.com/repos/joelgrus/core',\n",
       "  'forks_url': 'https://api.github.com/repos/joelgrus/core/forks',\n",
       "  'keys_url': 'https://api.github.com/repos/joelgrus/core/keys{/key_id}',\n",
       "  'collaborators_url': 'https://api.github.com/repos/joelgrus/core/collaborators{/collaborator}',\n",
       "  'teams_url': 'https://api.github.com/repos/joelgrus/core/teams',\n",
       "  'hooks_url': 'https://api.github.com/repos/joelgrus/core/hooks',\n",
       "  'issue_events_url': 'https://api.github.com/repos/joelgrus/core/issues/events{/number}',\n",
       "  'events_url': 'https://api.github.com/repos/joelgrus/core/events',\n",
       "  'assignees_url': 'https://api.github.com/repos/joelgrus/core/assignees{/user}',\n",
       "  'branches_url': 'https://api.github.com/repos/joelgrus/core/branches{/branch}',\n",
       "  'tags_url': 'https://api.github.com/repos/joelgrus/core/tags',\n",
       "  'blobs_url': 'https://api.github.com/repos/joelgrus/core/git/blobs{/sha}',\n",
       "  'git_tags_url': 'https://api.github.com/repos/joelgrus/core/git/tags{/sha}',\n",
       "  'git_refs_url': 'https://api.github.com/repos/joelgrus/core/git/refs{/sha}',\n",
       "  'trees_url': 'https://api.github.com/repos/joelgrus/core/git/trees{/sha}',\n",
       "  'statuses_url': 'https://api.github.com/repos/joelgrus/core/statuses/{sha}',\n",
       "  'languages_url': 'https://api.github.com/repos/joelgrus/core/languages',\n",
       "  'stargazers_url': 'https://api.github.com/repos/joelgrus/core/stargazers',\n",
       "  'contributors_url': 'https://api.github.com/repos/joelgrus/core/contributors',\n",
       "  'subscribers_url': 'https://api.github.com/repos/joelgrus/core/subscribers',\n",
       "  'subscription_url': 'https://api.github.com/repos/joelgrus/core/subscription',\n",
       "  'commits_url': 'https://api.github.com/repos/joelgrus/core/commits{/sha}',\n",
       "  'git_commits_url': 'https://api.github.com/repos/joelgrus/core/git/commits{/sha}',\n",
       "  'comments_url': 'https://api.github.com/repos/joelgrus/core/comments{/number}',\n",
       "  'issue_comment_url': 'https://api.github.com/repos/joelgrus/core/issues/comments{/number}',\n",
       "  'contents_url': 'https://api.github.com/repos/joelgrus/core/contents/{+path}',\n",
       "  'compare_url': 'https://api.github.com/repos/joelgrus/core/compare/{base}...{head}',\n",
       "  'merges_url': 'https://api.github.com/repos/joelgrus/core/merges',\n",
       "  'archive_url': 'https://api.github.com/repos/joelgrus/core/{archive_format}{/ref}',\n",
       "  'downloads_url': 'https://api.github.com/repos/joelgrus/core/downloads',\n",
       "  'issues_url': 'https://api.github.com/repos/joelgrus/core/issues{/number}',\n",
       "  'pulls_url': 'https://api.github.com/repos/joelgrus/core/pulls{/number}',\n",
       "  'milestones_url': 'https://api.github.com/repos/joelgrus/core/milestones{/number}',\n",
       "  'notifications_url': 'https://api.github.com/repos/joelgrus/core/notifications{?since,all,participating}',\n",
       "  'labels_url': 'https://api.github.com/repos/joelgrus/core/labels{/name}',\n",
       "  'releases_url': 'https://api.github.com/repos/joelgrus/core/releases{/id}',\n",
       "  'deployments_url': 'https://api.github.com/repos/joelgrus/core/deployments',\n",
       "  'created_at': '2015-07-30T01:54:55Z',\n",
       "  'updated_at': '2018-05-24T04:13:31Z',\n",
       "  'pushed_at': '2015-07-30T02:02:16Z',\n",
       "  'git_url': 'git://github.com/joelgrus/core.git',\n",
       "  'ssh_url': 'git@github.com:joelgrus/core.git',\n",
       "  'clone_url': 'https://github.com/joelgrus/core.git',\n",
       "  'svn_url': 'https://github.com/joelgrus/core',\n",
       "  'homepage': None,\n",
       "  'size': 947,\n",
       "  'stargazers_count': 0,\n",
       "  'watchers_count': 0,\n",
       "  'language': 'Elm',\n",
       "  'has_issues': False,\n",
       "  'has_projects': True,\n",
       "  'has_downloads': True,\n",
       "  'has_wiki': True,\n",
       "  'has_pages': False,\n",
       "  'forks_count': 0,\n",
       "  'mirror_url': None,\n",
       "  'archived': False,\n",
       "  'disabled': False,\n",
       "  'open_issues_count': 0,\n",
       "  'license': {'key': 'other',\n",
       "   'name': 'Other',\n",
       "   'spdx_id': 'NOASSERTION',\n",
       "   'url': None,\n",
       "   'node_id': 'MDc6TGljZW5zZTA='},\n",
       "  'forks': 0,\n",
       "  'open_issues': 0,\n",
       "  'watchers': 0,\n",
       "  'default_branch': 'master'},\n",
       " {'id': 149900501,\n",
       "  'node_id': 'MDEwOlJlcG9zaXRvcnkxNDk5MDA1MDE=',\n",
       "  'name': 'data',\n",
       "  'full_name': 'joelgrus/data',\n",
       "  'private': False,\n",
       "  'owner': {'login': 'joelgrus',\n",
       "   'id': 1308313,\n",
       "   'node_id': 'MDQ6VXNlcjEzMDgzMTM=',\n",
       "   'avatar_url': 'https://avatars1.githubusercontent.com/u/1308313?v=4',\n",
       "   'gravatar_id': '',\n",
       "   'url': 'https://api.github.com/users/joelgrus',\n",
       "   'html_url': 'https://github.com/joelgrus',\n",
       "   'followers_url': 'https://api.github.com/users/joelgrus/followers',\n",
       "   'following_url': 'https://api.github.com/users/joelgrus/following{/other_user}',\n",
       "   'gists_url': 'https://api.github.com/users/joelgrus/gists{/gist_id}',\n",
       "   'starred_url': 'https://api.github.com/users/joelgrus/starred{/owner}{/repo}',\n",
       "   'subscriptions_url': 'https://api.github.com/users/joelgrus/subscriptions',\n",
       "   'organizations_url': 'https://api.github.com/users/joelgrus/orgs',\n",
       "   'repos_url': 'https://api.github.com/users/joelgrus/repos',\n",
       "   'events_url': 'https://api.github.com/users/joelgrus/events{/privacy}',\n",
       "   'received_events_url': 'https://api.github.com/users/joelgrus/received_events',\n",
       "   'type': 'User',\n",
       "   'site_admin': False},\n",
       "  'html_url': 'https://github.com/joelgrus/data',\n",
       "  'description': 'datasets for data science from scratch',\n",
       "  'fork': False,\n",
       "  'url': 'https://api.github.com/repos/joelgrus/data',\n",
       "  'forks_url': 'https://api.github.com/repos/joelgrus/data/forks',\n",
       "  'keys_url': 'https://api.github.com/repos/joelgrus/data/keys{/key_id}',\n",
       "  'collaborators_url': 'https://api.github.com/repos/joelgrus/data/collaborators{/collaborator}',\n",
       "  'teams_url': 'https://api.github.com/repos/joelgrus/data/teams',\n",
       "  'hooks_url': 'https://api.github.com/repos/joelgrus/data/hooks',\n",
       "  'issue_events_url': 'https://api.github.com/repos/joelgrus/data/issues/events{/number}',\n",
       "  'events_url': 'https://api.github.com/repos/joelgrus/data/events',\n",
       "  'assignees_url': 'https://api.github.com/repos/joelgrus/data/assignees{/user}',\n",
       "  'branches_url': 'https://api.github.com/repos/joelgrus/data/branches{/branch}',\n",
       "  'tags_url': 'https://api.github.com/repos/joelgrus/data/tags',\n",
       "  'blobs_url': 'https://api.github.com/repos/joelgrus/data/git/blobs{/sha}',\n",
       "  'git_tags_url': 'https://api.github.com/repos/joelgrus/data/git/tags{/sha}',\n",
       "  'git_refs_url': 'https://api.github.com/repos/joelgrus/data/git/refs{/sha}',\n",
       "  'trees_url': 'https://api.github.com/repos/joelgrus/data/git/trees{/sha}',\n",
       "  'statuses_url': 'https://api.github.com/repos/joelgrus/data/statuses/{sha}',\n",
       "  'languages_url': 'https://api.github.com/repos/joelgrus/data/languages',\n",
       "  'stargazers_url': 'https://api.github.com/repos/joelgrus/data/stargazers',\n",
       "  'contributors_url': 'https://api.github.com/repos/joelgrus/data/contributors',\n",
       "  'subscribers_url': 'https://api.github.com/repos/joelgrus/data/subscribers',\n",
       "  'subscription_url': 'https://api.github.com/repos/joelgrus/data/subscription',\n",
       "  'commits_url': 'https://api.github.com/repos/joelgrus/data/commits{/sha}',\n",
       "  'git_commits_url': 'https://api.github.com/repos/joelgrus/data/git/commits{/sha}',\n",
       "  'comments_url': 'https://api.github.com/repos/joelgrus/data/comments{/number}',\n",
       "  'issue_comment_url': 'https://api.github.com/repos/joelgrus/data/issues/comments{/number}',\n",
       "  'contents_url': 'https://api.github.com/repos/joelgrus/data/contents/{+path}',\n",
       "  'compare_url': 'https://api.github.com/repos/joelgrus/data/compare/{base}...{head}',\n",
       "  'merges_url': 'https://api.github.com/repos/joelgrus/data/merges',\n",
       "  'archive_url': 'https://api.github.com/repos/joelgrus/data/{archive_format}{/ref}',\n",
       "  'downloads_url': 'https://api.github.com/repos/joelgrus/data/downloads',\n",
       "  'issues_url': 'https://api.github.com/repos/joelgrus/data/issues{/number}',\n",
       "  'pulls_url': 'https://api.github.com/repos/joelgrus/data/pulls{/number}',\n",
       "  'milestones_url': 'https://api.github.com/repos/joelgrus/data/milestones{/number}',\n",
       "  'notifications_url': 'https://api.github.com/repos/joelgrus/data/notifications{?since,all,participating}',\n",
       "  'labels_url': 'https://api.github.com/repos/joelgrus/data/labels{/name}',\n",
       "  'releases_url': 'https://api.github.com/repos/joelgrus/data/releases{/id}',\n",
       "  'deployments_url': 'https://api.github.com/repos/joelgrus/data/deployments',\n",
       "  'created_at': '2018-09-22T17:30:59Z',\n",
       "  'updated_at': '2019-08-13T01:24:09Z',\n",
       "  'pushed_at': '2018-09-22T17:32:03Z',\n",
       "  'git_url': 'git://github.com/joelgrus/data.git',\n",
       "  'ssh_url': 'git@github.com:joelgrus/data.git',\n",
       "  'clone_url': 'https://github.com/joelgrus/data.git',\n",
       "  'svn_url': 'https://github.com/joelgrus/data',\n",
       "  'homepage': None,\n",
       "  'size': 1,\n",
       "  'stargazers_count': 4,\n",
       "  'watchers_count': 4,\n",
       "  'language': 'HTML',\n",
       "  'has_issues': True,\n",
       "  'has_projects': True,\n",
       "  'has_downloads': True,\n",
       "  'has_wiki': True,\n",
       "  'has_pages': False,\n",
       "  'forks_count': 1,\n",
       "  'mirror_url': None,\n",
       "  'archived': False,\n",
       "  'disabled': False,\n",
       "  'open_issues_count': 0,\n",
       "  'license': None,\n",
       "  'forks': 1,\n",
       "  'open_issues': 0,\n",
       "  'watchers': 4,\n",
       "  'default_branch': 'master'},\n",
       " {'id': 26382146,\n",
       "  'node_id': 'MDEwOlJlcG9zaXRvcnkyNjM4MjE0Ng==',\n",
       "  'name': 'data-science-from-scratch',\n",
       "  'full_name': 'joelgrus/data-science-from-scratch',\n",
       "  'private': False,\n",
       "  'owner': {'login': 'joelgrus',\n",
       "   'id': 1308313,\n",
       "   'node_id': 'MDQ6VXNlcjEzMDgzMTM=',\n",
       "   'avatar_url': 'https://avatars1.githubusercontent.com/u/1308313?v=4',\n",
       "   'gravatar_id': '',\n",
       "   'url': 'https://api.github.com/users/joelgrus',\n",
       "   'html_url': 'https://github.com/joelgrus',\n",
       "   'followers_url': 'https://api.github.com/users/joelgrus/followers',\n",
       "   'following_url': 'https://api.github.com/users/joelgrus/following{/other_user}',\n",
       "   'gists_url': 'https://api.github.com/users/joelgrus/gists{/gist_id}',\n",
       "   'starred_url': 'https://api.github.com/users/joelgrus/starred{/owner}{/repo}',\n",
       "   'subscriptions_url': 'https://api.github.com/users/joelgrus/subscriptions',\n",
       "   'organizations_url': 'https://api.github.com/users/joelgrus/orgs',\n",
       "   'repos_url': 'https://api.github.com/users/joelgrus/repos',\n",
       "   'events_url': 'https://api.github.com/users/joelgrus/events{/privacy}',\n",
       "   'received_events_url': 'https://api.github.com/users/joelgrus/received_events',\n",
       "   'type': 'User',\n",
       "   'site_admin': False},\n",
       "  'html_url': 'https://github.com/joelgrus/data-science-from-scratch',\n",
       "  'description': 'code for Data Science From Scratch book',\n",
       "  'fork': False,\n",
       "  'url': 'https://api.github.com/repos/joelgrus/data-science-from-scratch',\n",
       "  'forks_url': 'https://api.github.com/repos/joelgrus/data-science-from-scratch/forks',\n",
       "  'keys_url': 'https://api.github.com/repos/joelgrus/data-science-from-scratch/keys{/key_id}',\n",
       "  'collaborators_url': 'https://api.github.com/repos/joelgrus/data-science-from-scratch/collaborators{/collaborator}',\n",
       "  'teams_url': 'https://api.github.com/repos/joelgrus/data-science-from-scratch/teams',\n",
       "  'hooks_url': 'https://api.github.com/repos/joelgrus/data-science-from-scratch/hooks',\n",
       "  'issue_events_url': 'https://api.github.com/repos/joelgrus/data-science-from-scratch/issues/events{/number}',\n",
       "  'events_url': 'https://api.github.com/repos/joelgrus/data-science-from-scratch/events',\n",
       "  'assignees_url': 'https://api.github.com/repos/joelgrus/data-science-from-scratch/assignees{/user}',\n",
       "  'branches_url': 'https://api.github.com/repos/joelgrus/data-science-from-scratch/branches{/branch}',\n",
       "  'tags_url': 'https://api.github.com/repos/joelgrus/data-science-from-scratch/tags',\n",
       "  'blobs_url': 'https://api.github.com/repos/joelgrus/data-science-from-scratch/git/blobs{/sha}',\n",
       "  'git_tags_url': 'https://api.github.com/repos/joelgrus/data-science-from-scratch/git/tags{/sha}',\n",
       "  'git_refs_url': 'https://api.github.com/repos/joelgrus/data-science-from-scratch/git/refs{/sha}',\n",
       "  'trees_url': 'https://api.github.com/repos/joelgrus/data-science-from-scratch/git/trees{/sha}',\n",
       "  'statuses_url': 'https://api.github.com/repos/joelgrus/data-science-from-scratch/statuses/{sha}',\n",
       "  'languages_url': 'https://api.github.com/repos/joelgrus/data-science-from-scratch/languages',\n",
       "  'stargazers_url': 'https://api.github.com/repos/joelgrus/data-science-from-scratch/stargazers',\n",
       "  'contributors_url': 'https://api.github.com/repos/joelgrus/data-science-from-scratch/contributors',\n",
       "  'subscribers_url': 'https://api.github.com/repos/joelgrus/data-science-from-scratch/subscribers',\n",
       "  'subscription_url': 'https://api.github.com/repos/joelgrus/data-science-from-scratch/subscription',\n",
       "  'commits_url': 'https://api.github.com/repos/joelgrus/data-science-from-scratch/commits{/sha}',\n",
       "  'git_commits_url': 'https://api.github.com/repos/joelgrus/data-science-from-scratch/git/commits{/sha}',\n",
       "  'comments_url': 'https://api.github.com/repos/joelgrus/data-science-from-scratch/comments{/number}',\n",
       "  'issue_comment_url': 'https://api.github.com/repos/joelgrus/data-science-from-scratch/issues/comments{/number}',\n",
       "  'contents_url': 'https://api.github.com/repos/joelgrus/data-science-from-scratch/contents/{+path}',\n",
       "  'compare_url': 'https://api.github.com/repos/joelgrus/data-science-from-scratch/compare/{base}...{head}',\n",
       "  'merges_url': 'https://api.github.com/repos/joelgrus/data-science-from-scratch/merges',\n",
       "  'archive_url': 'https://api.github.com/repos/joelgrus/data-science-from-scratch/{archive_format}{/ref}',\n",
       "  'downloads_url': 'https://api.github.com/repos/joelgrus/data-science-from-scratch/downloads',\n",
       "  'issues_url': 'https://api.github.com/repos/joelgrus/data-science-from-scratch/issues{/number}',\n",
       "  'pulls_url': 'https://api.github.com/repos/joelgrus/data-science-from-scratch/pulls{/number}',\n",
       "  'milestones_url': 'https://api.github.com/repos/joelgrus/data-science-from-scratch/milestones{/number}',\n",
       "  'notifications_url': 'https://api.github.com/repos/joelgrus/data-science-from-scratch/notifications{?since,all,participating}',\n",
       "  'labels_url': 'https://api.github.com/repos/joelgrus/data-science-from-scratch/labels{/name}',\n",
       "  'releases_url': 'https://api.github.com/repos/joelgrus/data-science-from-scratch/releases{/id}',\n",
       "  'deployments_url': 'https://api.github.com/repos/joelgrus/data-science-from-scratch/deployments',\n",
       "  'created_at': '2014-11-09T02:31:24Z',\n",
       "  'updated_at': '2020-05-09T06:28:26Z',\n",
       "  'pushed_at': '2020-02-12T18:13:26Z',\n",
       "  'git_url': 'git://github.com/joelgrus/data-science-from-scratch.git',\n",
       "  'ssh_url': 'git@github.com:joelgrus/data-science-from-scratch.git',\n",
       "  'clone_url': 'https://github.com/joelgrus/data-science-from-scratch.git',\n",
       "  'svn_url': 'https://github.com/joelgrus/data-science-from-scratch',\n",
       "  'homepage': None,\n",
       "  'size': 767,\n",
       "  'stargazers_count': 4891,\n",
       "  'watchers_count': 4891,\n",
       "  'language': 'Python',\n",
       "  'has_issues': True,\n",
       "  'has_projects': True,\n",
       "  'has_downloads': True,\n",
       "  'has_wiki': True,\n",
       "  'has_pages': False,\n",
       "  'forks_count': 2955,\n",
       "  'mirror_url': None,\n",
       "  'archived': False,\n",
       "  'disabled': False,\n",
       "  'open_issues_count': 56,\n",
       "  'license': {'key': 'mit',\n",
       "   'name': 'MIT License',\n",
       "   'spdx_id': 'MIT',\n",
       "   'url': 'https://api.github.com/licenses/mit',\n",
       "   'node_id': 'MDc6TGljZW5zZTEz'},\n",
       "  'forks': 2955,\n",
       "  'open_issues': 56,\n",
       "  'watchers': 4891,\n",
       "  'default_branch': 'master'},\n",
       " {'id': 14272226,\n",
       "  'node_id': 'MDEwOlJlcG9zaXRvcnkxNDI3MjIyNg==',\n",
       "  'name': 'did-you-know',\n",
       "  'full_name': 'joelgrus/did-you-know',\n",
       "  'private': False,\n",
       "  'owner': {'login': 'joelgrus',\n",
       "   'id': 1308313,\n",
       "   'node_id': 'MDQ6VXNlcjEzMDgzMTM=',\n",
       "   'avatar_url': 'https://avatars1.githubusercontent.com/u/1308313?v=4',\n",
       "   'gravatar_id': '',\n",
       "   'url': 'https://api.github.com/users/joelgrus',\n",
       "   'html_url': 'https://github.com/joelgrus',\n",
       "   'followers_url': 'https://api.github.com/users/joelgrus/followers',\n",
       "   'following_url': 'https://api.github.com/users/joelgrus/following{/other_user}',\n",
       "   'gists_url': 'https://api.github.com/users/joelgrus/gists{/gist_id}',\n",
       "   'starred_url': 'https://api.github.com/users/joelgrus/starred{/owner}{/repo}',\n",
       "   'subscriptions_url': 'https://api.github.com/users/joelgrus/subscriptions',\n",
       "   'organizations_url': 'https://api.github.com/users/joelgrus/orgs',\n",
       "   'repos_url': 'https://api.github.com/users/joelgrus/repos',\n",
       "   'events_url': 'https://api.github.com/users/joelgrus/events{/privacy}',\n",
       "   'received_events_url': 'https://api.github.com/users/joelgrus/received_events',\n",
       "   'type': 'User',\n",
       "   'site_admin': False},\n",
       "  'html_url': 'https://github.com/joelgrus/did-you-know',\n",
       "  'description': 'Add a random \"did you know\" to a website',\n",
       "  'fork': False,\n",
       "  'url': 'https://api.github.com/repos/joelgrus/did-you-know',\n",
       "  'forks_url': 'https://api.github.com/repos/joelgrus/did-you-know/forks',\n",
       "  'keys_url': 'https://api.github.com/repos/joelgrus/did-you-know/keys{/key_id}',\n",
       "  'collaborators_url': 'https://api.github.com/repos/joelgrus/did-you-know/collaborators{/collaborator}',\n",
       "  'teams_url': 'https://api.github.com/repos/joelgrus/did-you-know/teams',\n",
       "  'hooks_url': 'https://api.github.com/repos/joelgrus/did-you-know/hooks',\n",
       "  'issue_events_url': 'https://api.github.com/repos/joelgrus/did-you-know/issues/events{/number}',\n",
       "  'events_url': 'https://api.github.com/repos/joelgrus/did-you-know/events',\n",
       "  'assignees_url': 'https://api.github.com/repos/joelgrus/did-you-know/assignees{/user}',\n",
       "  'branches_url': 'https://api.github.com/repos/joelgrus/did-you-know/branches{/branch}',\n",
       "  'tags_url': 'https://api.github.com/repos/joelgrus/did-you-know/tags',\n",
       "  'blobs_url': 'https://api.github.com/repos/joelgrus/did-you-know/git/blobs{/sha}',\n",
       "  'git_tags_url': 'https://api.github.com/repos/joelgrus/did-you-know/git/tags{/sha}',\n",
       "  'git_refs_url': 'https://api.github.com/repos/joelgrus/did-you-know/git/refs{/sha}',\n",
       "  'trees_url': 'https://api.github.com/repos/joelgrus/did-you-know/git/trees{/sha}',\n",
       "  'statuses_url': 'https://api.github.com/repos/joelgrus/did-you-know/statuses/{sha}',\n",
       "  'languages_url': 'https://api.github.com/repos/joelgrus/did-you-know/languages',\n",
       "  'stargazers_url': 'https://api.github.com/repos/joelgrus/did-you-know/stargazers',\n",
       "  'contributors_url': 'https://api.github.com/repos/joelgrus/did-you-know/contributors',\n",
       "  'subscribers_url': 'https://api.github.com/repos/joelgrus/did-you-know/subscribers',\n",
       "  'subscription_url': 'https://api.github.com/repos/joelgrus/did-you-know/subscription',\n",
       "  'commits_url': 'https://api.github.com/repos/joelgrus/did-you-know/commits{/sha}',\n",
       "  'git_commits_url': 'https://api.github.com/repos/joelgrus/did-you-know/git/commits{/sha}',\n",
       "  'comments_url': 'https://api.github.com/repos/joelgrus/did-you-know/comments{/number}',\n",
       "  'issue_comment_url': 'https://api.github.com/repos/joelgrus/did-you-know/issues/comments{/number}',\n",
       "  'contents_url': 'https://api.github.com/repos/joelgrus/did-you-know/contents/{+path}',\n",
       "  'compare_url': 'https://api.github.com/repos/joelgrus/did-you-know/compare/{base}...{head}',\n",
       "  'merges_url': 'https://api.github.com/repos/joelgrus/did-you-know/merges',\n",
       "  'archive_url': 'https://api.github.com/repos/joelgrus/did-you-know/{archive_format}{/ref}',\n",
       "  'downloads_url': 'https://api.github.com/repos/joelgrus/did-you-know/downloads',\n",
       "  'issues_url': 'https://api.github.com/repos/joelgrus/did-you-know/issues{/number}',\n",
       "  'pulls_url': 'https://api.github.com/repos/joelgrus/did-you-know/pulls{/number}',\n",
       "  'milestones_url': 'https://api.github.com/repos/joelgrus/did-you-know/milestones{/number}',\n",
       "  'notifications_url': 'https://api.github.com/repos/joelgrus/did-you-know/notifications{?since,all,participating}',\n",
       "  'labels_url': 'https://api.github.com/repos/joelgrus/did-you-know/labels{/name}',\n",
       "  'releases_url': 'https://api.github.com/repos/joelgrus/did-you-know/releases{/id}',\n",
       "  'deployments_url': 'https://api.github.com/repos/joelgrus/did-you-know/deployments',\n",
       "  'created_at': '2013-11-10T06:52:56Z',\n",
       "  'updated_at': '2017-05-20T08:13:36Z',\n",
       "  'pushed_at': '2013-11-10T14:47:27Z',\n",
       "  'git_url': 'git://github.com/joelgrus/did-you-know.git',\n",
       "  'ssh_url': 'git@github.com:joelgrus/did-you-know.git',\n",
       "  'clone_url': 'https://github.com/joelgrus/did-you-know.git',\n",
       "  'svn_url': 'https://github.com/joelgrus/did-you-know',\n",
       "  'homepage': None,\n",
       "  'size': 112,\n",
       "  'stargazers_count': 1,\n",
       "  'watchers_count': 1,\n",
       "  'language': 'JavaScript',\n",
       "  'has_issues': True,\n",
       "  'has_projects': True,\n",
       "  'has_downloads': True,\n",
       "  'has_wiki': True,\n",
       "  'has_pages': False,\n",
       "  'forks_count': 0,\n",
       "  'mirror_url': None,\n",
       "  'archived': False,\n",
       "  'disabled': False,\n",
       "  'open_issues_count': 0,\n",
       "  'license': None,\n",
       "  'forks': 0,\n",
       "  'open_issues': 0,\n",
       "  'watchers': 1,\n",
       "  'default_branch': 'master'},\n",
       " {'id': 33576630,\n",
       "  'node_id': 'MDEwOlJlcG9zaXRvcnkzMzU3NjYzMA==',\n",
       "  'name': 'drunken-avenger',\n",
       "  'full_name': 'joelgrus/drunken-avenger',\n",
       "  'private': False,\n",
       "  'owner': {'login': 'joelgrus',\n",
       "   'id': 1308313,\n",
       "   'node_id': 'MDQ6VXNlcjEzMDgzMTM=',\n",
       "   'avatar_url': 'https://avatars1.githubusercontent.com/u/1308313?v=4',\n",
       "   'gravatar_id': '',\n",
       "   'url': 'https://api.github.com/users/joelgrus',\n",
       "   'html_url': 'https://github.com/joelgrus',\n",
       "   'followers_url': 'https://api.github.com/users/joelgrus/followers',\n",
       "   'following_url': 'https://api.github.com/users/joelgrus/following{/other_user}',\n",
       "   'gists_url': 'https://api.github.com/users/joelgrus/gists{/gist_id}',\n",
       "   'starred_url': 'https://api.github.com/users/joelgrus/starred{/owner}{/repo}',\n",
       "   'subscriptions_url': 'https://api.github.com/users/joelgrus/subscriptions',\n",
       "   'organizations_url': 'https://api.github.com/users/joelgrus/orgs',\n",
       "   'repos_url': 'https://api.github.com/users/joelgrus/repos',\n",
       "   'events_url': 'https://api.github.com/users/joelgrus/events{/privacy}',\n",
       "   'received_events_url': 'https://api.github.com/users/joelgrus/received_events',\n",
       "   'type': 'User',\n",
       "   'site_admin': False},\n",
       "  'html_url': 'https://github.com/joelgrus/drunken-avenger',\n",
       "  'description': 'the pelican setup for my blog, as well as all the content',\n",
       "  'fork': False,\n",
       "  'url': 'https://api.github.com/repos/joelgrus/drunken-avenger',\n",
       "  'forks_url': 'https://api.github.com/repos/joelgrus/drunken-avenger/forks',\n",
       "  'keys_url': 'https://api.github.com/repos/joelgrus/drunken-avenger/keys{/key_id}',\n",
       "  'collaborators_url': 'https://api.github.com/repos/joelgrus/drunken-avenger/collaborators{/collaborator}',\n",
       "  'teams_url': 'https://api.github.com/repos/joelgrus/drunken-avenger/teams',\n",
       "  'hooks_url': 'https://api.github.com/repos/joelgrus/drunken-avenger/hooks',\n",
       "  'issue_events_url': 'https://api.github.com/repos/joelgrus/drunken-avenger/issues/events{/number}',\n",
       "  'events_url': 'https://api.github.com/repos/joelgrus/drunken-avenger/events',\n",
       "  'assignees_url': 'https://api.github.com/repos/joelgrus/drunken-avenger/assignees{/user}',\n",
       "  'branches_url': 'https://api.github.com/repos/joelgrus/drunken-avenger/branches{/branch}',\n",
       "  'tags_url': 'https://api.github.com/repos/joelgrus/drunken-avenger/tags',\n",
       "  'blobs_url': 'https://api.github.com/repos/joelgrus/drunken-avenger/git/blobs{/sha}',\n",
       "  'git_tags_url': 'https://api.github.com/repos/joelgrus/drunken-avenger/git/tags{/sha}',\n",
       "  'git_refs_url': 'https://api.github.com/repos/joelgrus/drunken-avenger/git/refs{/sha}',\n",
       "  'trees_url': 'https://api.github.com/repos/joelgrus/drunken-avenger/git/trees{/sha}',\n",
       "  'statuses_url': 'https://api.github.com/repos/joelgrus/drunken-avenger/statuses/{sha}',\n",
       "  'languages_url': 'https://api.github.com/repos/joelgrus/drunken-avenger/languages',\n",
       "  'stargazers_url': 'https://api.github.com/repos/joelgrus/drunken-avenger/stargazers',\n",
       "  'contributors_url': 'https://api.github.com/repos/joelgrus/drunken-avenger/contributors',\n",
       "  'subscribers_url': 'https://api.github.com/repos/joelgrus/drunken-avenger/subscribers',\n",
       "  'subscription_url': 'https://api.github.com/repos/joelgrus/drunken-avenger/subscription',\n",
       "  'commits_url': 'https://api.github.com/repos/joelgrus/drunken-avenger/commits{/sha}',\n",
       "  'git_commits_url': 'https://api.github.com/repos/joelgrus/drunken-avenger/git/commits{/sha}',\n",
       "  'comments_url': 'https://api.github.com/repos/joelgrus/drunken-avenger/comments{/number}',\n",
       "  'issue_comment_url': 'https://api.github.com/repos/joelgrus/drunken-avenger/issues/comments{/number}',\n",
       "  'contents_url': 'https://api.github.com/repos/joelgrus/drunken-avenger/contents/{+path}',\n",
       "  'compare_url': 'https://api.github.com/repos/joelgrus/drunken-avenger/compare/{base}...{head}',\n",
       "  'merges_url': 'https://api.github.com/repos/joelgrus/drunken-avenger/merges',\n",
       "  'archive_url': 'https://api.github.com/repos/joelgrus/drunken-avenger/{archive_format}{/ref}',\n",
       "  'downloads_url': 'https://api.github.com/repos/joelgrus/drunken-avenger/downloads',\n",
       "  'issues_url': 'https://api.github.com/repos/joelgrus/drunken-avenger/issues{/number}',\n",
       "  'pulls_url': 'https://api.github.com/repos/joelgrus/drunken-avenger/pulls{/number}',\n",
       "  'milestones_url': 'https://api.github.com/repos/joelgrus/drunken-avenger/milestones{/number}',\n",
       "  'notifications_url': 'https://api.github.com/repos/joelgrus/drunken-avenger/notifications{?since,all,participating}',\n",
       "  'labels_url': 'https://api.github.com/repos/joelgrus/drunken-avenger/labels{/name}',\n",
       "  'releases_url': 'https://api.github.com/repos/joelgrus/drunken-avenger/releases{/id}',\n",
       "  'deployments_url': 'https://api.github.com/repos/joelgrus/drunken-avenger/deployments',\n",
       "  'created_at': '2015-04-08T01:01:47Z',\n",
       "  'updated_at': '2019-07-30T18:44:11Z',\n",
       "  'pushed_at': '2019-07-30T18:44:09Z',\n",
       "  'git_url': 'git://github.com/joelgrus/drunken-avenger.git',\n",
       "  'ssh_url': 'git@github.com:joelgrus/drunken-avenger.git',\n",
       "  'clone_url': 'https://github.com/joelgrus/drunken-avenger.git',\n",
       "  'svn_url': 'https://github.com/joelgrus/drunken-avenger',\n",
       "  'homepage': None,\n",
       "  'size': 12503,\n",
       "  'stargazers_count': 0,\n",
       "  'watchers_count': 0,\n",
       "  'language': 'JavaScript',\n",
       "  'has_issues': True,\n",
       "  'has_projects': True,\n",
       "  'has_downloads': True,\n",
       "  'has_wiki': True,\n",
       "  'has_pages': False,\n",
       "  'forks_count': 0,\n",
       "  'mirror_url': None,\n",
       "  'archived': False,\n",
       "  'disabled': False,\n",
       "  'open_issues_count': 0,\n",
       "  'license': None,\n",
       "  'forks': 0,\n",
       "  'open_issues': 0,\n",
       "  'watchers': 0,\n",
       "  'default_branch': 'master'},\n",
       " {'id': 49247203,\n",
       "  'node_id': 'MDEwOlJlcG9zaXRvcnk0OTI0NzIwMw==',\n",
       "  'name': 'dsfs-function-index',\n",
       "  'full_name': 'joelgrus/dsfs-function-index',\n",
       "  'private': False,\n",
       "  'owner': {'login': 'joelgrus',\n",
       "   'id': 1308313,\n",
       "   'node_id': 'MDQ6VXNlcjEzMDgzMTM=',\n",
       "   'avatar_url': 'https://avatars1.githubusercontent.com/u/1308313?v=4',\n",
       "   'gravatar_id': '',\n",
       "   'url': 'https://api.github.com/users/joelgrus',\n",
       "   'html_url': 'https://github.com/joelgrus',\n",
       "   'followers_url': 'https://api.github.com/users/joelgrus/followers',\n",
       "   'following_url': 'https://api.github.com/users/joelgrus/following{/other_user}',\n",
       "   'gists_url': 'https://api.github.com/users/joelgrus/gists{/gist_id}',\n",
       "   'starred_url': 'https://api.github.com/users/joelgrus/starred{/owner}{/repo}',\n",
       "   'subscriptions_url': 'https://api.github.com/users/joelgrus/subscriptions',\n",
       "   'organizations_url': 'https://api.github.com/users/joelgrus/orgs',\n",
       "   'repos_url': 'https://api.github.com/users/joelgrus/repos',\n",
       "   'events_url': 'https://api.github.com/users/joelgrus/events{/privacy}',\n",
       "   'received_events_url': 'https://api.github.com/users/joelgrus/received_events',\n",
       "   'type': 'User',\n",
       "   'site_admin': False},\n",
       "  'html_url': 'https://github.com/joelgrus/dsfs-function-index',\n",
       "  'description': 'a single-page app that exposes a filterable index of the functions in Data Science from Scratch',\n",
       "  'fork': False,\n",
       "  'url': 'https://api.github.com/repos/joelgrus/dsfs-function-index',\n",
       "  'forks_url': 'https://api.github.com/repos/joelgrus/dsfs-function-index/forks',\n",
       "  'keys_url': 'https://api.github.com/repos/joelgrus/dsfs-function-index/keys{/key_id}',\n",
       "  'collaborators_url': 'https://api.github.com/repos/joelgrus/dsfs-function-index/collaborators{/collaborator}',\n",
       "  'teams_url': 'https://api.github.com/repos/joelgrus/dsfs-function-index/teams',\n",
       "  'hooks_url': 'https://api.github.com/repos/joelgrus/dsfs-function-index/hooks',\n",
       "  'issue_events_url': 'https://api.github.com/repos/joelgrus/dsfs-function-index/issues/events{/number}',\n",
       "  'events_url': 'https://api.github.com/repos/joelgrus/dsfs-function-index/events',\n",
       "  'assignees_url': 'https://api.github.com/repos/joelgrus/dsfs-function-index/assignees{/user}',\n",
       "  'branches_url': 'https://api.github.com/repos/joelgrus/dsfs-function-index/branches{/branch}',\n",
       "  'tags_url': 'https://api.github.com/repos/joelgrus/dsfs-function-index/tags',\n",
       "  'blobs_url': 'https://api.github.com/repos/joelgrus/dsfs-function-index/git/blobs{/sha}',\n",
       "  'git_tags_url': 'https://api.github.com/repos/joelgrus/dsfs-function-index/git/tags{/sha}',\n",
       "  'git_refs_url': 'https://api.github.com/repos/joelgrus/dsfs-function-index/git/refs{/sha}',\n",
       "  'trees_url': 'https://api.github.com/repos/joelgrus/dsfs-function-index/git/trees{/sha}',\n",
       "  'statuses_url': 'https://api.github.com/repos/joelgrus/dsfs-function-index/statuses/{sha}',\n",
       "  'languages_url': 'https://api.github.com/repos/joelgrus/dsfs-function-index/languages',\n",
       "  'stargazers_url': 'https://api.github.com/repos/joelgrus/dsfs-function-index/stargazers',\n",
       "  'contributors_url': 'https://api.github.com/repos/joelgrus/dsfs-function-index/contributors',\n",
       "  'subscribers_url': 'https://api.github.com/repos/joelgrus/dsfs-function-index/subscribers',\n",
       "  'subscription_url': 'https://api.github.com/repos/joelgrus/dsfs-function-index/subscription',\n",
       "  'commits_url': 'https://api.github.com/repos/joelgrus/dsfs-function-index/commits{/sha}',\n",
       "  'git_commits_url': 'https://api.github.com/repos/joelgrus/dsfs-function-index/git/commits{/sha}',\n",
       "  'comments_url': 'https://api.github.com/repos/joelgrus/dsfs-function-index/comments{/number}',\n",
       "  'issue_comment_url': 'https://api.github.com/repos/joelgrus/dsfs-function-index/issues/comments{/number}',\n",
       "  'contents_url': 'https://api.github.com/repos/joelgrus/dsfs-function-index/contents/{+path}',\n",
       "  'compare_url': 'https://api.github.com/repos/joelgrus/dsfs-function-index/compare/{base}...{head}',\n",
       "  'merges_url': 'https://api.github.com/repos/joelgrus/dsfs-function-index/merges',\n",
       "  'archive_url': 'https://api.github.com/repos/joelgrus/dsfs-function-index/{archive_format}{/ref}',\n",
       "  'downloads_url': 'https://api.github.com/repos/joelgrus/dsfs-function-index/downloads',\n",
       "  'issues_url': 'https://api.github.com/repos/joelgrus/dsfs-function-index/issues{/number}',\n",
       "  'pulls_url': 'https://api.github.com/repos/joelgrus/dsfs-function-index/pulls{/number}',\n",
       "  'milestones_url': 'https://api.github.com/repos/joelgrus/dsfs-function-index/milestones{/number}',\n",
       "  'notifications_url': 'https://api.github.com/repos/joelgrus/dsfs-function-index/notifications{?since,all,participating}',\n",
       "  'labels_url': 'https://api.github.com/repos/joelgrus/dsfs-function-index/labels{/name}',\n",
       "  'releases_url': 'https://api.github.com/repos/joelgrus/dsfs-function-index/releases{/id}',\n",
       "  'deployments_url': 'https://api.github.com/repos/joelgrus/dsfs-function-index/deployments',\n",
       "  'created_at': '2016-01-08T03:33:58Z',\n",
       "  'updated_at': '2016-01-08T03:36:00Z',\n",
       "  'pushed_at': '2016-01-08T03:55:45Z',\n",
       "  'git_url': 'git://github.com/joelgrus/dsfs-function-index.git',\n",
       "  'ssh_url': 'git@github.com:joelgrus/dsfs-function-index.git',\n",
       "  'clone_url': 'https://github.com/joelgrus/dsfs-function-index.git',\n",
       "  'svn_url': 'https://github.com/joelgrus/dsfs-function-index',\n",
       "  'homepage': None,\n",
       "  'size': 37,\n",
       "  'stargazers_count': 0,\n",
       "  'watchers_count': 0,\n",
       "  'language': 'PureScript',\n",
       "  'has_issues': True,\n",
       "  'has_projects': True,\n",
       "  'has_downloads': True,\n",
       "  'has_wiki': True,\n",
       "  'has_pages': False,\n",
       "  'forks_count': 0,\n",
       "  'mirror_url': None,\n",
       "  'archived': False,\n",
       "  'disabled': False,\n",
       "  'open_issues_count': 0,\n",
       "  'license': {'key': 'unlicense',\n",
       "   'name': 'The Unlicense',\n",
       "   'spdx_id': 'Unlicense',\n",
       "   'url': 'https://api.github.com/licenses/unlicense',\n",
       "   'node_id': 'MDc6TGljZW5zZTE1'},\n",
       "  'forks': 0,\n",
       "  'open_issues': 0,\n",
       "  'watchers': 0,\n",
       "  'default_branch': 'master'},\n",
       " {'id': 50088061,\n",
       "  'node_id': 'MDEwOlJlcG9zaXRvcnk1MDA4ODA2MQ==',\n",
       "  'name': 'dsfs-function-index-cycle-js',\n",
       "  'full_name': 'joelgrus/dsfs-function-index-cycle-js',\n",
       "  'private': False,\n",
       "  'owner': {'login': 'joelgrus',\n",
       "   'id': 1308313,\n",
       "   'node_id': 'MDQ6VXNlcjEzMDgzMTM=',\n",
       "   'avatar_url': 'https://avatars1.githubusercontent.com/u/1308313?v=4',\n",
       "   'gravatar_id': '',\n",
       "   'url': 'https://api.github.com/users/joelgrus',\n",
       "   'html_url': 'https://github.com/joelgrus',\n",
       "   'followers_url': 'https://api.github.com/users/joelgrus/followers',\n",
       "   'following_url': 'https://api.github.com/users/joelgrus/following{/other_user}',\n",
       "   'gists_url': 'https://api.github.com/users/joelgrus/gists{/gist_id}',\n",
       "   'starred_url': 'https://api.github.com/users/joelgrus/starred{/owner}{/repo}',\n",
       "   'subscriptions_url': 'https://api.github.com/users/joelgrus/subscriptions',\n",
       "   'organizations_url': 'https://api.github.com/users/joelgrus/orgs',\n",
       "   'repos_url': 'https://api.github.com/users/joelgrus/repos',\n",
       "   'events_url': 'https://api.github.com/users/joelgrus/events{/privacy}',\n",
       "   'received_events_url': 'https://api.github.com/users/joelgrus/received_events',\n",
       "   'type': 'User',\n",
       "   'site_admin': False},\n",
       "  'html_url': 'https://github.com/joelgrus/dsfs-function-index-cycle-js',\n",
       "  'description': 'reimplementation of Data Science from Scratch function index in cycle.js',\n",
       "  'fork': False,\n",
       "  'url': 'https://api.github.com/repos/joelgrus/dsfs-function-index-cycle-js',\n",
       "  'forks_url': 'https://api.github.com/repos/joelgrus/dsfs-function-index-cycle-js/forks',\n",
       "  'keys_url': 'https://api.github.com/repos/joelgrus/dsfs-function-index-cycle-js/keys{/key_id}',\n",
       "  'collaborators_url': 'https://api.github.com/repos/joelgrus/dsfs-function-index-cycle-js/collaborators{/collaborator}',\n",
       "  'teams_url': 'https://api.github.com/repos/joelgrus/dsfs-function-index-cycle-js/teams',\n",
       "  'hooks_url': 'https://api.github.com/repos/joelgrus/dsfs-function-index-cycle-js/hooks',\n",
       "  'issue_events_url': 'https://api.github.com/repos/joelgrus/dsfs-function-index-cycle-js/issues/events{/number}',\n",
       "  'events_url': 'https://api.github.com/repos/joelgrus/dsfs-function-index-cycle-js/events',\n",
       "  'assignees_url': 'https://api.github.com/repos/joelgrus/dsfs-function-index-cycle-js/assignees{/user}',\n",
       "  'branches_url': 'https://api.github.com/repos/joelgrus/dsfs-function-index-cycle-js/branches{/branch}',\n",
       "  'tags_url': 'https://api.github.com/repos/joelgrus/dsfs-function-index-cycle-js/tags',\n",
       "  'blobs_url': 'https://api.github.com/repos/joelgrus/dsfs-function-index-cycle-js/git/blobs{/sha}',\n",
       "  'git_tags_url': 'https://api.github.com/repos/joelgrus/dsfs-function-index-cycle-js/git/tags{/sha}',\n",
       "  'git_refs_url': 'https://api.github.com/repos/joelgrus/dsfs-function-index-cycle-js/git/refs{/sha}',\n",
       "  'trees_url': 'https://api.github.com/repos/joelgrus/dsfs-function-index-cycle-js/git/trees{/sha}',\n",
       "  'statuses_url': 'https://api.github.com/repos/joelgrus/dsfs-function-index-cycle-js/statuses/{sha}',\n",
       "  'languages_url': 'https://api.github.com/repos/joelgrus/dsfs-function-index-cycle-js/languages',\n",
       "  'stargazers_url': 'https://api.github.com/repos/joelgrus/dsfs-function-index-cycle-js/stargazers',\n",
       "  'contributors_url': 'https://api.github.com/repos/joelgrus/dsfs-function-index-cycle-js/contributors',\n",
       "  'subscribers_url': 'https://api.github.com/repos/joelgrus/dsfs-function-index-cycle-js/subscribers',\n",
       "  'subscription_url': 'https://api.github.com/repos/joelgrus/dsfs-function-index-cycle-js/subscription',\n",
       "  'commits_url': 'https://api.github.com/repos/joelgrus/dsfs-function-index-cycle-js/commits{/sha}',\n",
       "  'git_commits_url': 'https://api.github.com/repos/joelgrus/dsfs-function-index-cycle-js/git/commits{/sha}',\n",
       "  'comments_url': 'https://api.github.com/repos/joelgrus/dsfs-function-index-cycle-js/comments{/number}',\n",
       "  'issue_comment_url': 'https://api.github.com/repos/joelgrus/dsfs-function-index-cycle-js/issues/comments{/number}',\n",
       "  'contents_url': 'https://api.github.com/repos/joelgrus/dsfs-function-index-cycle-js/contents/{+path}',\n",
       "  'compare_url': 'https://api.github.com/repos/joelgrus/dsfs-function-index-cycle-js/compare/{base}...{head}',\n",
       "  'merges_url': 'https://api.github.com/repos/joelgrus/dsfs-function-index-cycle-js/merges',\n",
       "  'archive_url': 'https://api.github.com/repos/joelgrus/dsfs-function-index-cycle-js/{archive_format}{/ref}',\n",
       "  'downloads_url': 'https://api.github.com/repos/joelgrus/dsfs-function-index-cycle-js/downloads',\n",
       "  'issues_url': 'https://api.github.com/repos/joelgrus/dsfs-function-index-cycle-js/issues{/number}',\n",
       "  'pulls_url': 'https://api.github.com/repos/joelgrus/dsfs-function-index-cycle-js/pulls{/number}',\n",
       "  'milestones_url': 'https://api.github.com/repos/joelgrus/dsfs-function-index-cycle-js/milestones{/number}',\n",
       "  'notifications_url': 'https://api.github.com/repos/joelgrus/dsfs-function-index-cycle-js/notifications{?since,all,participating}',\n",
       "  'labels_url': 'https://api.github.com/repos/joelgrus/dsfs-function-index-cycle-js/labels{/name}',\n",
       "  'releases_url': 'https://api.github.com/repos/joelgrus/dsfs-function-index-cycle-js/releases{/id}',\n",
       "  'deployments_url': 'https://api.github.com/repos/joelgrus/dsfs-function-index-cycle-js/deployments',\n",
       "  'created_at': '2016-01-21T06:46:49Z',\n",
       "  'updated_at': '2016-03-04T19:17:11Z',\n",
       "  'pushed_at': '2016-01-21T18:13:34Z',\n",
       "  'git_url': 'git://github.com/joelgrus/dsfs-function-index-cycle-js.git',\n",
       "  'ssh_url': 'git@github.com:joelgrus/dsfs-function-index-cycle-js.git',\n",
       "  'clone_url': 'https://github.com/joelgrus/dsfs-function-index-cycle-js.git',\n",
       "  'svn_url': 'https://github.com/joelgrus/dsfs-function-index-cycle-js',\n",
       "  'homepage': None,\n",
       "  'size': 358,\n",
       "  'stargazers_count': 2,\n",
       "  'watchers_count': 2,\n",
       "  'language': 'JavaScript',\n",
       "  'has_issues': True,\n",
       "  'has_projects': True,\n",
       "  'has_downloads': True,\n",
       "  'has_wiki': True,\n",
       "  'has_pages': False,\n",
       "  'forks_count': 0,\n",
       "  'mirror_url': None,\n",
       "  'archived': False,\n",
       "  'disabled': False,\n",
       "  'open_issues_count': 0,\n",
       "  'license': None,\n",
       "  'forks': 0,\n",
       "  'open_issues': 0,\n",
       "  'watchers': 2,\n",
       "  'default_branch': 'master'},\n",
       " {'id': 11083708,\n",
       "  'node_id': 'MDEwOlJlcG9zaXRvcnkxMTA4MzcwOA==',\n",
       "  'name': 'duckduckcontext',\n",
       "  'full_name': 'joelgrus/duckduckcontext',\n",
       "  'private': False,\n",
       "  'owner': {'login': 'joelgrus',\n",
       "   'id': 1308313,\n",
       "   'node_id': 'MDQ6VXNlcjEzMDgzMTM=',\n",
       "   'avatar_url': 'https://avatars1.githubusercontent.com/u/1308313?v=4',\n",
       "   'gravatar_id': '',\n",
       "   'url': 'https://api.github.com/users/joelgrus',\n",
       "   'html_url': 'https://github.com/joelgrus',\n",
       "   'followers_url': 'https://api.github.com/users/joelgrus/followers',\n",
       "   'following_url': 'https://api.github.com/users/joelgrus/following{/other_user}',\n",
       "   'gists_url': 'https://api.github.com/users/joelgrus/gists{/gist_id}',\n",
       "   'starred_url': 'https://api.github.com/users/joelgrus/starred{/owner}{/repo}',\n",
       "   'subscriptions_url': 'https://api.github.com/users/joelgrus/subscriptions',\n",
       "   'organizations_url': 'https://api.github.com/users/joelgrus/orgs',\n",
       "   'repos_url': 'https://api.github.com/users/joelgrus/repos',\n",
       "   'events_url': 'https://api.github.com/users/joelgrus/events{/privacy}',\n",
       "   'received_events_url': 'https://api.github.com/users/joelgrus/received_events',\n",
       "   'type': 'User',\n",
       "   'site_admin': False},\n",
       "  'html_url': 'https://github.com/joelgrus/duckduckcontext',\n",
       "  'description': 'Extension to add DuckDuckGo !bang search options to Chrome right-click menu',\n",
       "  'fork': False,\n",
       "  'url': 'https://api.github.com/repos/joelgrus/duckduckcontext',\n",
       "  'forks_url': 'https://api.github.com/repos/joelgrus/duckduckcontext/forks',\n",
       "  'keys_url': 'https://api.github.com/repos/joelgrus/duckduckcontext/keys{/key_id}',\n",
       "  'collaborators_url': 'https://api.github.com/repos/joelgrus/duckduckcontext/collaborators{/collaborator}',\n",
       "  'teams_url': 'https://api.github.com/repos/joelgrus/duckduckcontext/teams',\n",
       "  'hooks_url': 'https://api.github.com/repos/joelgrus/duckduckcontext/hooks',\n",
       "  'issue_events_url': 'https://api.github.com/repos/joelgrus/duckduckcontext/issues/events{/number}',\n",
       "  'events_url': 'https://api.github.com/repos/joelgrus/duckduckcontext/events',\n",
       "  'assignees_url': 'https://api.github.com/repos/joelgrus/duckduckcontext/assignees{/user}',\n",
       "  'branches_url': 'https://api.github.com/repos/joelgrus/duckduckcontext/branches{/branch}',\n",
       "  'tags_url': 'https://api.github.com/repos/joelgrus/duckduckcontext/tags',\n",
       "  'blobs_url': 'https://api.github.com/repos/joelgrus/duckduckcontext/git/blobs{/sha}',\n",
       "  'git_tags_url': 'https://api.github.com/repos/joelgrus/duckduckcontext/git/tags{/sha}',\n",
       "  'git_refs_url': 'https://api.github.com/repos/joelgrus/duckduckcontext/git/refs{/sha}',\n",
       "  'trees_url': 'https://api.github.com/repos/joelgrus/duckduckcontext/git/trees{/sha}',\n",
       "  'statuses_url': 'https://api.github.com/repos/joelgrus/duckduckcontext/statuses/{sha}',\n",
       "  'languages_url': 'https://api.github.com/repos/joelgrus/duckduckcontext/languages',\n",
       "  'stargazers_url': 'https://api.github.com/repos/joelgrus/duckduckcontext/stargazers',\n",
       "  'contributors_url': 'https://api.github.com/repos/joelgrus/duckduckcontext/contributors',\n",
       "  'subscribers_url': 'https://api.github.com/repos/joelgrus/duckduckcontext/subscribers',\n",
       "  'subscription_url': 'https://api.github.com/repos/joelgrus/duckduckcontext/subscription',\n",
       "  'commits_url': 'https://api.github.com/repos/joelgrus/duckduckcontext/commits{/sha}',\n",
       "  'git_commits_url': 'https://api.github.com/repos/joelgrus/duckduckcontext/git/commits{/sha}',\n",
       "  'comments_url': 'https://api.github.com/repos/joelgrus/duckduckcontext/comments{/number}',\n",
       "  'issue_comment_url': 'https://api.github.com/repos/joelgrus/duckduckcontext/issues/comments{/number}',\n",
       "  'contents_url': 'https://api.github.com/repos/joelgrus/duckduckcontext/contents/{+path}',\n",
       "  'compare_url': 'https://api.github.com/repos/joelgrus/duckduckcontext/compare/{base}...{head}',\n",
       "  'merges_url': 'https://api.github.com/repos/joelgrus/duckduckcontext/merges',\n",
       "  'archive_url': 'https://api.github.com/repos/joelgrus/duckduckcontext/{archive_format}{/ref}',\n",
       "  'downloads_url': 'https://api.github.com/repos/joelgrus/duckduckcontext/downloads',\n",
       "  'issues_url': 'https://api.github.com/repos/joelgrus/duckduckcontext/issues{/number}',\n",
       "  'pulls_url': 'https://api.github.com/repos/joelgrus/duckduckcontext/pulls{/number}',\n",
       "  'milestones_url': 'https://api.github.com/repos/joelgrus/duckduckcontext/milestones{/number}',\n",
       "  'notifications_url': 'https://api.github.com/repos/joelgrus/duckduckcontext/notifications{?since,all,participating}',\n",
       "  'labels_url': 'https://api.github.com/repos/joelgrus/duckduckcontext/labels{/name}',\n",
       "  'releases_url': 'https://api.github.com/repos/joelgrus/duckduckcontext/releases{/id}',\n",
       "  'deployments_url': 'https://api.github.com/repos/joelgrus/duckduckcontext/deployments',\n",
       "  'created_at': '2013-07-01T03:36:23Z',\n",
       "  'updated_at': '2013-10-15T02:41:11Z',\n",
       "  'pushed_at': '2013-07-01T13:38:23Z',\n",
       "  'git_url': 'git://github.com/joelgrus/duckduckcontext.git',\n",
       "  'ssh_url': 'git@github.com:joelgrus/duckduckcontext.git',\n",
       "  'clone_url': 'https://github.com/joelgrus/duckduckcontext.git',\n",
       "  'svn_url': 'https://github.com/joelgrus/duckduckcontext',\n",
       "  'homepage': None,\n",
       "  'size': 112,\n",
       "  'stargazers_count': 0,\n",
       "  'watchers_count': 0,\n",
       "  'language': 'JavaScript',\n",
       "  'has_issues': True,\n",
       "  'has_projects': True,\n",
       "  'has_downloads': True,\n",
       "  'has_wiki': True,\n",
       "  'has_pages': False,\n",
       "  'forks_count': 0,\n",
       "  'mirror_url': None,\n",
       "  'archived': False,\n",
       "  'disabled': False,\n",
       "  'open_issues_count': 0,\n",
       "  'license': None,\n",
       "  'forks': 0,\n",
       "  'open_issues': 0,\n",
       "  'watchers': 0,\n",
       "  'default_branch': 'master'},\n",
       " {'id': 8347016,\n",
       "  'node_id': 'MDEwOlJlcG9zaXRvcnk4MzQ3MDE2',\n",
       "  'name': 'fire',\n",
       "  'full_name': 'joelgrus/fire',\n",
       "  'private': False,\n",
       "  'owner': {'login': 'joelgrus',\n",
       "   'id': 1308313,\n",
       "   'node_id': 'MDQ6VXNlcjEzMDgzMTM=',\n",
       "   'avatar_url': 'https://avatars1.githubusercontent.com/u/1308313?v=4',\n",
       "   'gravatar_id': '',\n",
       "   'url': 'https://api.github.com/users/joelgrus',\n",
       "   'html_url': 'https://github.com/joelgrus',\n",
       "   'followers_url': 'https://api.github.com/users/joelgrus/followers',\n",
       "   'following_url': 'https://api.github.com/users/joelgrus/following{/other_user}',\n",
       "   'gists_url': 'https://api.github.com/users/joelgrus/gists{/gist_id}',\n",
       "   'starred_url': 'https://api.github.com/users/joelgrus/starred{/owner}{/repo}',\n",
       "   'subscriptions_url': 'https://api.github.com/users/joelgrus/subscriptions',\n",
       "   'organizations_url': 'https://api.github.com/users/joelgrus/orgs',\n",
       "   'repos_url': 'https://api.github.com/users/joelgrus/repos',\n",
       "   'events_url': 'https://api.github.com/users/joelgrus/events{/privacy}',\n",
       "   'received_events_url': 'https://api.github.com/users/joelgrus/received_events',\n",
       "   'type': 'User',\n",
       "   'site_admin': False},\n",
       "  'html_url': 'https://github.com/joelgrus/fire',\n",
       "  'description': 'code for my Ignite Strata talk on Secrets of Fire Truck Society',\n",
       "  'fork': False,\n",
       "  'url': 'https://api.github.com/repos/joelgrus/fire',\n",
       "  'forks_url': 'https://api.github.com/repos/joelgrus/fire/forks',\n",
       "  'keys_url': 'https://api.github.com/repos/joelgrus/fire/keys{/key_id}',\n",
       "  'collaborators_url': 'https://api.github.com/repos/joelgrus/fire/collaborators{/collaborator}',\n",
       "  'teams_url': 'https://api.github.com/repos/joelgrus/fire/teams',\n",
       "  'hooks_url': 'https://api.github.com/repos/joelgrus/fire/hooks',\n",
       "  'issue_events_url': 'https://api.github.com/repos/joelgrus/fire/issues/events{/number}',\n",
       "  'events_url': 'https://api.github.com/repos/joelgrus/fire/events',\n",
       "  'assignees_url': 'https://api.github.com/repos/joelgrus/fire/assignees{/user}',\n",
       "  'branches_url': 'https://api.github.com/repos/joelgrus/fire/branches{/branch}',\n",
       "  'tags_url': 'https://api.github.com/repos/joelgrus/fire/tags',\n",
       "  'blobs_url': 'https://api.github.com/repos/joelgrus/fire/git/blobs{/sha}',\n",
       "  'git_tags_url': 'https://api.github.com/repos/joelgrus/fire/git/tags{/sha}',\n",
       "  'git_refs_url': 'https://api.github.com/repos/joelgrus/fire/git/refs{/sha}',\n",
       "  'trees_url': 'https://api.github.com/repos/joelgrus/fire/git/trees{/sha}',\n",
       "  'statuses_url': 'https://api.github.com/repos/joelgrus/fire/statuses/{sha}',\n",
       "  'languages_url': 'https://api.github.com/repos/joelgrus/fire/languages',\n",
       "  'stargazers_url': 'https://api.github.com/repos/joelgrus/fire/stargazers',\n",
       "  'contributors_url': 'https://api.github.com/repos/joelgrus/fire/contributors',\n",
       "  'subscribers_url': 'https://api.github.com/repos/joelgrus/fire/subscribers',\n",
       "  'subscription_url': 'https://api.github.com/repos/joelgrus/fire/subscription',\n",
       "  'commits_url': 'https://api.github.com/repos/joelgrus/fire/commits{/sha}',\n",
       "  'git_commits_url': 'https://api.github.com/repos/joelgrus/fire/git/commits{/sha}',\n",
       "  'comments_url': 'https://api.github.com/repos/joelgrus/fire/comments{/number}',\n",
       "  'issue_comment_url': 'https://api.github.com/repos/joelgrus/fire/issues/comments{/number}',\n",
       "  'contents_url': 'https://api.github.com/repos/joelgrus/fire/contents/{+path}',\n",
       "  'compare_url': 'https://api.github.com/repos/joelgrus/fire/compare/{base}...{head}',\n",
       "  'merges_url': 'https://api.github.com/repos/joelgrus/fire/merges',\n",
       "  'archive_url': 'https://api.github.com/repos/joelgrus/fire/{archive_format}{/ref}',\n",
       "  'downloads_url': 'https://api.github.com/repos/joelgrus/fire/downloads',\n",
       "  'issues_url': 'https://api.github.com/repos/joelgrus/fire/issues{/number}',\n",
       "  'pulls_url': 'https://api.github.com/repos/joelgrus/fire/pulls{/number}',\n",
       "  'milestones_url': 'https://api.github.com/repos/joelgrus/fire/milestones{/number}',\n",
       "  'notifications_url': 'https://api.github.com/repos/joelgrus/fire/notifications{?since,all,participating}',\n",
       "  'labels_url': 'https://api.github.com/repos/joelgrus/fire/labels{/name}',\n",
       "  'releases_url': 'https://api.github.com/repos/joelgrus/fire/releases{/id}',\n",
       "  'deployments_url': 'https://api.github.com/repos/joelgrus/fire/deployments',\n",
       "  'created_at': '2013-02-22T00:12:38Z',\n",
       "  'updated_at': '2019-10-02T16:10:18Z',\n",
       "  'pushed_at': '2014-11-13T03:38:32Z',\n",
       "  'git_url': 'git://github.com/joelgrus/fire.git',\n",
       "  'ssh_url': 'git@github.com:joelgrus/fire.git',\n",
       "  'clone_url': 'https://github.com/joelgrus/fire.git',\n",
       "  'svn_url': 'https://github.com/joelgrus/fire',\n",
       "  'homepage': None,\n",
       "  'size': 152,\n",
       "  'stargazers_count': 4,\n",
       "  'watchers_count': 4,\n",
       "  'language': 'Python',\n",
       "  'has_issues': True,\n",
       "  'has_projects': True,\n",
       "  'has_downloads': True,\n",
       "  'has_wiki': True,\n",
       "  'has_pages': False,\n",
       "  'forks_count': 2,\n",
       "  'mirror_url': None,\n",
       "  'archived': False,\n",
       "  'disabled': False,\n",
       "  'open_issues_count': 0,\n",
       "  'license': None,\n",
       "  'forks': 2,\n",
       "  'open_issues': 0,\n",
       "  'watchers': 4,\n",
       "  'default_branch': 'master'},\n",
       " {'id': 59386749,\n",
       "  'node_id': 'MDEwOlJlcG9zaXRvcnk1OTM4Njc0OQ==',\n",
       "  'name': 'fizz-buzz-tensorflow',\n",
       "  'full_name': 'joelgrus/fizz-buzz-tensorflow',\n",
       "  'private': False,\n",
       "  'owner': {'login': 'joelgrus',\n",
       "   'id': 1308313,\n",
       "   'node_id': 'MDQ6VXNlcjEzMDgzMTM=',\n",
       "   'avatar_url': 'https://avatars1.githubusercontent.com/u/1308313?v=4',\n",
       "   'gravatar_id': '',\n",
       "   'url': 'https://api.github.com/users/joelgrus',\n",
       "   'html_url': 'https://github.com/joelgrus',\n",
       "   'followers_url': 'https://api.github.com/users/joelgrus/followers',\n",
       "   'following_url': 'https://api.github.com/users/joelgrus/following{/other_user}',\n",
       "   'gists_url': 'https://api.github.com/users/joelgrus/gists{/gist_id}',\n",
       "   'starred_url': 'https://api.github.com/users/joelgrus/starred{/owner}{/repo}',\n",
       "   'subscriptions_url': 'https://api.github.com/users/joelgrus/subscriptions',\n",
       "   'organizations_url': 'https://api.github.com/users/joelgrus/orgs',\n",
       "   'repos_url': 'https://api.github.com/users/joelgrus/repos',\n",
       "   'events_url': 'https://api.github.com/users/joelgrus/events{/privacy}',\n",
       "   'received_events_url': 'https://api.github.com/users/joelgrus/received_events',\n",
       "   'type': 'User',\n",
       "   'site_admin': False},\n",
       "  'html_url': 'https://github.com/joelgrus/fizz-buzz-tensorflow',\n",
       "  'description': 'fizz buzz in tensorflow',\n",
       "  'fork': False,\n",
       "  'url': 'https://api.github.com/repos/joelgrus/fizz-buzz-tensorflow',\n",
       "  'forks_url': 'https://api.github.com/repos/joelgrus/fizz-buzz-tensorflow/forks',\n",
       "  'keys_url': 'https://api.github.com/repos/joelgrus/fizz-buzz-tensorflow/keys{/key_id}',\n",
       "  'collaborators_url': 'https://api.github.com/repos/joelgrus/fizz-buzz-tensorflow/collaborators{/collaborator}',\n",
       "  'teams_url': 'https://api.github.com/repos/joelgrus/fizz-buzz-tensorflow/teams',\n",
       "  'hooks_url': 'https://api.github.com/repos/joelgrus/fizz-buzz-tensorflow/hooks',\n",
       "  'issue_events_url': 'https://api.github.com/repos/joelgrus/fizz-buzz-tensorflow/issues/events{/number}',\n",
       "  'events_url': 'https://api.github.com/repos/joelgrus/fizz-buzz-tensorflow/events',\n",
       "  'assignees_url': 'https://api.github.com/repos/joelgrus/fizz-buzz-tensorflow/assignees{/user}',\n",
       "  'branches_url': 'https://api.github.com/repos/joelgrus/fizz-buzz-tensorflow/branches{/branch}',\n",
       "  'tags_url': 'https://api.github.com/repos/joelgrus/fizz-buzz-tensorflow/tags',\n",
       "  'blobs_url': 'https://api.github.com/repos/joelgrus/fizz-buzz-tensorflow/git/blobs{/sha}',\n",
       "  'git_tags_url': 'https://api.github.com/repos/joelgrus/fizz-buzz-tensorflow/git/tags{/sha}',\n",
       "  'git_refs_url': 'https://api.github.com/repos/joelgrus/fizz-buzz-tensorflow/git/refs{/sha}',\n",
       "  'trees_url': 'https://api.github.com/repos/joelgrus/fizz-buzz-tensorflow/git/trees{/sha}',\n",
       "  'statuses_url': 'https://api.github.com/repos/joelgrus/fizz-buzz-tensorflow/statuses/{sha}',\n",
       "  'languages_url': 'https://api.github.com/repos/joelgrus/fizz-buzz-tensorflow/languages',\n",
       "  'stargazers_url': 'https://api.github.com/repos/joelgrus/fizz-buzz-tensorflow/stargazers',\n",
       "  'contributors_url': 'https://api.github.com/repos/joelgrus/fizz-buzz-tensorflow/contributors',\n",
       "  'subscribers_url': 'https://api.github.com/repos/joelgrus/fizz-buzz-tensorflow/subscribers',\n",
       "  'subscription_url': 'https://api.github.com/repos/joelgrus/fizz-buzz-tensorflow/subscription',\n",
       "  'commits_url': 'https://api.github.com/repos/joelgrus/fizz-buzz-tensorflow/commits{/sha}',\n",
       "  'git_commits_url': 'https://api.github.com/repos/joelgrus/fizz-buzz-tensorflow/git/commits{/sha}',\n",
       "  'comments_url': 'https://api.github.com/repos/joelgrus/fizz-buzz-tensorflow/comments{/number}',\n",
       "  'issue_comment_url': 'https://api.github.com/repos/joelgrus/fizz-buzz-tensorflow/issues/comments{/number}',\n",
       "  'contents_url': 'https://api.github.com/repos/joelgrus/fizz-buzz-tensorflow/contents/{+path}',\n",
       "  'compare_url': 'https://api.github.com/repos/joelgrus/fizz-buzz-tensorflow/compare/{base}...{head}',\n",
       "  'merges_url': 'https://api.github.com/repos/joelgrus/fizz-buzz-tensorflow/merges',\n",
       "  'archive_url': 'https://api.github.com/repos/joelgrus/fizz-buzz-tensorflow/{archive_format}{/ref}',\n",
       "  'downloads_url': 'https://api.github.com/repos/joelgrus/fizz-buzz-tensorflow/downloads',\n",
       "  'issues_url': 'https://api.github.com/repos/joelgrus/fizz-buzz-tensorflow/issues{/number}',\n",
       "  'pulls_url': 'https://api.github.com/repos/joelgrus/fizz-buzz-tensorflow/pulls{/number}',\n",
       "  'milestones_url': 'https://api.github.com/repos/joelgrus/fizz-buzz-tensorflow/milestones{/number}',\n",
       "  'notifications_url': 'https://api.github.com/repos/joelgrus/fizz-buzz-tensorflow/notifications{?since,all,participating}',\n",
       "  'labels_url': 'https://api.github.com/repos/joelgrus/fizz-buzz-tensorflow/labels{/name}',\n",
       "  'releases_url': 'https://api.github.com/repos/joelgrus/fizz-buzz-tensorflow/releases{/id}',\n",
       "  'deployments_url': 'https://api.github.com/repos/joelgrus/fizz-buzz-tensorflow/deployments',\n",
       "  'created_at': '2016-05-21T23:57:23Z',\n",
       "  'updated_at': '2020-04-20T13:56:30Z',\n",
       "  'pushed_at': '2018-02-07T07:54:57Z',\n",
       "  'git_url': 'git://github.com/joelgrus/fizz-buzz-tensorflow.git',\n",
       "  'ssh_url': 'git@github.com:joelgrus/fizz-buzz-tensorflow.git',\n",
       "  'clone_url': 'https://github.com/joelgrus/fizz-buzz-tensorflow.git',\n",
       "  'svn_url': 'https://github.com/joelgrus/fizz-buzz-tensorflow',\n",
       "  'homepage': None,\n",
       "  'size': 69632,\n",
       "  'stargazers_count': 782,\n",
       "  'watchers_count': 782,\n",
       "  'language': 'Jupyter Notebook',\n",
       "  'has_issues': True,\n",
       "  'has_projects': True,\n",
       "  'has_downloads': True,\n",
       "  'has_wiki': True,\n",
       "  'has_pages': False,\n",
       "  'forks_count': 74,\n",
       "  'mirror_url': None,\n",
       "  'archived': False,\n",
       "  'disabled': False,\n",
       "  'open_issues_count': 5,\n",
       "  'license': {'key': 'unlicense',\n",
       "   'name': 'The Unlicense',\n",
       "   'spdx_id': 'Unlicense',\n",
       "   'url': 'https://api.github.com/licenses/unlicense',\n",
       "   'node_id': 'MDc6TGljZW5zZTE1'},\n",
       "  'forks': 74,\n",
       "  'open_issues': 5,\n",
       "  'watchers': 782,\n",
       "  'default_branch': 'master'}]"
      ]
     },
     "execution_count": 68,
     "metadata": {},
     "output_type": "execute_result"
    }
   ],
   "source": [
    "import requests, json\n",
    "endpoint = \"https://api.github.com/users/joelgrus/repos\"\n",
    "\n",
    "repos = json.loads(requests.get(endpoint).text)\n",
    "repos"
   ]
  },
  {
   "cell_type": "code",
   "execution_count": 69,
   "metadata": {
    "slideshow": {
     "slide_type": "slide"
    }
   },
   "outputs": [
    {
     "name": "stdout",
     "output_type": "stream",
     "text": [
      "Counter({11: 5, 12: 4, 9: 4, 7: 4, 2: 3, 1: 3, 5: 3, 8: 2, 6: 1, 4: 1})\n",
      "Counter({4: 7, 2: 7, 1: 5, 5: 4, 6: 4, 3: 2, 0: 1})\n"
     ]
    }
   ],
   "source": [
    "from dateutil.parser import parse\n",
    "\n",
    "dates = [parse(repo[\"created_at\"]) for repo in repos]\n",
    "month_counts = Counter(date.month for date in dates)\n",
    "weekday_counts = Counter(date.weekday() for date in dates)\n",
    "\n",
    "print(month_counts)\n",
    "print(weekday_counts)"
   ]
  },
  {
   "cell_type": "code",
   "execution_count": 70,
   "metadata": {
    "scrolled": true,
    "slideshow": {
     "slide_type": "slide"
    }
   },
   "outputs": [
    {
     "data": {
      "text/plain": [
       "['Python', None, 'Python', 'Python', 'HTML']"
      ]
     },
     "execution_count": 70,
     "metadata": {},
     "output_type": "execute_result"
    }
   ],
   "source": [
    "last_5_repositories = sorted(repos,\n",
    "                             key=lambda r: r[\"created_at\"],\n",
    "                             reverse=True)[:5]\n",
    "\n",
    "last_5_languages = [repo[\"language\"]\n",
    "                    for repo in last_5_repositories]\n",
    "\n",
    "last_5_languages"
   ]
  },
  {
   "cell_type": "markdown",
   "metadata": {
    "slideshow": {
     "slide_type": "slide"
    }
   },
   "source": [
    "### Finding APIs\n",
    "\n",
    "- Try searching the Web for “python __ api” to find a library\n",
    "- Klout API, Yelp API, IMDB API, and so on.\n",
    "- <a href=\"http://bit.ly/1L35VOR\">Python for Beginners</a>\n",
    "- <a href=\"http://www.programmableweb.com\">Programmable Web</a>\n",
    "- <a href=\"https://www.data.go.kr/\">공공데이터포털</a>\n",
    "\n",
    "- Big Data: API의 시대\n",
    "\n",
    "https://www.data.go.kr/dataset/15000583/openapi.do\n",
    "\n",
    "https://www.data.go.kr/dataset/15003419/fileData.do"
   ]
  },
  {
   "cell_type": "markdown",
   "metadata": {
    "slideshow": {
     "slide_type": "slide"
    }
   },
   "source": [
    "## Example: Using the Twitter APIs"
   ]
  },
  {
   "cell_type": "markdown",
   "metadata": {
    "slideshow": {
     "slide_type": "slide"
    }
   },
   "source": [
    "### Getting Credentials"
   ]
  },
  {
   "cell_type": "markdown",
   "metadata": {
    "slideshow": {
     "slide_type": "fragment"
    }
   },
   "source": [
    "1. Go to https://apps.twitter.com/.\n",
    "2. If you are not signed in, click Sign in and enter your Twitter username and password.\n",
    "3. Click Create New App.\n",
    "4. Give it a name (such as “Data Science”) and a description, and put any URL as the website (it doesn’t matter which one).\n",
    "5. Agree to the Terms of Service and click Create.\n",
    "6. Take note of the consumer key and consumer secret.\n",
    "7. Click “Create my access token.”\n",
    "8. Take note of the access token and access token secret (you may have to refresh the page)."
   ]
  },
  {
   "cell_type": "markdown",
   "metadata": {
    "slideshow": {
     "slide_type": "slide"
    }
   },
   "source": [
    "### Using Twython\n",
    "\n",
    "- First we’ll look at the Search API, which requires only the consumer key and secret, not the access token or secret\n",
    "- Twitter search:\n",
    "    - https://developer.twitter.com/en/docs/tweets/search/overview\n",
    "- Twitter search API data format:\n",
    "    - https://developer.twitter.com/en/docs/tweets/search/api-reference/get-search-tweets.html"
   ]
  },
  {
   "cell_type": "markdown",
   "metadata": {
    "slideshow": {
     "slide_type": "skip"
    }
   },
   "source": [
    "install twython"
   ]
  },
  {
   "cell_type": "code",
   "execution_count": 71,
   "metadata": {
    "slideshow": {
     "slide_type": "skip"
    }
   },
   "outputs": [],
   "source": [
    "CONSUMER_KEY=\".....\"\n",
    "CONSUMER_SECRET=\".....\""
   ]
  },
  {
   "cell_type": "code",
   "execution_count": 72,
   "metadata": {
    "scrolled": false,
    "slideshow": {
     "slide_type": "skip"
    }
   },
   "outputs": [
    {
     "ename": "ModuleNotFoundError",
     "evalue": "No module named 'twython'",
     "output_type": "error",
     "traceback": [
      "\u001b[1;31m---------------------------------------------------------------------------\u001b[0m",
      "\u001b[1;31mModuleNotFoundError\u001b[0m                       Traceback (most recent call last)",
      "\u001b[1;32m<ipython-input-72-7e243357091f>\u001b[0m in \u001b[0;36m<module>\u001b[1;34m\u001b[0m\n\u001b[1;32m----> 1\u001b[1;33m \u001b[1;32mfrom\u001b[0m \u001b[0mtwython\u001b[0m \u001b[1;32mimport\u001b[0m \u001b[0mTwython\u001b[0m\u001b[1;33m\u001b[0m\u001b[1;33m\u001b[0m\u001b[0m\n\u001b[0m\u001b[0;32m      2\u001b[0m \u001b[1;33m\u001b[0m\u001b[0m\n\u001b[0;32m      3\u001b[0m \u001b[0mtwitter\u001b[0m \u001b[1;33m=\u001b[0m \u001b[0mTwython\u001b[0m\u001b[1;33m(\u001b[0m\u001b[0mCONSUMER_KEY\u001b[0m\u001b[1;33m,\u001b[0m \u001b[0mCONSUMER_SECRET\u001b[0m\u001b[1;33m)\u001b[0m\u001b[1;33m\u001b[0m\u001b[1;33m\u001b[0m\u001b[0m\n\u001b[0;32m      4\u001b[0m \u001b[1;33m\u001b[0m\u001b[0m\n\u001b[0;32m      5\u001b[0m \u001b[1;31m# search for tweets containing the phrase \"data science\"\u001b[0m\u001b[1;33m\u001b[0m\u001b[1;33m\u001b[0m\u001b[1;33m\u001b[0m\u001b[0m\n",
      "\u001b[1;31mModuleNotFoundError\u001b[0m: No module named 'twython'"
     ]
    }
   ],
   "source": [
    "from twython import Twython\n",
    "\n",
    "twitter = Twython(CONSUMER_KEY, CONSUMER_SECRET)\n",
    "\n",
    "# search for tweets containing the phrase \"data science\"\n",
    "for status in twitter.search(q='\"trump\"')[\"statuses\"]:\n",
    "    user = status[\"user\"][\"screen_name\"].encode('utf-8')\n",
    "    text = status[\"text\"].encode('utf-8')\n",
    "    print(user, \":\", text)\n",
    "    print()"
   ]
  },
  {
   "cell_type": "code",
   "execution_count": null,
   "metadata": {
    "slideshow": {
     "slide_type": "slide"
    }
   },
   "outputs": [],
   "source": [
    "from twython import Twython\n",
    "\n",
    "# fill these in if you want to use the code\n",
    "CONSUMER_KEY = \"...\"\n",
    "CONSUMER_SECRET = \"...\"\n",
    "ACCESS_TOKEN = \"...\"\n",
    "ACCESS_TOKEN_SECRET = \"...\"\n",
    "\n",
    "def call_twitter_search_api():\n",
    "\n",
    "    twitter = Twython(CONSUMER_KEY, CONSUMER_SECRET)\n",
    "\n",
    "    # search for tweets containing the phrase \"data science\"\n",
    "    for status in twitter.search(q='\"data science\"')[\"statuses\"]:\n",
    "        user = status[\"user\"][\"screen_name\"].encode('utf-8')\n",
    "        text = status[\"text\"].encode('utf-8')\n",
    "        print(user, \":\", text)\n",
    "        print()\n",
    "\n",
    "from twython import TwythonStreamer\n",
    "\n",
    "# appending data to a global variable is pretty poor form\n",
    "# but it makes the example much simpler\n",
    "tweets = []\n",
    "\n",
    "class MyStreamer(TwythonStreamer):\n",
    "    \"\"\"our own subclass of TwythonStreamer that specifies\n",
    "    how to interact with the stream\"\"\"\n",
    "\n",
    "    def on_success(self, data):\n",
    "        \"\"\"what do we do when twitter sends us data?\n",
    "        here data will be a Python object representing a tweet\"\"\"\n",
    "\n",
    "        # only want to collect English-language tweets\n",
    "        if data['lang'] == 'en':\n",
    "            tweets.append(data)\n",
    "\n",
    "        # stop when we've collected enough\n",
    "        #if len(tweets) >= 1000:\n",
    "        if len(tweets) >= 10:\n",
    "            self.disconnect()\n",
    "\n",
    "    def on_error(self, status_code, data):\n",
    "        print(status_code, data)\n",
    "        self.disconnect()\n",
    "\n",
    "def call_twitter_streaming_api():\n",
    "    stream = MyStreamer(CONSUMER_KEY, CONSUMER_SECRET,\n",
    "                        ACCESS_TOKEN, ACCESS_TOKEN_SECRET)\n",
    "\n",
    "    # starts consuming public statuses that contain the keyword 'data'\n",
    "    stream.statuses.filter(track='trump')\n"
   ]
  },
  {
   "cell_type": "code",
   "execution_count": null,
   "metadata": {
    "slideshow": {
     "slide_type": "skip"
    }
   },
   "outputs": [],
   "source": [
    "def call_twitter_search_api():\n",
    "\n",
    "    twitter = Twython(CONSUMER_KEY, CONSUMER_SECRET)\n",
    "\n",
    "    # search for tweets containing the phrase \"data science\"\n",
    "    for status in twitter.search(q='\"김정은\"')[\"statuses\"]:\n",
    "        user = status[\"user\"][\"screen_name\"]\n",
    "        text = status[\"text\"]\n",
    "        print(user, \":\", text)\n",
    "        print()"
   ]
  },
  {
   "cell_type": "code",
   "execution_count": null,
   "metadata": {
    "slideshow": {
     "slide_type": "skip"
    }
   },
   "outputs": [],
   "source": [
    "for status in twitter.search(q='\"손흥민\"')[\"statuses\"]:\n",
    "    user = status[\"user\"][\"screen_name\"]\n",
    "    text = status[\"text\"]\n",
    "    print(user, \":\", text)\n",
    "    print()"
   ]
  }
 ],
 "metadata": {
  "celltoolbar": "Slideshow",
  "hide_input": false,
  "kernelspec": {
   "display_name": "Python 3",
   "language": "python",
   "name": "python3"
  },
  "language_info": {
   "codemirror_mode": {
    "name": "ipython",
    "version": 3
   },
   "file_extension": ".py",
   "mimetype": "text/x-python",
   "name": "python",
   "nbconvert_exporter": "python",
   "pygments_lexer": "ipython3",
   "version": "3.8.3"
  }
 },
 "nbformat": 4,
 "nbformat_minor": 2
}
