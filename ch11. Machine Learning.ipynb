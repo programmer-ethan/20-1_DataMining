{
 "cells": [
  {
   "cell_type": "markdown",
   "metadata": {},
   "source": [
    "Machine Learning"
   ]
  },
  {
   "cell_type": "markdown",
   "metadata": {},
   "source": [
    "Model\n",
    "a specification of a mathematical (or probabilistic) relationship that exists between different variables"
   ]
  },
  {
   "cell_type": "markdown",
   "metadata": {},
   "source": [
    "machine learning\n",
    "creating and using models that are learned from data.\n",
    "also called predictive modeling or data mining\n",
    "Examples:\n",
    "Predicting whether an email message is spam or not\n",
    "Predicting whether a credit card transaction is fraudulent\n",
    "Predicting which advertisement a shopper is most likely to click on\n",
    "Predicting which football team is going to win the Super Bowl\n"
   ]
  },
  {
   "cell_type": "markdown",
   "metadata": {},
   "source": [
    "supervised models\n",
    "There is a set of data labeled with the correct answers to learn from\n",
    "Regression\n",
    "Classification\n",
    "unsupervised models\n",
    "There are no such labels\n",
    "Clustering\n",
    "Anomaly detection\n",
    "Association\n",
    "Topic Modelling\n",
    "Autoencoders\n"
   ]
  },
  {
   "cell_type": "code",
   "execution_count": 1,
   "metadata": {},
   "outputs": [
    {
     "data": {
      "text/html": [
       "<div>\n",
       "<style scoped>\n",
       "    .dataframe tbody tr th:only-of-type {\n",
       "        vertical-align: middle;\n",
       "    }\n",
       "\n",
       "    .dataframe tbody tr th {\n",
       "        vertical-align: top;\n",
       "    }\n",
       "\n",
       "    .dataframe thead th {\n",
       "        text-align: right;\n",
       "    }\n",
       "</style>\n",
       "<table border=\"1\" class=\"dataframe\">\n",
       "  <thead>\n",
       "    <tr style=\"text-align: right;\">\n",
       "      <th></th>\n",
       "      <th>sepal length (cm)</th>\n",
       "      <th>sepal width (cm)</th>\n",
       "      <th>petal length (cm)</th>\n",
       "      <th>petal width (cm)</th>\n",
       "    </tr>\n",
       "  </thead>\n",
       "  <tbody>\n",
       "    <tr>\n",
       "      <th>0</th>\n",
       "      <td>5.1</td>\n",
       "      <td>3.5</td>\n",
       "      <td>1.4</td>\n",
       "      <td>0.2</td>\n",
       "    </tr>\n",
       "    <tr>\n",
       "      <th>1</th>\n",
       "      <td>4.9</td>\n",
       "      <td>3.0</td>\n",
       "      <td>1.4</td>\n",
       "      <td>0.2</td>\n",
       "    </tr>\n",
       "    <tr>\n",
       "      <th>2</th>\n",
       "      <td>4.7</td>\n",
       "      <td>3.2</td>\n",
       "      <td>1.3</td>\n",
       "      <td>0.2</td>\n",
       "    </tr>\n",
       "    <tr>\n",
       "      <th>3</th>\n",
       "      <td>4.6</td>\n",
       "      <td>3.1</td>\n",
       "      <td>1.5</td>\n",
       "      <td>0.2</td>\n",
       "    </tr>\n",
       "    <tr>\n",
       "      <th>4</th>\n",
       "      <td>5.0</td>\n",
       "      <td>3.6</td>\n",
       "      <td>1.4</td>\n",
       "      <td>0.2</td>\n",
       "    </tr>\n",
       "  </tbody>\n",
       "</table>\n",
       "</div>"
      ],
      "text/plain": [
       "   sepal length (cm)  sepal width (cm)  petal length (cm)  petal width (cm)\n",
       "0                5.1               3.5                1.4               0.2\n",
       "1                4.9               3.0                1.4               0.2\n",
       "2                4.7               3.2                1.3               0.2\n",
       "3                4.6               3.1                1.5               0.2\n",
       "4                5.0               3.6                1.4               0.2"
      ]
     },
     "execution_count": 1,
     "metadata": {},
     "output_type": "execute_result"
    }
   ],
   "source": [
    "from sklearn.datasets import load_iris\n",
    "import pandas as pd\n",
    "iris = load_iris()\n",
    "iris_df = pd.DataFrame(iris.data, columns=iris.feature_names)\n",
    "iris_df.head(5)"
   ]
  },
  {
   "cell_type": "code",
   "execution_count": 2,
   "metadata": {},
   "outputs": [
    {
     "data": {
      "text/html": [
       "<div>\n",
       "<style scoped>\n",
       "    .dataframe tbody tr th:only-of-type {\n",
       "        vertical-align: middle;\n",
       "    }\n",
       "\n",
       "    .dataframe tbody tr th {\n",
       "        vertical-align: top;\n",
       "    }\n",
       "\n",
       "    .dataframe thead th {\n",
       "        text-align: right;\n",
       "    }\n",
       "</style>\n",
       "<table border=\"1\" class=\"dataframe\">\n",
       "  <thead>\n",
       "    <tr style=\"text-align: right;\">\n",
       "      <th></th>\n",
       "      <th>0</th>\n",
       "    </tr>\n",
       "  </thead>\n",
       "  <tbody>\n",
       "    <tr>\n",
       "      <th>0</th>\n",
       "      <td>0</td>\n",
       "    </tr>\n",
       "    <tr>\n",
       "      <th>1</th>\n",
       "      <td>0</td>\n",
       "    </tr>\n",
       "  </tbody>\n",
       "</table>\n",
       "</div>"
      ],
      "text/plain": [
       "   0\n",
       "0  0\n",
       "1  0"
      ]
     },
     "execution_count": 2,
     "metadata": {},
     "output_type": "execute_result"
    }
   ],
   "source": [
    "iris_target_df = pd.DataFrame(iris.target)\n",
    "iris_target_df.head(2)"
   ]
  },
  {
   "cell_type": "code",
   "execution_count": 3,
   "metadata": {},
   "outputs": [],
   "source": [
    "import matplotlib.pyplot as plt\n",
    "from sklearn.manifold import TSNE\n",
    "import numpy as np\n",
    "def plot_tsne(data, target, target_names, learning_rate=100, perplexity=30):\n",
    "    model = TSNE(learning_rate=learning_rate, perplexity=perplexity) #, metric='euclidean')\n",
    "    embedded = model.fit_transform(data)\n",
    "    xs = embedded[:,0]\n",
    "    ys = embedded[:,1]\n",
    "    for t in np.unique(target):\n",
    "        i = np.where(target == t)\n",
    "        plt.scatter(xs[i], ys[i], label=target_names[t])\n",
    " # plt.scatter(xs,ys,c=target,label=target)\n",
    "    plt.legend(loc=1)\n",
    "    plt.show()\n"
   ]
  },
  {
   "cell_type": "code",
   "execution_count": 4,
   "metadata": {},
   "outputs": [
    {
     "data": {
      "image/png": "[encoded data removed]",
      "text/plain": [
       "<Figure size 432x288 with 1 Axes>"
      ]
     },
     "metadata": {
      "needs_background": "light"
     },
     "output_type": "display_data"
    }
   ],
   "source": [
    "plot_tsne(iris.data, iris.target, iris.target_names)\n",
    "# print(iris.data)"
   ]
  },
  {
   "cell_type": "markdown",
   "metadata": {},
   "source": [
    "Take a look at YELP dataset\n",
    "If you use iris.data for training, it is unsupervised learning\n",
    "If you use iris.data and iris.target, it is supervised learning\n",
    "Preparing dataset for supervised learning is very expensive.\n",
    "Think about YELP dataset, too.\n",
    "https://www.yelp.com/dataset/challenge (https://www.yelp.com/dataset/challenge)"
   ]
  },
  {
   "cell_type": "code",
   "execution_count": 5,
   "metadata": {},
   "outputs": [
    {
     "data": {
      "image/png": "[encoded data removed]",
      "text/plain": [
       "<Figure size 432x288 with 1 Axes>"
      ]
     },
     "metadata": {
      "needs_background": "light"
     },
     "output_type": "display_data"
    }
   ],
   "source": [
    "from sklearn import datasets\n",
    "digits = datasets.load_digits()\n",
    "plot_tsne(digits.data, digits.target, digits.target_names)"
   ]
  },
  {
   "cell_type": "markdown",
   "metadata": {},
   "source": [
    "What we usually do\n",
    "Choose a parameterized family of models and then use data to learn parameters that are in some way\n",
    "optimal.\n",
    "Examples:\n",
    "A person’s height is (roughly) a linear function of his weight and then use data to learn what that linear\n",
    "function is.\n",
    "We might assume that a decision tree is a good way to diagnose what diseases our patients have and\n",
    "then use data to learn the “optimal” such tree"
   ]
  },
  {
   "cell_type": "markdown",
   "metadata": {},
   "source": [
    "Overfitting\n",
    "A common danger in machine learning is overfitting\n",
    "producing a model that performs well on the data you train it on\n",
    "but that generalizes poorly to any new data.\n",
    "This could involve learning noise in the data.\n",
    "Or it could involve learning to identify specific inputs rather than whatever factors are actually predictive for\n",
    "the desired output."
   ]
  },
  {
   "cell_type": "markdown",
   "metadata": {},
   "source": [
    "Underfitting\n",
    "producing a model that doesn’t perform well even on the training data\n",
    "Typically when this happens you decide your model isn’t good enough and keep looking for a better one."
   ]
  },
  {
   "cell_type": "markdown",
   "metadata": {},
   "source": [
    "Underfitting:\n",
    "The horizontal line shows the best fit degree 0 (i.e., constant) polynomial. It severely underfits the training\n",
    "data.\n",
    "Overfitting\n",
    "The best fit degree 9 (i.e., 10-parameter) polynomial goes through every training data point exactly, but it\n",
    "very severely overfits — if we were to pick a few more data points it would quite likely miss them by a lot.\n",
    "Best fitting\n",
    "And the degree 1 line strikes a nice balance — it’s pretty close to every point, and (if these data are\n",
    "representative) the line will likely be close to new data points as well."
   ]
  },
  {
   "cell_type": "markdown",
   "metadata": {},
   "source": [
    "Model complexity\n",
    "Clearly models that are too complex lead to overfitting\n",
    "and don’t generalize well beyond the data they were trained on."
   ]
  },
  {
   "cell_type": "markdown",
   "metadata": {},
   "source": [
    "Occam's razor\n",
    "Exactly what Occam said: “More things should not be used than are necessary”.\n",
    "\"Simpler solutions are more likely to be correct than complex ones.\"\n",
    "https://en.wikipedia.org/wiki/Occam%27s_razor#Science_and_the_scientific_method\n",
    "(https://en.wikipedia.org/wiki/Occam%27s_razor#Science_and_the_scientific_method)"
   ]
  },
  {
   "cell_type": "markdown",
   "metadata": {},
   "source": [
    "To avoid overfitting\n",
    "Use different data to train the model and to test the model.\n",
    "Training dataset\n",
    "Test dataset\n",
    "When you should choose from among many models:\n",
    "Training dataset\n",
    "Validation set for choosing among trained models\n",
    "Test dataset"
   ]
  },
  {
   "cell_type": "code",
   "execution_count": 7,
   "metadata": {},
   "outputs": [],
   "source": [
    "def split_data(data, prob):\n",
    "    \"\"\"split data into fractions [prob, 1 - prob]\"\"\"\n",
    "    results = [], []\n",
    "    for row in data:\n",
    "        results[0 if random.random() < prob else 1].append(row)\n",
    "    return results\n",
    "def train_test_split(x, y, test_pct):\n",
    "    data = list(zip(x, y)) # pair corresponding values\n",
    "    train, test = split_data(data, 1 - test_pct) # split the dataset of pairs\n",
    "    x_train, y_train = list(zip(*train)) # magical un-zip trick\n",
    "    x_test, y_test = list(zip(*test))\n",
    "    return x_train, x_test, y_train, y_test"
   ]
  },
  {
   "cell_type": "markdown",
   "metadata": {},
   "source": [
    "Use sklearn's train_test_split"
   ]
  },
  {
   "cell_type": "code",
   "execution_count": 8,
   "metadata": {},
   "outputs": [
    {
     "name": "stdout",
     "output_type": "stream",
     "text": [
      "[[ 0  1]\n",
      " [ 2  3]\n",
      " [ 4  5]\n",
      " [ 6  7]\n",
      " [ 8  9]\n",
      " [10 11]]\n",
      "[0, 1, 2, 3, 4, 5]\n",
      "[[6 7]\n",
      " [0 1]\n",
      " [2 3]\n",
      " [8 9]] [3, 0, 1, 4]\n",
      "[[10 11]\n",
      " [ 4  5]] [5, 2]\n"
     ]
    }
   ],
   "source": [
    "import numpy as np\n",
    "from sklearn.model_selection import train_test_split\n",
    "X, y = np.arange(12).reshape((6, 2)), list(range(6))\n",
    "print(X)\n",
    "print(y)\n",
    "X_train, X_test, y_train, y_test = train_test_split(X, y, test_size=0.33)\n",
    "print(X_train, y_train)\n",
    "print(X_test, y_test)"
   ]
  },
  {
   "cell_type": "markdown",
   "metadata": {},
   "source": [
    "A Story\n",
    "I developed a cheap, noninvasive test that can be given to a newborn baby that predicts — with greater\n",
    "than 98% accuracy — whether the newborn will ever develop leukemia.\n",
    "My lawyer has convinced me the test is unpatentable.\n",
    "The truth is \"Predict leukemia if and only if the baby is named Luke\", which sounds sort of like “leukemia”\n",
    "why we don’t typically use “accuracy” to measure how good a model is."
   ]
  },
  {
   "cell_type": "markdown",
   "metadata": {},
   "source": [
    "Suppose a model to make a binary judgment.\n",
    "Is this email spam?\n",
    "Should we hire this candidate?\n",
    "Is this air traveler secretly a terrorist?\n",
    "AI judges whether a suspect is guilty or not\n",
    "Doctor decides whether a patient has a cancer or not"
   ]
  },
  {
   "cell_type": "markdown",
   "metadata": {},
   "source": [
    "Correctness"
   ]
  },
  {
   "cell_type": "markdown",
   "metadata": {},
   "source": [
    "accuracy\n",
    "the fraction of correct predictions:"
   ]
  },
  {
   "cell_type": "code",
   "execution_count": 9,
   "metadata": {},
   "outputs": [],
   "source": [
    "def accuracy(tp, fp, fn, tn):\n",
    "    correct = tp + tn\n",
    "    total = tp + fp + fn + tn\n",
    "    return correct / total"
   ]
  },
  {
   "cell_type": "code",
   "execution_count": 10,
   "metadata": {},
   "outputs": [
    {
     "name": "stdout",
     "output_type": "stream",
     "text": [
      "accuracy(70, 4930, 13930, 981070) = 0.98114\n"
     ]
    }
   ],
   "source": [
    "print(\"accuracy(70, 4930, 13930, 981070) = {}\".format(accuracy(70, 4930, 13930, 981070)))"
   ]
  },
  {
   "cell_type": "markdown",
   "metadata": {},
   "source": [
    "precision, recall, f1_score\n",
    "Precision measures how accurate our positive predictions were\n",
    "Recall measures what fraction of the positives our model identified\n",
    "F1 score: precision and recall are combined\n",
    "This is the harmonic mean of precision and recall and necessarily lies between them"
   ]
  },
  {
   "cell_type": "code",
   "execution_count": 11,
   "metadata": {},
   "outputs": [],
   "source": [
    "def precision(tp, fp, fn, tn):\n",
    "    return tp / (tp + fp)\n",
    "def recall(tp, fp, fn, tn):\n",
    "    return tp / (tp + fn)\n",
    "def f1_score(tp, fp, fn, tn):\n",
    "    p = precision(tp, fp, fn, tn)\n",
    "    r = recall(tp, fp, fn, tn)\n",
    "    return 2 * p * r / (p + r)"
   ]
  },
  {
   "cell_type": "code",
   "execution_count": 12,
   "metadata": {},
   "outputs": [
    {
     "name": "stdout",
     "output_type": "stream",
     "text": [
      "precision(70, 4930, 13930, 981070) = 0.014\n",
      "recall(70, 4930, 13930, 981070) = 0.005\n",
      "f1_score(70, 4930, 13930, 981070) = 0.00736842105263158\n"
     ]
    }
   ],
   "source": [
    "print(\"precision(70, 4930, 13930, 981070) = {}\".format(precision(70, 4930, 13930, 981070)))\n",
    "print(\"recall(70, 4930, 13930, 981070) = {}\".format(recall(70, 4930, 13930, 981070)))\n",
    "print(\"f1_score(70, 4930, 13930, 981070) = {}\".format(f1_score(70, 4930, 13930, 981070)))"
   ]
  },
  {
   "cell_type": "markdown",
   "metadata": {},
   "source": [
    "Use sklearn confusion matrix and classification_report:\n",
    "Note that sklearn confusion is \"Actual vs predicted\" (sklearn)\n",
    "Predicted vs actual (our textbook)\n",
    "If you want to read in our textbook format, transpose the confusion matrix"
   ]
  },
  {
   "cell_type": "code",
   "execution_count": 13,
   "metadata": {},
   "outputs": [
    {
     "name": "stdout",
     "output_type": "stream",
     "text": [
      "[[2 1]\n",
      " [0 3]]\n"
     ]
    }
   ],
   "source": [
    "from sklearn.metrics import confusion_matrix, classification_report\n",
    "y_true = [\"cat\", \"ant\", \"cat\", \"cat\", \"ant\", \"cat\"]\n",
    "y_pred = [\"ant\", \"ant\", \"cat\", \"cat\", \"ant\", \"cat\"]\n",
    "print(confusion_matrix(y_true, y_pred, labels=[\"ant\", \"cat\"]).T)"
   ]
  },
  {
   "cell_type": "code",
   "execution_count": 14,
   "metadata": {},
   "outputs": [
    {
     "name": "stdout",
     "output_type": "stream",
     "text": [
      "              precision    recall  f1-score   support\n",
      "\n",
      "         ant       0.67      1.00      0.80         2\n",
      "         cat       1.00      0.75      0.86         4\n",
      "\n",
      "    accuracy                           0.83         6\n",
      "   macro avg       0.83      0.88      0.83         6\n",
      "weighted avg       0.89      0.83      0.84         6\n",
      "\n"
     ]
    }
   ],
   "source": [
    "print(classification_report(y_true, y_pred, labels=[\"ant\", \"cat\"]))"
   ]
  },
  {
   "cell_type": "code",
   "execution_count": 15,
   "metadata": {},
   "outputs": [
    {
     "name": "stdout",
     "output_type": "stream",
     "text": [
      "[[2 1 0]\n",
      " [0 3 0]\n",
      " [0 0 2]]\n",
      "              precision    recall  f1-score   support\n",
      "\n",
      "         ant       0.67      1.00      0.80         2\n",
      "         cat       1.00      0.75      0.86         4\n",
      "        bird       1.00      1.00      1.00         2\n",
      "\n",
      "    accuracy                           0.88         8\n",
      "   macro avg       0.89      0.92      0.89         8\n",
      "weighted avg       0.92      0.88      0.88         8\n",
      "\n"
     ]
    }
   ],
   "source": [
    "from sklearn.metrics import confusion_matrix, classification_report\n",
    "y_true = [\"cat\", \"ant\", \"cat\", \"cat\", \"ant\", \"cat\", \"bird\", \"bird\"]\n",
    "y_pred = [\"ant\", \"ant\", \"cat\", \"cat\", \"ant\", \"cat\", \"bird\", \"bird\"]\n",
    "print(confusion_matrix(y_true, y_pred, labels=[\"ant\", \"cat\", \"bird\"]).T)\n",
    "print(classification_report(y_true, y_pred, labels=[\"ant\", \"cat\", \"bird\"]))"
   ]
  },
  {
   "cell_type": "markdown",
   "metadata": {},
   "source": [
    "Trade-off between precision and recall\n",
    "A model that predicts “yes” when it’s even a little bit confident will probably have a high recall but a low\n",
    "precision;\n",
    "A model that predicts “yes” only when it’s extremely confident is likely to have a low recall and a high\n",
    "precision.\n",
    "Alternatively, you can think of this as a trade-off between false positives and false negatives.\n",
    "Saying “yes” too often will give you lots of false positives\n",
    "Saying “no” too often will give you lots of false negatives\n"
   ]
  },
  {
   "cell_type": "code",
   "execution_count": null,
   "metadata": {},
   "outputs": [],
   "source": []
  }
 ],
 "metadata": {
  "kernelspec": {
   "display_name": "Python 3",
   "language": "python",
   "name": "python3"
  },
  "language_info": {
   "codemirror_mode": {
    "name": "ipython",
    "version": 3
   },
   "file_extension": ".py",
   "mimetype": "text/x-python",
   "name": "python",
   "nbconvert_exporter": "python",
   "pygments_lexer": "ipython3",
   "version": "3.7.6"
  }
 },
 "nbformat": 4,
 "nbformat_minor": 4
}
