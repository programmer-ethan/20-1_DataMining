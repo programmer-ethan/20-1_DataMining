{
 "cells": [
  {
   "cell_type": "markdown",
   "metadata": {},
   "source": [
    "# Homework 5. Pandas - Titanic"
   ]
  },
  {
   "cell_type": "markdown",
   "metadata": {},
   "source": [
    "## IMPORTANT: \n",
    "- Do NOT use numpy or matplotlib functions. Use Pandas functions. \n",
    "- Remember we are praticing pandas!"
   ]
  },
  {
   "cell_type": "code",
   "execution_count": 1,
   "metadata": {},
   "outputs": [],
   "source": [
    "import pandas as pd"
   ]
  },
  {
   "cell_type": "code",
   "execution_count": 2,
   "metadata": {},
   "outputs": [],
   "source": [
    "titanic = pd.read_csv('titanic_dataset.csv')"
   ]
  },
  {
   "cell_type": "markdown",
   "metadata": {},
   "source": [
    "## Problem 1. Find mean fare that the first class passengers paid (In Korean current currency) (5 pts)\n",
    "- Note that there are many unpaid free passengers. **Do NOT take unpaid free passengers into consideration.**\n",
    "- 1 pound when Titanic launched is worth 57.5 US dollars. \n",
    "- Suppose US currency exchange ratio is 1230 won per dollar."
   ]
  },
  {
   "cell_type": "code",
   "execution_count": 3,
   "metadata": {},
   "outputs": [
    {
     "name": "stdout",
     "output_type": "stream",
     "text": [
      "mean fare the first class passengers paid = 6326173.16\n"
     ]
    }
   ],
   "source": [
    "# YOUR CODE HERE\n",
    "pound=titanic['fare'][titanic.pclass==1][titanic.fare!=0].mean()\n",
    "won=pound*57.5*1230\n",
    "print(\"mean fare the first class passengers paid =\",format(won,\".2f\"))"
   ]
  },
  {
   "cell_type": "markdown",
   "metadata": {},
   "source": [
    "```\n",
    "mean fare that the first class passengers paid = 6326173.16\n",
    "```"
   ]
  },
  {
   "cell_type": "markdown",
   "metadata": {},
   "source": [
    "## Problem 2. (15 pts)\n",
    "### 2.1 Find the **name**s who paid the highest **fare**. Are they **survived**?"
   ]
  },
  {
   "cell_type": "code",
   "execution_count": 4,
   "metadata": {},
   "outputs": [
    {
     "name": "stdout",
     "output_type": "stream",
     "text": [
      "                                                  name  survived\n",
      "49                  Cardeza, Mr. Thomas Drake Martinez         1\n",
      "50   Cardeza, Mrs. James Warburton Martinez (Charlo...         1\n",
      "183                             Lesurer, Mr. Gustave J         1\n",
      "302                                   Ward, Miss. Anna         1\n"
     ]
    }
   ],
   "source": [
    "# YOUR CODE HERE\n",
    "max_fare=titanic.fare.max()\n",
    "rich=titanic[['name','survived']][titanic.fare==max_fare]\n",
    "print(rich)"
   ]
  },
  {
   "cell_type": "markdown",
   "metadata": {},
   "source": [
    "```\n",
    "                                                  name  survived\n",
    "49                  Cardeza, Mr. Thomas Drake Martinez         1\n",
    "50   Cardeza, Mrs. James Warburton Martinez (Charlo...         1\n",
    "183                             Lesurer, Mr. Gustave J         1\n",
    "302                                   Ward, Miss. Anna         1\n",
    "```"
   ]
  },
  {
   "cell_type": "markdown",
   "metadata": {},
   "source": [
    "### 2.2 Find the **name**s who paid the lowest **fare**. Are they **survived**?"
   ]
  },
  {
   "cell_type": "code",
   "execution_count": 5,
   "metadata": {},
   "outputs": [
    {
     "name": "stdout",
     "output_type": "stream",
     "text": [
      "                                       name  pclass  survived\n",
      "7                    Andrews, Mr. Thomas Jr       1         0\n",
      "70    Chisholm, Mr. Roderick Robert Crispin       1         0\n",
      "125                        Fry, Mr. Richard       1         0\n",
      "150                   Harrison, Mr. William       1         0\n",
      "170                 Ismay, Mr. Joseph Bruce       1         1\n",
      "223           Parr, Mr. William Henry Marsh       1         0\n",
      "234         Reuchlin, Jonkheer. John George       1         0\n",
      "363                   Campbell, Mr. William       2         0\n",
      "384          Cunningham, Mr. Alfred Fleming       2         0\n",
      "410        Frost, Mr. Anthony Wood \"Archie\"       2         0\n",
      "473                    Knight, Mr. Robert J       2         0\n",
      "528             Parkes, Mr. Francis \"Frank\"       2         0\n",
      "581              Watson, Mr. Ennis Hastings       2         0\n",
      "896                     Johnson, Mr. Alfred       3         0\n",
      "898         Johnson, Mr. William Cahoone Jr       3         0\n",
      "963                     Leonard, Mr. Lionel       3         0\n",
      "1254           Tornquist, Mr. William Henry       3         1\n"
     ]
    }
   ],
   "source": [
    "# YOUR CODE HERE\n",
    "min_fare=titanic.fare.min()\n",
    "people=titanic[titanic.fare==min_fare][['name','pclass','survived']]\n",
    "print(people)"
   ]
  },
  {
   "cell_type": "markdown",
   "metadata": {},
   "source": [
    "```\n",
    "                                       name  pclass  survived\n",
    "7                    Andrews, Mr. Thomas Jr       1         0\n",
    "70    Chisholm, Mr. Roderick Robert Crispin       1         0\n",
    "125                        Fry, Mr. Richard       1         0\n",
    "150                   Harrison, Mr. William       1         0\n",
    "170                 Ismay, Mr. Joseph Bruce       1         1\n",
    "223           Parr, Mr. William Henry Marsh       1         0\n",
    "234         Reuchlin, Jonkheer. John George       1         0\n",
    "363                   Campbell, Mr. William       2         0\n",
    "384          Cunningham, Mr. Alfred Fleming       2         0\n",
    "410        Frost, Mr. Anthony Wood \"Archie\"       2         0\n",
    "473                    Knight, Mr. Robert J       2         0\n",
    "528             Parkes, Mr. Francis \"Frank\"       2         0\n",
    "581              Watson, Mr. Ennis Hastings       2         0\n",
    "896                     Johnson, Mr. Alfred       3         0\n",
    "898         Johnson, Mr. William Cahoone Jr       3         0\n",
    "963                     Leonard, Mr. Lionel       3         0\n",
    "1254           Tornquist, Mr. William Henry       3         1\n",
    "```"
   ]
  },
  {
   "cell_type": "markdown",
   "metadata": {},
   "source": [
    "### 2.3 Find the **name**s who paid the lowest **fare** (> 0). Are they **survived**?"
   ]
  },
  {
   "cell_type": "code",
   "execution_count": 6,
   "metadata": {},
   "outputs": [
    {
     "name": "stdout",
     "output_type": "stream",
     "text": [
      "                           name  pclass  survived\n",
      "1082  Olsen, Master. Artur Karl       3         1\n"
     ]
    }
   ],
   "source": [
    "# YOUR CODE HERE\n",
    "min_fare=titanic.fare[titanic.fare!=0].min()\n",
    "people=titanic[titanic.fare==min_fare][['name','pclass','survived']]\n",
    "print(people)"
   ]
  },
  {
   "cell_type": "markdown",
   "metadata": {},
   "source": [
    "```\n",
    "                           name  pclass  survived\n",
    "1082  Olsen, Master. Artur Karl       3         1\n",
    "```"
   ]
  },
  {
   "cell_type": "markdown",
   "metadata": {},
   "source": [
    "## Problem 3. (10 pts)\n",
    "### 3.1 Find the survival ratio who paid more than 0 and less than or equal to the mean fare of third class"
   ]
  },
  {
   "cell_type": "code",
   "execution_count": 7,
   "metadata": {},
   "outputs": [
    {
     "name": "stdout",
     "output_type": "stream",
     "text": [
      "survived ratio of low 1 group = 25.33%\n"
     ]
    }
   ],
   "source": [
    "# YOUR CODE HERE\n",
    "avg_fare=titanic.fare[titanic.pclass==3][titanic.fare!=0].mean()\n",
    "x=titanic.name[titanic.fare!=0][titanic.fare<=avg_fare].size\n",
    "y=titanic.name[titanic.fare!=0][titanic.fare<=avg_fare][titanic.survived==1].size # survived\n",
    "ratio=y/x\n",
    "print(\"survived ratio of low 1 group =\",format(ratio,\".2%\"))"
   ]
  },
  {
   "cell_type": "markdown",
   "metadata": {},
   "source": [
    "```\n",
    "survived ratio of low 1 group = 25.33%\n",
    "```"
   ]
  },
  {
   "cell_type": "markdown",
   "metadata": {},
   "source": [
    "### 3.2 Find the survival ratio who paid more than the mean fare of first class"
   ]
  },
  {
   "cell_type": "code",
   "execution_count": 8,
   "metadata": {},
   "outputs": [
    {
     "name": "stdout",
     "output_type": "stream",
     "text": [
      "survived ratio of high 1 group = 72.16%\n"
     ]
    }
   ],
   "source": [
    "# YOUR CODE HERE\n",
    "avg_fare=titanic.fare[titanic.pclass==1].mean()\n",
    "n=titanic[titanic.fare>avg_fare]\n",
    "x,_=n.shape\n",
    "survivor=n[n.survived==1]\n",
    "y,_=survivor.shape\n",
    "ratio=y/x\n",
    "print(\"survived ratio of high 1 group =\",format(ratio,\".2%\"))"
   ]
  },
  {
   "cell_type": "markdown",
   "metadata": {},
   "source": [
    "```\n",
    "survived ratio of high 1 group = 72.16%\n",
    "```"
   ]
  },
  {
   "cell_type": "markdown",
   "metadata": {},
   "source": [
    "## Problem 4. (10 pts)\n",
    "### 4.1 Plot the number of male and female passengers"
   ]
  },
  {
   "cell_type": "code",
   "execution_count": 9,
   "metadata": {
    "scrolled": true
   },
   "outputs": [
    {
     "data": {
      "image/png": "[encoded data removed]",
      "text/plain": [
       "<Figure size 432x288 with 1 Axes>"
      ]
     },
     "metadata": {
      "needs_background": "light"
     },
     "output_type": "display_data"
    }
   ],
   "source": [
    "# YOUR CODE HERE\n",
    "%matplotlib inline\n",
    "from pandas import DataFrame\n",
    "import matplotlib.pyplot as plt\n",
    "x=titanic.name[titanic.sex=='female'].size\n",
    "y=titanic.name[titanic.sex=='male'].size\n",
    "name={'name': [x,y]}\n",
    "d=DataFrame(name,index=['female','male'])\n",
    "d.plot(kind='bar')\n",
    "plt.xlabel(\"sex\")\n",
    "plt.show()"
   ]
  },
  {
   "cell_type": "markdown",
   "metadata": {},
   "source": [
    "<img src=\"hw5_1.png\">"
   ]
  },
  {
   "cell_type": "markdown",
   "metadata": {},
   "source": [
    "### 4.2 Plot mean age and mean fare by sex"
   ]
  },
  {
   "cell_type": "code",
   "execution_count": 10,
   "metadata": {},
   "outputs": [
    {
     "data": {
      "image/png": "[encoded data removed]",
      "text/plain": [
       "<Figure size 432x288 with 1 Axes>"
      ]
     },
     "metadata": {
      "needs_background": "light"
     },
     "output_type": "display_data"
    }
   ],
   "source": [
    "# YOUR CODE HERE\n",
    "%matplotlib inline\n",
    "from pandas import DataFrame\n",
    "import matplotlib.pyplot as plt\n",
    "female_age=titanic.age[titanic.sex=='female'].mean()\n",
    "male_age=titanic.age[titanic.sex=='male'].mean()\n",
    "female_fare=titanic.fare[titanic.sex=='female'].mean()\n",
    "male_fare=titanic.fare[titanic.sex=='male'].mean()\n",
    "means={'age': [female_age,male_age],\n",
    "         'fare': [female_fare,male_fare]}\n",
    "plotData=DataFrame(means,index=['female','male'])\n",
    "plotData.plot(kind='bar')\n",
    "plt.xlabel(\"sex\")\n",
    "plt.show()"
   ]
  },
  {
   "cell_type": "markdown",
   "metadata": {},
   "source": [
    "<img src=\"hw5_2.png\">"
   ]
  },
  {
   "cell_type": "markdown",
   "metadata": {},
   "source": [
    "## Problem 5. (10 pts)\n",
    "### 5.1 Find the number of passengers by passenger's title."
   ]
  },
  {
   "cell_type": "code",
   "execution_count": 11,
   "metadata": {
    "scrolled": false
   },
   "outputs": [
    {
     "name": "stdout",
     "output_type": "stream",
     "text": [
      "Mr.          757\n",
      "Miss.        260\n",
      "Mrs.         197\n",
      "Master.       61\n",
      "Rev.           8\n",
      "Dr.            8\n",
      "Col.           4\n",
      "Major.         2\n",
      "Ms.            2\n",
      "Mlle.          2\n",
      "Lady.          1\n",
      "Sir.           1\n",
      "Mme.           1\n",
      "Dona.          1\n",
      "Jonkheer.      1\n",
      "Countess.      1\n",
      "Don.           1\n",
      "Capt.          1\n",
      "Name: name, dtype: int64\n"
     ]
    }
   ],
   "source": [
    "# YOUR CODE HERE\n",
    "from pandas import Series\n",
    "import requests, re\n",
    "from collections import Counter\n",
    "regex=re.compile('\\w+\\.')\n",
    "title=[]\n",
    "type(titanic.name)\n",
    "names=titanic.name.values\n",
    "for words in names:\n",
    "    temp=regex.findall(words)\n",
    "    if 'L.'in temp:\n",
    "        temp.remove('L.')\n",
    "    title=title+temp\n",
    "counter= Counter(word for word in title)\n",
    "s=Series(counter).sort_values(ascending=False)#index\n",
    "s.name=\"name\"\n",
    "print(s)"
   ]
  },
  {
   "cell_type": "markdown",
   "metadata": {},
   "source": [
    "```\n",
    " Mr.          757\n",
    " Miss.        260\n",
    " Mrs.         197\n",
    " Master.       61\n",
    " Rev.           8\n",
    " Dr.            8\n",
    " Col.           4\n",
    " Ms.            2\n",
    " Mlle.          2\n",
    " Major.         2\n",
    " Jonkheer.      1\n",
    " Sir.           1\n",
    " Capt.          1\n",
    " Countess.      1\n",
    " Lady.          1\n",
    " Don.           1\n",
    " Mme.           1\n",
    " Dona.          1\n",
    "Name: name, dtype: int64\n",
    "```"
   ]
  },
  {
   "cell_type": "markdown",
   "metadata": {},
   "source": [
    "### 5.2 Plot the mean fare by passenger's title"
   ]
  },
  {
   "cell_type": "code",
   "execution_count": 12,
   "metadata": {},
   "outputs": [
    {
     "data": {
      "image/png": "[encoded data removed]",
      "text/plain": [
       "<Figure size 432x288 with 1 Axes>"
      ]
     },
     "metadata": {
      "needs_background": "light"
     },
     "output_type": "display_data"
    }
   ],
   "source": [
    "# YOUR CODE HERE\n",
    "mean_fare_title=[]\n",
    "titanic['title']=title\n",
    "titanic\n",
    "sorted_titles=sorted(counter)\n",
    "for sorted_title in sorted_titles:\n",
    "    mean_fare_title.append(titanic.fare[titanic.title==sorted_title].mean())\n",
    "mean_fare={'fare':mean_fare_title}\n",
    "d=DataFrame(mean_fare,index=sorted_titles)\n",
    "d.plot(kind='bar')\n",
    "plt.xlabel(\"name\")\n",
    "plt.show()"
   ]
  },
  {
   "cell_type": "markdown",
   "metadata": {},
   "source": [
    "<img src=\"hw5_3.png\">"
   ]
  },
  {
   "cell_type": "markdown",
   "metadata": {},
   "source": [
    "## Problem 6. (15 pts)\n",
    "### Compute the confidence and support for the following cases:\n",
    "- Print probability in percent format and truncate all probability values to 2 decimal places\n",
    "\n",
    "Confidences:\n",
    "- P(survived = 1 | sex=female, pclass=1)\n",
    "- P(survived = 1 | sex=female, pclass=2)\n",
    "- P(survived = 1 | sex=female, pclass=3)\n",
    "- P(survived = 1 | sex=male, pclass=1)\n",
    "- P(survived = 1 | sex=male, pclass=2)\n",
    "- P(survived = 1 | sex=male, pclass=3)\n",
    "- P(survived = 1 | age <= 10, pclass=1)\n",
    "- P(survived = 1 | age <= 10, pclass=2)\n",
    "- P(survived = 1 | age <= 10, pclass=3)\n",
    "\n",
    "Support:\n",
    "- P(survived = 1, sex=female, pclass=1)\n",
    "- P(survived = 1, sex=female, pclass=2)\n",
    "- P(survived = 1, sex=female, pclass=3)\n",
    "- P(survived = 1, sex=male, pclass=1)\n",
    "- P(survived = 1, sex=male, pclass=2)\n",
    "- P(survived = 1, sex=male, pclass=3)\n",
    "- P(survived = 1, age <= 10, pclass=1)\n",
    "- P(survived = 1, age <= 10, pclass=2)\n",
    "- P(survived = 1, age <= 10, pclass=3)"
   ]
  },
  {
   "cell_type": "markdown",
   "metadata": {},
   "source": [
    "### 6.1 P(survived = 1 | sex=female, pclass=1), P(survived = 1, sex=female, pclass=1)"
   ]
  },
  {
   "cell_type": "code",
   "execution_count": 13,
   "metadata": {},
   "outputs": [
    {
     "name": "stdout",
     "output_type": "stream",
     "text": [
      "Confidence: P(survived = 1 | sex=female, pclass=1) = 96.53\n",
      "Support: P(survived = 1, sex=female, pclass=1) = 10.62\n"
     ]
    }
   ],
   "source": [
    "# YOUR CODE HERE\n",
    "y1=titanic.name[(titanic.survived==1) & (titanic.sex=='female') & (titanic.pclass==1)].size\n",
    "x1=titanic.name.size\n",
    "x2=titanic.name[(titanic.sex=='female') & (titanic.pclass==1)].size\n",
    "confidences=100*y1/x2\n",
    "support=100*y1/x1\n",
    "print(\"Confidence: P(survived = 1 | sex=female, pclass=1) =\",format(confidences,\".2f\"))\n",
    "print(\"Support: P(survived = 1, sex=female, pclass=1) =\",format(support,\".2f\"))"
   ]
  },
  {
   "cell_type": "markdown",
   "metadata": {},
   "source": [
    "```\n",
    "Confidence: P(survived = 1 | sex=female, pclass=1) = 96.53\n",
    "Support: P(survived = 1, sex=female, pclass=1) = 10.62\n",
    "```"
   ]
  },
  {
   "cell_type": "markdown",
   "metadata": {},
   "source": [
    "### 6.2 P(survived = 1 | sex=female, pclass=2), P(survived = 1, sex=female, pclass=2)"
   ]
  },
  {
   "cell_type": "code",
   "execution_count": 14,
   "metadata": {},
   "outputs": [
    {
     "name": "stdout",
     "output_type": "stream",
     "text": [
      "Confidence: P(survived = 1 | sex=female, pclass=2) = 88.68\n",
      "Support: P(survived = 1, sex=female, pclass=2) = 7.18\n"
     ]
    }
   ],
   "source": [
    "# YOUR CODE HERE\n",
    "y1=titanic.name[(titanic.survived==1) & (titanic.sex=='female') & (titanic.pclass==2)].size\n",
    "x1=titanic.name.size\n",
    "x2=titanic.name[(titanic.sex=='female') & (titanic.pclass==2)].size\n",
    "confidences=100*y1/x2\n",
    "support=100*y1/x1\n",
    "print(\"Confidence: P(survived = 1 | sex=female, pclass=2) =\",format(confidences,\".2f\"))\n",
    "print(\"Support: P(survived = 1, sex=female, pclass=2) =\",format(support,\".2f\"))"
   ]
  },
  {
   "cell_type": "markdown",
   "metadata": {},
   "source": [
    "```\n",
    "Confidence: P(survived = 1 | sex=female, pclass=2) = 88.68\n",
    "Support: P(survived = 1, sex=female, pclass=2) = 7.18\n",
    "```"
   ]
  },
  {
   "cell_type": "markdown",
   "metadata": {},
   "source": [
    "### 6.3 P(survived = 1 | sex=female, pclass=3), P(survived = 1, sex=female, pclass=3)"
   ]
  },
  {
   "cell_type": "code",
   "execution_count": 15,
   "metadata": {},
   "outputs": [
    {
     "name": "stdout",
     "output_type": "stream",
     "text": [
      "Confidence: P(survived = 1 | sex=female, pclass=3) = 49.07\n",
      "Support: P(survived = 1, sex=female, pclass=3) = 8.10\n"
     ]
    }
   ],
   "source": [
    "# YOUR CODE HERE\n",
    "y1=titanic.name[(titanic.survived==1) & (titanic.sex=='female') & (titanic.pclass==3)].size\n",
    "x1=titanic.name.size\n",
    "x2=titanic.name[(titanic.sex=='female') & (titanic.pclass==3)].size\n",
    "confidences=100*y1/x2\n",
    "support=100*y1/x1\n",
    "print(\"Confidence: P(survived = 1 | sex=female, pclass=3) =\",format(confidences,\".2f\"))\n",
    "print(\"Support: P(survived = 1, sex=female, pclass=3) =\",format(support,\".2f\"))"
   ]
  },
  {
   "cell_type": "markdown",
   "metadata": {},
   "source": [
    "```\n",
    "Confidence: P(survived = 1 | sex=female, pclass=3) = 49.07\n",
    "Support: P(survived = 1, sex=female, pclass=3) = 8.10\n",
    "```"
   ]
  },
  {
   "cell_type": "markdown",
   "metadata": {},
   "source": [
    "### 6.4 P(survived = 1 | sex=male, pclass=1), P(survived = 1, sex=male, pclass=1)"
   ]
  },
  {
   "cell_type": "code",
   "execution_count": 16,
   "metadata": {},
   "outputs": [
    {
     "name": "stdout",
     "output_type": "stream",
     "text": [
      "Confidence: P(survived = 1 | sex=male, pclass=1) = 34.08\n",
      "Support: P(survived = 1, sex=male, pclass=1) = 4.66\n"
     ]
    }
   ],
   "source": [
    "# YOUR CODE HERE\n",
    "y1=titanic.name[(titanic.survived==1) & (titanic.sex=='male') & (titanic.pclass==1)].size\n",
    "x1=titanic.name.size\n",
    "x2=titanic.name[(titanic.sex=='male') & (titanic.pclass==1)].size\n",
    "confidences=100*y1/x2\n",
    "support=100*y1/x1\n",
    "print(\"Confidence: P(survived = 1 | sex=male, pclass=1) =\",format(confidences,\".2f\"))\n",
    "print(\"Support: P(survived = 1, sex=male, pclass=1) =\",format(support,\".2f\"))"
   ]
  },
  {
   "cell_type": "markdown",
   "metadata": {},
   "source": [
    "```\n",
    "Confidence: P(survived = 1 | sex=male, pclass=1) = 34.08\n",
    "Support: P(survived = 1, sex=male, pclass=1) = 4.66\n",
    "```"
   ]
  },
  {
   "cell_type": "markdown",
   "metadata": {},
   "source": [
    "### 6.5 P(survived = 1 | sex=male, pclass=2), P(survived = 1, sex=male, pclass=2)"
   ]
  },
  {
   "cell_type": "code",
   "execution_count": 17,
   "metadata": {},
   "outputs": [
    {
     "name": "stdout",
     "output_type": "stream",
     "text": [
      "Confidence: P(survived = 1 | sex=male, pclass=2) = 14.62\n",
      "Support: P(survived = 1, sex=male, pclass=2) = 1.91\n"
     ]
    }
   ],
   "source": [
    "# YOUR CODE HERE\n",
    "y1=titanic.name[(titanic.survived==1) & (titanic.sex=='male') & (titanic.pclass==2)].size\n",
    "x1=titanic.name.size\n",
    "x2=titanic.name[(titanic.sex=='male') & (titanic.pclass==2)].size\n",
    "confidences=100*y1/x2\n",
    "support=100*y1/x1\n",
    "print(\"Confidence: P(survived = 1 | sex=male, pclass=2) =\",format(confidences,\".2f\"))\n",
    "print(\"Support: P(survived = 1, sex=male, pclass=2) =\",format(support,\".2f\"))"
   ]
  },
  {
   "cell_type": "markdown",
   "metadata": {},
   "source": [
    "```\n",
    "Confidence: P(survived = 1 | sex=male, pclass=2) = 14.62\n",
    "Support: P(survived = 1, sex=male, pclass=2) = 1.91\n",
    "```"
   ]
  },
  {
   "cell_type": "markdown",
   "metadata": {},
   "source": [
    "### 6.6 P(survived = 1 | sex=male, pclass=3), P(survived = 1, sex=male, pclass=3)"
   ]
  },
  {
   "cell_type": "code",
   "execution_count": 18,
   "metadata": {},
   "outputs": [
    {
     "name": "stdout",
     "output_type": "stream",
     "text": [
      "Confidence: P(survived = 1 | sex=male, pclass=3) = 15.21\n",
      "Support: P(survived = 1, sex=male, pclass=3) = 5.73\n"
     ]
    }
   ],
   "source": [
    "# YOUR CODE HERE\n",
    "y1=titanic.name[(titanic.survived==1) & (titanic.sex=='male') & (titanic.pclass==3)].size\n",
    "x1=titanic.name.size\n",
    "x2=titanic.name[(titanic.sex=='male') & (titanic.pclass==3)].size\n",
    "confidences=100*y1/x2\n",
    "support=100*y1/x1\n",
    "print(\"Confidence: P(survived = 1 | sex=male, pclass=3) =\",format(confidences,\".2f\"))\n",
    "print(\"Support: P(survived = 1, sex=male, pclass=3) =\",format(support,\".2f\"))"
   ]
  },
  {
   "cell_type": "markdown",
   "metadata": {},
   "source": [
    "```\n",
    "Confidence: P(survived = 1 | sex=male, pclass=3) = 15.21\n",
    "Support: P(survived = 1, sex=male, pclass=3) = 5.73\n",
    "```"
   ]
  },
  {
   "cell_type": "markdown",
   "metadata": {},
   "source": [
    "### 6.7 P(survived = 1 | age <= 10, pclass=1), P(survived = 1, age <= 10, pclass=1)"
   ]
  },
  {
   "cell_type": "code",
   "execution_count": 19,
   "metadata": {},
   "outputs": [
    {
     "name": "stdout",
     "output_type": "stream",
     "text": [
      "Confidence: P(survived = 1 | age <= 10, pclass=1) = 75.00\n",
      "Support: P(survived = 1, age <= 10, pclass=1) = 0.23\n"
     ]
    }
   ],
   "source": [
    "# YOUR CODE HERE\n",
    "y1=titanic.name[(titanic.survived==1) & (titanic.age<=10) & (titanic.pclass==1)].size\n",
    "x1=titanic.name.size\n",
    "x2=titanic.name[(titanic.age<=10) & (titanic.pclass==1)].size\n",
    "confidences=100*y1/x2\n",
    "support=100*y1/x1\n",
    "print(\"Confidence: P(survived = 1 | age <= 10, pclass=1) =\",format(confidences,\".2f\"))\n",
    "print(\"Support: P(survived = 1, age <= 10, pclass=1) =\",format(support,\".2f\"))"
   ]
  },
  {
   "cell_type": "markdown",
   "metadata": {},
   "source": [
    "```\n",
    "Confidence: P(survived = 1 | age <= 10, pclass=1) = 75.00\n",
    "Support: P(survived = 1, age <= 10, pclass=1) = 0.23\n",
    "```"
   ]
  },
  {
   "cell_type": "markdown",
   "metadata": {},
   "source": [
    "### 6.8 P(survived = 1 | age <= 10, pclass=2), P(survived = 1, age <= 10, pclass=2)"
   ]
  },
  {
   "cell_type": "code",
   "execution_count": 20,
   "metadata": {},
   "outputs": [
    {
     "name": "stdout",
     "output_type": "stream",
     "text": [
      "Confidence: P(survived = 1 | age <= 10, pclass=2) = 100.00\n",
      "Support: P(survived = 1, age <= 10, pclass=2) = 1.68\n"
     ]
    }
   ],
   "source": [
    "# YOUR CODE HERE\n",
    "y1=titanic.name[(titanic.survived==1) & (titanic.age<=10) & (titanic.pclass==2)].size\n",
    "x1=titanic.name.size\n",
    "x2=titanic.name[(titanic.age<=10) & (titanic.pclass==2)].size\n",
    "confidences=100*y1/x2\n",
    "support=100*y1/x1\n",
    "print(\"Confidence: P(survived = 1 | age <= 10, pclass=2) =\",format(confidences,\".2f\"))\n",
    "print(\"Support: P(survived = 1, age <= 10, pclass=2) =\",format(support,\".2f\"))"
   ]
  },
  {
   "cell_type": "markdown",
   "metadata": {},
   "source": [
    "```\n",
    "Confidence: P(survived = 1 | age <= 10, pclass=2) = 100.00\n",
    "Support: P(survived = 1, age <= 10, pclass=2) = 1.68\n",
    "```"
   ]
  },
  {
   "cell_type": "markdown",
   "metadata": {},
   "source": [
    "### 6.9 P(survived = 1 | age <= 10, pclass=3), P(survived = 1, age <= 10, pclass=3)"
   ]
  },
  {
   "cell_type": "code",
   "execution_count": 21,
   "metadata": {},
   "outputs": [
    {
     "name": "stdout",
     "output_type": "stream",
     "text": [
      "Confidence: P(survived = 1 | age <= 10, pclass=3) = 41.67\n",
      "Support: P(survived = 1, age <= 10, pclass=3) = 1.91\n"
     ]
    }
   ],
   "source": [
    "# YOUR CODE HERE\n",
    "y1=titanic.name[(titanic.survived==1) & (titanic.age<=10) & (titanic.pclass==3)].size\n",
    "x1=titanic.name.size\n",
    "x2=titanic.name[(titanic.age<=10) & (titanic.pclass==3)].size\n",
    "confidences=100*y1/x2\n",
    "support=100*y1/x1\n",
    "print(\"Confidence: P(survived = 1 | age <= 10, pclass=3) =\",format(confidences,\".2f\"))\n",
    "print(\"Support: P(survived = 1, age <= 10, pclass=3) =\",format(support,\".2f\"))"
   ]
  },
  {
   "cell_type": "markdown",
   "metadata": {},
   "source": [
    "```\n",
    "Confidence: P(survived = 1 | age <= 10, pclass=3) = 41.67\n",
    "Support: P(survived = 1, age <= 10, pclass=3) = 1.91\n",
    "```"
   ]
  },
  {
   "cell_type": "markdown",
   "metadata": {},
   "source": [
    "### 6.10 Discussion\n",
    "\n",
    "- Discuss what you learned from this analysis\n",
    "- WRITE HERE (To edit, double click this cell)\n",
    "\n"
   ]
  },
  {
   "cell_type": "markdown",
   "metadata": {},
   "source": [
    "## Problem 7. (10 pts)\n",
    "### 7.1 Plot numbers of survived and numbers of dead by passenger classes"
   ]
  },
  {
   "cell_type": "code",
   "execution_count": 22,
   "metadata": {},
   "outputs": [
    {
     "data": {
      "text/plain": [
       "<matplotlib.axes._subplots.AxesSubplot at 0x2b25097af88>"
      ]
     },
     "execution_count": 22,
     "metadata": {},
     "output_type": "execute_result"
    },
    {
     "data": {
      "image/png": "[encoded data removed]",
      "text/plain": [
       "<Figure size 432x288 with 1 Axes>"
      ]
     },
     "metadata": {
      "needs_background": "light"
     },
     "output_type": "display_data"
    }
   ],
   "source": [
    "# YOUR CODE HERE\n",
    "import numpy as np\n",
    "surv_dead=[]\n",
    "\n",
    "xs=['survived','dead']\n",
    "for i in range(3):\n",
    "    x=titanic.name[(titanic.survived==1) & (titanic.pclass==i+1)].size \n",
    "    y=titanic.name[(titanic.survived==0) & (titanic.pclass==i+1)].size\n",
    "    surv_dead.append((x,y))\n",
    "df=DataFrame(surv_dead,columns=xs,index=[1,2,3])\n",
    "df2=df.T\n",
    "df2.plot.bar(stacked=True)"
   ]
  },
  {
   "cell_type": "markdown",
   "metadata": {},
   "source": [
    "<img src=\"hw5_4.png\">"
   ]
  },
  {
   "cell_type": "markdown",
   "metadata": {},
   "source": [
    "### 7.2 Plot numbers of survived and numbers of dead by passenger age intervals\n",
    "-  0:   0 $\\le$ age $\\lt$ 20\n",
    "- 20: 20 $\\le$ age $\\lt$ 40\n",
    "- 40: 40 $\\le$ age $\\lt$ 60\n",
    "- 60: 60 $\\le$ age $\\lt$ 80\n",
    "- 80: 80 $\\le$ age"
   ]
  },
  {
   "cell_type": "code",
   "execution_count": 23,
   "metadata": {},
   "outputs": [
    {
     "data": {
      "text/plain": [
       "<matplotlib.axes._subplots.AxesSubplot at 0x2b250a5a648>"
      ]
     },
     "execution_count": 23,
     "metadata": {},
     "output_type": "execute_result"
    },
    {
     "data": {
      "image/png": "[encoded data removed]",
      "text/plain": [
       "<Figure size 432x288 with 1 Axes>"
      ]
     },
     "metadata": {
      "needs_background": "light"
     },
     "output_type": "display_data"
    }
   ],
   "source": [
    "# YOUR CODE HERE\n",
    "import numpy as np\n",
    "surv_dead=[]\n",
    "xs=['survived','dead']\n",
    "for i in range(5):\n",
    "    x=titanic.name[(titanic.survived==1) & (titanic.age>=i*20.0)& (titanic.age<=(i+1)*20.0)].size\n",
    "    y=titanic.name[(titanic.survived==0) & (titanic.age>=i*20.0)& (titanic.age<=(i+1)*20.0)].size\n",
    "    surv_dead.append((x,y))\n",
    "df=DataFrame(surv_dead,columns=xs,index=[0.0,20.0,40.0,60.0,80.0])\n",
    "df2=df.T\n",
    "df2.plot.bar(stacked=True)"
   ]
  },
  {
   "cell_type": "markdown",
   "metadata": {},
   "source": [
    "<img src=\"hw5_5.png\">"
   ]
  },
  {
   "cell_type": "markdown",
   "metadata": {},
   "source": [
    "### 7.3 Plot numbers of survived and numbers of dead by the ports passenger embarked at"
   ]
  },
  {
   "cell_type": "code",
   "execution_count": 24,
   "metadata": {},
   "outputs": [
    {
     "data": {
      "text/plain": [
       "<matplotlib.axes._subplots.AxesSubplot at 0x2b250b78388>"
      ]
     },
     "execution_count": 24,
     "metadata": {},
     "output_type": "execute_result"
    },
    {
     "data": {
      "image/png": "[encoded data removed]",
      "text/plain": [
       "<Figure size 432x288 with 1 Axes>"
      ]
     },
     "metadata": {
      "needs_background": "light"
     },
     "output_type": "display_data"
    }
   ],
   "source": [
    "# YOUR CODE HERE\n",
    "# YOUR CODE HERE\n",
    "import numpy as np\n",
    "surv_dead=[]\n",
    "xs=['survived','dead']\n",
    "\n",
    "x=titanic.name[(titanic.survived==1) & (titanic.embarked=='S')].size \n",
    "y=titanic.name[(titanic.survived==0) & (titanic.embarked=='S')].size\n",
    "surv_dead.append((x,y))\n",
    "x=titanic.name[(titanic.survived==1) & (titanic.embarked=='C')].size \n",
    "y=titanic.name[(titanic.survived==0) & (titanic.embarked=='C')].size\n",
    "surv_dead.append((x,y))\n",
    "x=titanic.name[(titanic.survived==1) & (titanic.embarked=='Q')].size \n",
    "y=titanic.name[(titanic.survived==0) & (titanic.embarked=='Q')].size\n",
    "surv_dead.append((x,y))\n",
    "df=DataFrame(surv_dead,columns=xs,index=['S','C','Q'])\n",
    "df2=df.T\n",
    "df2.plot.bar(stacked=True)"
   ]
  },
  {
   "cell_type": "markdown",
   "metadata": {},
   "source": [
    "<img src=\"hw5_6.png\">"
   ]
  }
 ],
 "metadata": {
  "hide_input": false,
  "kernelspec": {
   "display_name": "Python 3",
   "language": "python",
   "name": "python3"
  },
  "language_info": {
   "codemirror_mode": {
    "name": "ipython",
    "version": 3
   },
   "file_extension": ".py",
   "mimetype": "text/x-python",
   "name": "python",
   "nbconvert_exporter": "python",
   "pygments_lexer": "ipython3",
   "version": "3.8.3"
  }
 },
 "nbformat": 4,
 "nbformat_minor": 2
}
